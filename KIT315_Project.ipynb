{
  "nbformat": 4,
  "nbformat_minor": 0,
  "metadata": {
    "colab": {
      "provenance": [],
      "collapsed_sections": [
        "X0ppyXNGZ5oD",
        "A4SMtibk_iDy"
      ],
      "authorship_tag": "ABX9TyMXxbjrfO5IOQ+bg2X8x74A",
      "include_colab_link": true
    },
    "kernelspec": {
      "name": "python3",
      "display_name": "Python 3"
    },
    "language_info": {
      "name": "python"
    },
    "accelerator": "GPU",
    "gpuClass": "standard"
  },
  "cells": [
    {
      "cell_type": "markdown",
      "metadata": {
        "id": "view-in-github",
        "colab_type": "text"
      },
      "source": [
        "<a href=\"https://colab.research.google.com/github/billzhao1030/KIT315_Project/blob/KIT/KIT315_Project.ipynb\" target=\"_parent\"><img src=\"https://colab.research.google.com/assets/colab-badge.svg\" alt=\"Open In Colab\"/></a>"
      ]
    },
    {
      "cell_type": "markdown",
      "source": [
        "# ***Introduction***"
      ],
      "metadata": {
        "id": "ByFJlMEiswLJ"
      }
    },
    {
      "cell_type": "markdown",
      "source": [
        "<p align=\"justify\">\n",
        "In this KIT315 project, I developed an machine learning application that can help us detecting and classifying the type of Penguin from images, which would support Antarctic scientific research. There are three types of penguins I need to classify: \n",
        "</p>\n",
        "\n",
        "<ul>\n",
        "  <li><b><i>Aptenodytes Forsteri (Emperor Penguin)</i></b></li>\n",
        "  <li><b><i>Aptenodytes Patagonicus (King Penguin)</i></b></li>\n",
        "  <li><b><i>Pygoscelis Antarciticus (Chinstrap Penguin)</i></b></li>\n",
        "</ul>\n",
        "<br>\n",
        "\n",
        "<p align=\"justify\">\n",
        "In this jupyter notebook, I will describe the most important tasks I did during the ML application development, these include the data preparation, processing, and analysis, model development, evaluation and selection, and how I apply the model to the new data in general cases. \n",
        "</p>\n",
        "<br>\n",
        "\n",
        "*Submission details:*\n",
        "*   *Student Name: Xunyi Zhao (Bill)*\n",
        "*   *Student ID: 560060*\n",
        "*   *Date: 04/09/2022*\n",
        "*   *Environment uses:* [ *Google Colab* ](https://colab.research.google.com/)"
      ],
      "metadata": {
        "id": "P0k3y9Xf9n61"
      }
    },
    {
      "cell_type": "markdown",
      "source": [
        "# ***Motivation and purpose***"
      ],
      "metadata": {
        "id": "da83LSq2M3dA"
      }
    },
    {
      "cell_type": "markdown",
      "source": [
        "<p align=\"justify\"> \n",
        "Penguins, a group of aquatic flightless birds, live almost exclusively in the Southern Hemisphere in Antarctica. Among the 20 living species, the <b>Aptenodytes Forsteri (Emperor Penguin)</b>, <b>Aptenodytes Patagonicus (King Penguin)</b> and <b>Pygoscelis Antarciticus (Chinstrap Penguin)</b> are three of the most common and popular species. \n",
        "</p>\n",
        "<p align=\"justify\"> \n",
        "However, due to the global warming issue and other issues, emperor penguins have already been identified as vulnerable or Near Threatened in the lastest <i>IUCN Red List verison 3.1</i>. Sometimes, we may find one or two penguins are isolated on a floating ice (can't find continent or suitable are for living within 10 kilometres around it).\n",
        "</p>\n",
        "<p align=\"justify\">  \n",
        "Thus, to help researchers detect this situation, and potentially help them to classify the species of the penguins automatically, or count the number of penguins in the specific area, I choose this project and wish to develop an appropriate machine learning application.\n",
        "</p>\n",
        "<br>\n",
        "<p align=\"justify\"> \n",
        "In summary, the purpose of this application is to <b>detect and then identify the species</b> (only from emperor penguins, king penguins and chinstrap penguins due to the time restriction) of penguins live in Antarctica, <b>and count the number of penguins potentially if possible</b>.\n",
        "</p>\n"
      ],
      "metadata": {
        "id": "GbK6wq79NLJ_"
      }
    },
    {
      "cell_type": "markdown",
      "source": [
        "# ***Data Preparation***\n",
        "\n"
      ],
      "metadata": {
        "id": "fwe1YeVSp20U"
      }
    },
    {
      "cell_type": "markdown",
      "source": [
        "<p align=\"justify\"> \n",
        "In this section I will introduce how I collect and annotate the data (using the <a herf=\"https://roboflow.com/\"><i>Roboflow</i></a> tool) which helps achieve good performance of the model development.\n",
        "</p>\n"
      ],
      "metadata": {
        "id": "wVHWfNSRA2Qw"
      }
    },
    {
      "cell_type": "markdown",
      "source": [
        "### ***Data Collecting***"
      ],
      "metadata": {
        "id": "X0ppyXNGZ5oD"
      }
    },
    {
      "cell_type": "markdown",
      "source": [
        "<p align=\"justify\"> \n",
        "In this project, nearly all of the data is collected from <a herf=\"https://images.google.com/\"><i>Google Image </i></a>. These images listed in the Google image are originally from different resources, like videos, original pictures, or even magazines/reports. \n",
        "</p>\n",
        "<p align=\"justify\"> \n",
        "To ensure the quality of the data and helps the model that will be train later achieve good performance, I have already filtered the bad images (for example, image with too many penguins, blurry images, low-resolution images etc.) manually. \n",
        "</p>\n",
        "<p align=\"justify\"> \n",
        "What's more, since the purpose of the application is to detect and then identify the species (and count the number potentially), it's important for me to collect the images that contains different numbers of penguins (only 1 penguin or many penguins), clear to see (the higher resolution, the better), in various context and scenario. Besides, the number of samples and penguin instances should also be large enough, and both penguin adults and chicks (they look pretty different) should be included in the dataset.\n",
        "</p>\n",
        "<p align=\"justify\"> \n",
        "The following are the rules I sticked with to ensure the quality of the data collecting process:\n",
        "</p>\n",
        "<ul>\n",
        "  <li><b><i>If the resolution (image size) of the image is too small, then I won't collect it</i></b></li>\n",
        "  <li><b><i>If the image ratio is too weird (say 16:3, 1:5, which means it's not very square), then I won't collect it</i></b></li>\n",
        "  <li><b><i>If the image contains too many penguins, then I won't collect it</i></b></li>\n",
        "  <li><b><i>If the penguins on the image is drawn by human, or the background is too fake, then I won't collect it</i></b></li>\n",
        "</ul>\n",
        "<br>\n",
        "<p align=\"justify\"> \n",
        "Here are some example images (before annotated and processed) I've collected:\n",
        "</p>"
      ],
      "metadata": {
        "id": "oFgzzZjUZ4kZ"
      }
    },
    {
      "cell_type": "markdown",
      "source": [
        "<p style=\"text-align:center;\">\n",
        "<img src=\"https://drive.google.com/uc?id=1cgxSWK9I5USXEfPSf2NOkVJQ7GCiHZ9y\" alt=\"Chinstrap\" style=\"width: 200px;\"/>\n",
        "<img src=\"https://drive.google.com/uc?id=1nyeAbl6agnV9uhoUhf_6tLcKpFP_s6Px\" alt=\"Emperor\" style=\"width: 390px;\"/>\n",
        "<img src=\"https://drive.google.com/uc?id=180cl1GNv_4MLCWhmImD06Re8dfFJoAQ2\" alt=\"King\" style=\"width: 350px;\"/>\n",
        "<img src=\"https://drive.google.com/uc?id=1d4aCkSi9ySPKayVKAv10GBmCU7uXEHSi\" alt=\"King\" style=\"width: 350px;\"/>\n",
        "<img src=\"https://drive.google.com/uc?id=1vUM6SZyHKcrqF-MuXvCzPeq9f-ASDNOy\" alt=\"Chinstrap\" style=\"width: 350px;\"/>\n",
        "<img src=\"https://drive.google.com/uc?id=1fAhFMmvx1aBKmdbCLGg45LL0_yijeKxO\" alt=\"Emperor\" style=\"width: 350px;\"/>\n",
        "</p>\n"
      ],
      "metadata": {
        "id": "DiWWvKxWXSr2"
      }
    },
    {
      "cell_type": "markdown",
      "source": [
        "### ***Data annotating***"
      ],
      "metadata": {
        "id": "N2rQQTNAaCfj"
      }
    },
    {
      "cell_type": "markdown",
      "source": [
        "<p align=\"justify\"> \n",
        "To annotate the data that I've collected, I used the <a herf=\"https://roboflow.com/\"><i>Roboflow</i></a> tool. This online tool would help us annotate the data and export them quickly. Each types of penguins can be labeled using bounding bo with different colors, and the example screenshot of the data annotating process is as such (please notice that the reason why there has 6 labels in this example image is that Roboflow can modify the class name when generating dataset - see data processing section for more information): \n",
        "</p>\n",
        "<br>\n",
        "<p style=\"text-align:center;\">\n",
        "<img src=\"https://drive.google.com/uc?id=1QCsvRvtE-pR0ixUSuaaE8f1pSqGAHq7c\" alt=\"annotate\" style=\"width: 800px;\"/>\n",
        "</p>\n",
        "\n"
      ],
      "metadata": {
        "id": "MaANCZMKg8Pq"
      }
    },
    {
      "cell_type": "markdown",
      "source": [
        "<p align=\"justify\"> \n",
        "The following are the rules I sticked with to ensure the quality of the data annotating process:\n",
        "</p>\n",
        "<ul>\n",
        "  <li><b><i>Make sure the bounding box cover the whole body of each penguin (like mouth, wing etc.)</i></b></li>\n",
        "  <li><b><i>If the image contains many penguins, and some of the penguins are too small/blurry/not distinctly visible, just annotate the clear penguins that stand in the front *</i></b></li>\n",
        "  <li><b><i>If only the head of the penguin can be seen, make sure to annotate the head</i></b></li>\n",
        "  <li><b><i>Annotate the penguin chick as well</i></b></li>\n",
        "</ul>\n",
        "<p align=\"justify\"> \n",
        "<i>The reason why I ignored some penguins that are too small/blurry/not distinctly visible is that, although as human, we can know that these \"things\" is emperor penguin or king penguin, but if the model learns many of these \"information\" from, it would have some problems such as overfitting or can't detect the penguins correctly (treat any similiar blurry things as penguin which is not good for general case). However, it doesn't mean computer couldn't detect the blurry penguins since computer vision is in pixel-level but human is not (means computer can work better than human sometimes in the object detection field). If the application is used for counting the number of penguins in the image, then I should label all the penguins that I can see.</i>\n",
        "</p>\n",
        "<p align=\"justify\"> \n",
        "<i>Since the main purpose is detect and classify, to balance this situation, I choose ro ignore the blurry penguins in the background as such (see the arrows that point at the blurry areas):</i>\n",
        "</p>\n",
        "\n",
        "<br>\n",
        "<p style=\"text-align:center;\">\n",
        "<img src=\"https://drive.google.com/uc?id=1BJlFHlH9bbKqSUfSeO95rQmryQTCz3fI\" alt=\"King\" style=\"width: 530px;\"/>\n",
        "<img src=\"https://drive.google.com/uc?id=1KdyxvmciJPg7Ngux0vV7BIVrDgmRnNtJ\" alt=\"Emperor\" style=\"width: 400px;\"/>\n",
        "</p>\n",
        "<br><br>\n",
        "<p align=\"justify\"> \n",
        "Here are some example images (after annotated but before processed):\n",
        "</p>\n"
      ],
      "metadata": {
        "id": "Eux9-rl4HtzO"
      }
    },
    {
      "cell_type": "markdown",
      "source": [
        "<p style=\"text-align:center;\">\n",
        "<img src=\"https://drive.google.com/uc?id=1m8YcnxmP0P9LJas-WRJAgeclAzC0f_pp\" alt=\"King\" style=\"width: 350px;\"/>\n",
        "<img src=\"https://drive.google.com/uc?id=1YmHm8Or-YYH048hhOJ1Ww6Q4JYeROwR_\" alt=\"Emperor\" style=\"width: 400px;\"/>\n",
        "<img src=\"https://drive.google.com/uc?id=17uFFm1BjcBu4qWKhXCwT0gzWvZo7bug-\" alt=\"Chinstrap\" style=\"width: 230px;\"/>\n",
        "</p>\n",
        "<p style=\"text-align:center;\">\n",
        "<img src=\"https://drive.google.com/uc?id=1eHe4QgUJ1AKKIt8OmsS0ThxI0FCKw7i0\" alt=\"Emperor\" style=\"width: 350px;\"/>\n",
        "</p>\n"
      ],
      "metadata": {
        "id": "RH8sTRtnHher"
      }
    },
    {
      "cell_type": "markdown",
      "source": [
        "# ***Data Processing***"
      ],
      "metadata": {
        "id": "vjnx7BYhqSu7"
      }
    },
    {
      "cell_type": "markdown",
      "source": [
        "<p align=\"justify\"> \n",
        "In this section, I will introduce how I identify if data processing is needed or not, and apply relevant techniques for data pre-processing using the <a herf=\"https://roboflow.com/\"><i>Roboflow</i></a> tool.\n",
        "</p>\n"
      ],
      "metadata": {
        "id": "ow-FM2WlA29z"
      }
    },
    {
      "cell_type": "markdown",
      "source": [
        "<p align=\"justify\"> \n",
        "Data preprocessing is a crucial phase in the machine learning process since the quality of the data and the information that can be extracted from it directly influence how well our model can learn. For this reason, it is crucial that we preprocess the data before introducing it to the model.\n",
        "</p>\n",
        "<p align=\"justify\"> \n",
        "For this project, we can make use of the <a herf=\"https://roboflow.com/\"><i>Roboflow</i></a> tool to help us process the data. We cans see between the train/test split and generate data, RoboFlow provide another two steps which are the data processing and augmentation.\n",
        "</p>\n",
        "<p style=\"text-align:center;\">\n",
        "<img src=\"https://drive.google.com/uc?id=1RCqsOdgtTOdr21QjUjg1rPWICpz8iSYF\" alt=\"processing\" style=\"width: 400px;\"/>\n",
        "</p>\n"
      ],
      "metadata": {
        "id": "Uhp5E7t9iR8K"
      }
    },
    {
      "cell_type": "markdown",
      "source": [
        "## ***Data preprocessing***"
      ],
      "metadata": {
        "id": "A4SMtibk_iDy"
      }
    },
    {
      "cell_type": "markdown",
      "source": [
        "<p align=\"justify\"> \n",
        "The first steps is the data preprocessing (3), which can help the model decrease training time and increase performance by applying image transformations to all images in this dataset. Roboflow has already given us a few options for data preprocessing, so let's see if these options would provide us some ideas.\n",
        "</p> \n",
        "<p align=\"justify\"> \n",
        "Here, we can see there have a few options such as Auto-Orient, Grayscale, Filter Null etc, but our dataset needn't to apply all of it.\n",
        "</p> \n",
        "<p style=\"text-align:center;\">\n",
        "<img src=\"https://drive.google.com/uc?id=1c2AFNtNC1nnmXUauVtfuhzGJ3UCD0vlZ\" alt=\"options\" style=\"width: 400px;\"/>\n",
        "</p>\n"
      ],
      "metadata": {
        "id": "y2U7zp_71Xww"
      }
    },
    {
      "cell_type": "markdown",
      "source": [
        "<h4><b><i>Step 1:</i></b><h4>\n",
        "<p align=\"justify\"> \n",
        " Since the images I collected don't have the same size (resolution), although in some models like YOLOv5 the image resizing is done automatically, it's still a good practice to resize the image into same size. Thus, to help the model learn better, the Resize option should be chosen as such: \n",
        "</p> \n",
        "<p style=\"text-align:center;\">\n",
        "<img src=\"https://drive.google.com/uc?id=11u49exFv0JEd69Gm77r11gGCcBRwsR30\" alt=\"resize\" style=\"width: 400px;\"/>\n",
        "</p>"
      ],
      "metadata": {
        "id": "FfFkC0Xx2SMt"
      }
    },
    {
      "cell_type": "markdown",
      "source": [
        "<h4><b><i>Step 2:</i></b><h4>\n",
        "<p align=\"justify\"> \n",
        "Usually, an image is captured with metadata that specifies how it should be displayed in relation to how the pixels are arranged on disc. This directive, which is stored in the EXIF orientation field, expedites the image encoding process at the time of capture, allowing cameras to efficiently sample data from their sensors without unwelcome artefacts.\n",
        "</p> \n",
        "<p align=\"justify\"> \n",
        "This means that most cameras store images' pixels exactly the same whether the camera is oriented in landscape or portrait mode. They just flip a bit to signal to the viewer whether to display the pixels as-is or to rotate them by 90 or 180 degrees when displaying the image.\n",
        "</p> \n",
        "<p align=\"justify\"> \n",
        "Unfortunately, this can cause issues if the application displaying the images is unaware of the metadata and naively displays the image without respecting its EXIF orientation. Thus, to help the model learn better, the Auto-Orient option should always be chosen as such: \n",
        "</p> \n",
        "<p style=\"text-align:center;\">\n",
        "<img src=\"https://drive.google.com/uc?id=1DLvFT1cED3_H53mxk9L4xeL7Wb4SW9h9\" alt=\"auto orient\" style=\"width: 400px;\"/>\n",
        "</p>"
      ],
      "metadata": {
        "id": "WZoHAjXy3mAa"
      }
    },
    {
      "cell_type": "markdown",
      "source": [
        "<h4><b><i>Step 3:</i></b><h4>\n",
        "<p align=\"justify\"> \n",
        "During the data annotating, I used the scientific name for each type of penguin which is hard for general user to understand. Thus, to help user know what the species are when the model detecting objects, the Modify classes option should be chosen as such: \n",
        "</p> \n",
        "<p style=\"text-align:center;\">\n",
        "<img src=\"https://drive.google.com/uc?id=1rK77selPJZ6TqVKK2iikr3O7sWFwAd4R\" alt=\"modify class\" style=\"width: 450px;\"/>\n",
        "</p>\n"
      ],
      "metadata": {
        "id": "5Xvqh2W_8di6"
      }
    },
    {
      "cell_type": "markdown",
      "source": [
        "## ***Data augmentation***"
      ],
      "metadata": {
        "id": "G9d0g-zU_mCZ"
      }
    },
    {
      "cell_type": "markdown",
      "source": [
        "<p align=\"justify\"> \n",
        "The second steps here is the data augmentation (4). Augmentation performs transforms on the existing images to create new variations and increase the number of images in our dataset. This ultimately makes models more accurate across a broader range of use cases. Roboflow has already given us a few options for data augmentation:\n",
        "</p> \n",
        "<p align=\"justify\"> \n",
        "Here, we can see there have a few options such as Flip, Brightness (for both image level and bounding box level augmentation) etc, but obviously our dataset needn't to apply all of it. For example, we needn't perform bounding box level augementation since usually penguin would stand in the picture and won't upside down. Besides, something like blur (usually the picture is clear) and grayscale (the picture would always in RGB format) should not be considered. \n",
        "</p> \n",
        "<p style=\"text-align:center;\">\n",
        "<img src=\"https://drive.google.com/uc?id=13KYo_b0fid9_IJP67zuQe_LA7wLXsiCi\" alt=\"augmentation options\" style=\"width: 400px;\"/>\n",
        "</p>\n",
        "\n",
        "\n",
        "\n",
        "\n"
      ],
      "metadata": {
        "id": "jq_Sj14iXpDI"
      }
    },
    {
      "cell_type": "markdown",
      "source": [
        "<h4><b><i>Step 1:</i></b><h4>\n",
        "<p align=\"justify\"> \n",
        "In the real scenario, the environment we monitor may contain some noise that would affect the predection accuracy of our model. Roboflow can help us add noise to the training data to help our model be more resilient to camera artifects. Thus, the Noise option is one of the most appropriate ways to perform the data augmentation. Hence I choose the Noise option and set it to \"up to 3% of pixels\" as such:\n",
        "</p> \n",
        "</p> \n",
        "<p style=\"text-align:center;\">\n",
        "<img src=\"https://drive.google.com/uc?id=1vsCTKr7UisuO3__HQEWXJWxHg4jtmT3u\" alt=\"noise\" style=\"width: 400px;\"/>\n",
        "</p>"
      ],
      "metadata": {
        "id": "Ojawgx9vfyoG"
      }
    },
    {
      "cell_type": "markdown",
      "source": [
        "<h4><b><i>Step 2:</i></b><h4>\n",
        "<p align=\"justify\"> \n",
        "In the real scenario, the exposure of the photo/video of the observed environment will be different. Roboflow can help us add variability to image brightness to help your model be more resilient to lighting and camera setting changes. Thus, generating another two sets of images with different exposure is also one of the most appropriate ways to perform the data augmentation. Hence I choose the Exposure option and set it to \"Between -15% and +15%\" as such:\n",
        "</p>\n",
        "<p style=\"text-align:center;\">\n",
        "<img src=\"https://drive.google.com/uc?id=1gNhiEkCu3kCYsDTBwT9n9oJ7pl2fnzXY\" alt=\"exposure\" style=\"width: 400px;\"/>\n",
        "</p>"
      ],
      "metadata": {
        "id": "Z_ntrDkSfzYn"
      }
    },
    {
      "cell_type": "markdown",
      "source": [
        "## ***Data Processing summary***"
      ],
      "metadata": {
        "id": "IBX3VOZOjniF"
      }
    },
    {
      "cell_type": "markdown",
      "source": [
        "<p align=\"justify\"> \n",
        "Here is the summary of the data processing:\n",
        "</p>\n",
        "<br>\n",
        "<p style=\"text-align:center;\">\n",
        "<img src=\"https://drive.google.com/uc?id=1DjpW7IlTK8v_XGB_OhoW5GrMi9v_x0JH\" alt=\"summary\" style=\"width: 600px;\"/>\n",
        "</p>"
      ],
      "metadata": {
        "id": "ndICTFIljqb0"
      }
    },
    {
      "cell_type": "markdown",
      "source": [
        "# ***Data Analysis***"
      ],
      "metadata": {
        "id": "JkQGzhbjqTEq"
      }
    },
    {
      "cell_type": "markdown",
      "source": [
        "In this section, I will perform some analysis of the data, this includes:\n",
        "\n",
        "*   Number of samples/attributes/size.\n",
        "*   Is the data balance or not.\n",
        "*   Are there any missing values?\n",
        "*   The chanllenges for learning with this data.\n"
      ],
      "metadata": {
        "id": "h-CFygMLA3f3"
      }
    },
    {
      "cell_type": "markdown",
      "source": [
        "## ***Sample size/train-test split***"
      ],
      "metadata": {
        "id": "3K8szGhBirz5"
      }
    },
    {
      "cell_type": "markdown",
      "source": [
        "<p align=\"justify\"> \n",
        "After the data collecting and the data processing, there have <b>518</b> images (without augmentation) in the dataset, and the train/validation/test split I use is <b>65% for trainging, 20% for validation, and 15% for testing</b> (See the figure below). \n",
        "</p>\n",
        "<br>\n",
        "<p style=\"text-align:center;\">\n",
        "<img src=\"https://drive.google.com/uc?id=1xi6ORaP-AgIuJiNNROgv5mRmn5ZzKHuV\" alt=\"balance\" style=\"width: 700px;\"/>\n",
        "</p>\n",
        "<br>\n"
      ],
      "metadata": {
        "id": "WCujOQ0u3xkL"
      }
    },
    {
      "cell_type": "markdown",
      "source": [
        "<p align=\"justify\"> \n",
        "However, in the data processing phase, I've performed the data augmentation on the training set (generate new data using different exposure and/or noise), so the sample size becomes <b>1188</b>. Hence the actual train/validation/test split is <b>1005 images for training, 103 images for validation, and 80 images for testing</b> (See the figure below).\n",
        "</p>\n",
        "<p style=\"text-align:center;\">\n",
        "<img src=\"https://drive.google.com/uc?id=1BASQ9SJ5uAZ53AT99kartFdh9SKwY6kH\" alt=\"balance\" style=\"width: 700px;\"/>\n",
        "</p>\n",
        "<br>\n",
        "<p align=\"justify\"> \n",
        "The size (number of attributes) for each image, as mentioned in previous section, is <b>640</b> after resizing.\n",
        "</p>\n",
        "<br>"
      ],
      "metadata": {
        "id": "Sa-8BzAjCnMQ"
      }
    },
    {
      "cell_type": "markdown",
      "source": [
        "## ***Class balance***"
      ],
      "metadata": {
        "id": "WA1kA7d30bDP"
      }
    },
    {
      "cell_type": "markdown",
      "source": [
        "<p align=\"justify\"> \n",
        "To find out if our data class is balance or not, I make good use of the <b><i>dataset health check</i></b> function of Roboflow. By utilising this functionality, I can know many useful information about my dataset.\n",
        "</p>\n",
        "<p align=\"justify\"> \n",
        "In my dataset, there originally have 518 images (before augmentation), and 2085 annotations (approximately 4 penguins in each image). Besides, the dataset doesn't include the missing values/annotations, and there has 0 null examples as well.\n",
        "</p>\n",
        "<p style=\"text-align:center;\">\n",
        "<img src=\"https://drive.google.com/uc?id=1WkqW_w0nneBFTxJBrOcpJb3JwUkMr3Zi\" alt=\"balance\" style=\"width: 700px;\"/>\n",
        "</p>\n",
        "<p align=\"justify\"> \n",
        "As we can see, the class is not very balance, with around 700-900 instances for emperor and king penguins, but only 360 instances for chinstrap penguins. The reason for that is the emperor penguin and king penguin are both Aptenodytes (great penguins) and they have very similiar appearance. They only difference is the patterns on their head and their height. Chinstrap penguin, on the other hand, looks obviously different with the other two types of penguins. Thus, to help the model understand more about the emperor and king penguins, the number of instances of them are bigger than the chinstrap penguin. In this way, althought the class is not perfectly balanced, the performance of the model will not be afftected. \n",
        "</p>\n",
        "<p style=\"text-align:center;\">\n",
        "<img src=\"https://drive.google.com/uc?id=1cxgNeoJ06TnfYemOZvTptMYeY2aVhIT-\" alt=\"balance\" style=\"width: 700px;\"/>\n",
        "</p>\n",
        "<br>\n",
        "<p align=\"justify\"> \n",
        "In addtion, in the image we collected, we can see the group size of chinstrap penguin is a lot smaller than great penguins, which is an interesting fact because the number of chinstrap on earth is around 3 million, but only 570 thousands emperor penguin lives in Antarctica.\n",
        "</p>\n"
      ],
      "metadata": {
        "id": "uAo4bi-i3z0l"
      }
    },
    {
      "cell_type": "markdown",
      "source": [
        "## ***Histogram of Object Count by Image***"
      ],
      "metadata": {
        "id": "SWM9yf5G06Bn"
      }
    },
    {
      "cell_type": "markdown",
      "source": [
        "<p align=\"justify\"> \n",
        "The following three images roughly describe the distribution of the object count (number of instances) for each type of penguin in each image. We can see from the histograms that images which contain only 1-3 penguins, and the images which contain many penguins (10 or above), are both included in the datasets. This would help the model to learn better and also allow the model has better performance when it used in the real-life scenarios.\n",
        "</p>\n",
        "<br>\n",
        "<p style=\"text-align:center;\">\n",
        "<img src=\"https://drive.google.com/uc?id=1TY87cXz6cIRbLZikA5glg0zXCKmsXr0B\" alt=\"hist-chinstrap\" style=\"width: 600px;\"/>\n",
        "</p>\n",
        "\n",
        "<p style=\"text-align:center;\">\n",
        "<img src=\"https://drive.google.com/uc?id=1xxL4fj7LO9keNdyrzJOrpNF4mgQyqkzN\" alt=\"hist-king\" style=\"width: 600px;\"/>\n",
        "</p>\n",
        "\n",
        "<p style=\"text-align:center;\">\n",
        "<img src=\"https://drive.google.com/uc?id=1Z_O7dVIe2RicQ-eIccV8_HTajFEJTTxx\" alt=\"emperor\" style=\"width: 600px;\"/>\n",
        "</p>"
      ],
      "metadata": {
        "id": "6rBLnF6d33M5"
      }
    },
    {
      "cell_type": "markdown",
      "source": [
        "## ***Chanllenges for learning with this data***"
      ],
      "metadata": {
        "id": "67e0pNe20kSn"
      }
    },
    {
      "cell_type": "markdown",
      "source": [
        "<p align=\"justify\"> \n",
        "Through the above data analysis, we can see the dataset is actually appropriate enough for this task. However, there still exists several chanllenges for learning with this data.\n",
        "</p>\n"
      ],
      "metadata": {
        "id": "O_-B2UQbJa5S"
      }
    },
    {
      "cell_type": "markdown",
      "source": [
        "<h4><b><i>Chanllenge 1:</i></b><h4>\n",
        "<p align=\"justify\"> \n",
        "Due to the time and scope restriction, the number of samples are still too small if we want to train a very accurate model. When we apply the model in real-life scenario, the model may not have the ability to detect all the penguins in the image/video.\n",
        "</p>\n"
      ],
      "metadata": {
        "id": "VuFNivdkLFH_"
      }
    },
    {
      "cell_type": "markdown",
      "source": [
        "<h4><b><i>Chanllenge 2:</i></b><h4>\n",
        "<p align=\"justify\"> \n",
        "There have some images that contains too many penguins. As I mentioned in the data annotation process, I didn't annotate all the penguins in some images if penguins in the back are to hard to see or that area is too blurry like this. \n",
        "</p>\n",
        "<p style=\"text-align:center;\">\n",
        "<img src=\"https://drive.google.com/uc?id=1BJlFHlH9bbKqSUfSeO95rQmryQTCz3fI\" alt=\"King\" style=\"width: 400px;\"/>\n",
        "</p>\n",
        "<p align=\"justify\"> \n",
        "This means the model may not be able to identify all the penguins in the image/video if there has too many penguins (say more than 40). This issue can also be identified in the object count histogram in above section (we don't have enough images that have many penguins in the dataset).\n",
        "</p>"
      ],
      "metadata": {
        "id": "NkCx2_LJLKsS"
      }
    },
    {
      "cell_type": "markdown",
      "source": [
        "<h4><b><i>Chanllenge 3:</i></b><h4>\n",
        "<p align=\"justify\"> \n",
        "As mentioned before, emperor penguins and king penguins look very similiar. Although the number of instances of these two types of penguin in the dataset are larger than chinstrap penguin, it's still a chanllenge for the model to learn how to distinguish them.\n",
        "</p>"
      ],
      "metadata": {
        "id": "QI2I1xdhOJ1H"
      }
    },
    {
      "cell_type": "markdown",
      "source": [
        "# ***Model Development***"
      ],
      "metadata": {
        "id": "X88eAns8p2LX"
      }
    },
    {
      "cell_type": "markdown",
      "source": [
        "## ***Model selection motivation***"
      ],
      "metadata": {
        "id": "tVbLoceEJDwi"
      }
    },
    {
      "cell_type": "markdown",
      "source": [],
      "metadata": {
        "id": "ptZ6QH_eLNHZ"
      }
    },
    {
      "cell_type": "markdown",
      "source": [
        "## ***Preparation before traing models***"
      ],
      "metadata": {
        "id": "ttqt96fVJMK1"
      }
    },
    {
      "cell_type": "markdown",
      "source": [
        "In this section, there are **three** models we need to develop:\n",
        "\n",
        "\n",
        "1.   YOLOv5\n",
        "2.   Detectron2-Faster RCNN\n",
        "3.   YOLOv7\n"
      ],
      "metadata": {
        "id": "_VYYYYburH6H"
      }
    },
    {
      "cell_type": "markdown",
      "source": [
        "Now we need to install the ***Roboflow*** to load the data (in different format)"
      ],
      "metadata": {
        "id": "hgCOgQmGpizP"
      }
    },
    {
      "cell_type": "code",
      "source": [
        "from google.colab import drive\n",
        "drive.mount('/content/drive')"
      ],
      "metadata": {
        "colab": {
          "base_uri": "https://localhost:8080/"
        },
        "id": "NiU8S8zroxh5",
        "outputId": "98feb26c-6799-494f-9023-9146ad67ff2d"
      },
      "execution_count": 5,
      "outputs": [
        {
          "output_type": "stream",
          "name": "stdout",
          "text": [
            "Mounted at /content/drive\n"
          ]
        }
      ]
    },
    {
      "cell_type": "code",
      "source": [
        "version = 9"
      ],
      "metadata": {
        "id": "ZxabCyvH-U6J"
      },
      "execution_count": null,
      "outputs": []
    },
    {
      "cell_type": "markdown",
      "source": [
        "## ***YOLOv5 Model***"
      ],
      "metadata": {
        "id": "ShmDJK0srckI"
      }
    },
    {
      "cell_type": "code",
      "execution_count": null,
      "metadata": {
        "colab": {
          "base_uri": "https://localhost:8080/"
        },
        "id": "gRpgFV9ypIdZ",
        "outputId": "0c6985b4-d258-4598-e05c-05e22f5530a2"
      },
      "outputs": [
        {
          "output_type": "stream",
          "name": "stderr",
          "text": [
            "YOLOv5 🚀 v6.2-99-g3cd66b1 Python-3.7.13 torch-1.12.1+cu113 CUDA:0 (Tesla T4, 15110MiB)\n"
          ]
        },
        {
          "output_type": "stream",
          "name": "stdout",
          "text": [
            "Setup complete ✅ (2 CPUs, 12.7 GB RAM, 38.8/78.2 GB disk)\n"
          ]
        }
      ],
      "source": [
        "%cd /content\n",
        "!git clone https://github.com/ultralytics/yolov5  # clone yolov5\n",
        "%cd yolov5\n",
        "%pip install -r requirements.txt  # install\n",
        "\n",
        "import utils\n",
        "display = utils.notebook_init() # check"
      ]
    },
    {
      "cell_type": "code",
      "source": [
        "!pip install roboflow\n",
        "\n",
        "from roboflow import Roboflow\n",
        "rf = Roboflow(api_key=\"pCjhgO6AaDWtsuKCrLgf\")\n",
        "project = rf.workspace(\"utas\").project(\"kit315-dequm\")\n",
        "dataset = project.version(version).download(\"yolov5\")"
      ],
      "metadata": {
        "id": "nKBAJ-S2sA9X"
      },
      "execution_count": null,
      "outputs": []
    },
    {
      "cell_type": "code",
      "source": [
        "%cd /content/yolov5\n",
        "!python train.py --batch 16 --epochs 50 --data KIT315-9/data.yaml --weights yolov5m6.pt --cache --cfg yolov5m6.yaml"
      ],
      "metadata": {
        "id": "3pPx7EyGr5RH"
      },
      "execution_count": null,
      "outputs": []
    },
    {
      "cell_type": "code",
      "source": [
        "%load_ext tensorboard\n",
        "%tensorboard --logdir runs/train"
      ],
      "metadata": {
        "id": "ChN0MdRcsHq6"
      },
      "execution_count": null,
      "outputs": []
    },
    {
      "cell_type": "code",
      "source": [
        "%cd /content/yolov5\n",
        "!python detect.py --weights ./runs/train/exp/weights/best.pt  --conf 0.3 --source /content/drive/MyDrive/KIT315_Project/Image_demo/penguin.mp4"
      ],
      "metadata": {
        "id": "nwheKmpxsKlL"
      },
      "execution_count": null,
      "outputs": []
    },
    {
      "cell_type": "code",
      "source": [
        "%cp ./runs/train/exp/weights/best.pt /content/drive/My\\ Drive/models/yolov5_tutorial_model"
      ],
      "metadata": {
        "id": "1-7J-p1DsM5m"
      },
      "execution_count": null,
      "outputs": []
    },
    {
      "cell_type": "markdown",
      "source": [
        "## ***Detectron2-Faster RCNN Model***"
      ],
      "metadata": {
        "id": "soCLEPnXruFa"
      }
    },
    {
      "cell_type": "code",
      "source": [
        "!python -m pip install pyyaml==5.1\n",
        "!python -m pip install 'git+https://github.com/facebookresearch/detectron2.git'\n",
        "\n",
        "# !pip install -U torch==1.5 torchvision==0.6 -f https://download.pytorch.org/whl/cu101/torch_stable.html \n",
        "# !pip install -U 'git+https://github.com/cocodataset/cocoapi.git#subdirectory=PythonAPI'\n",
        "# import torch, torchvision\n",
        "# print(torch.__version__, torch.cuda.is_available())\n",
        "# !gcc --version\n",
        "\n",
        "# !pip install detectron2==0.1.3 -f https://dl.fbaipublicfiles.com/detectron2/wheels/cu101/torch1.5/index.html"
      ],
      "metadata": {
        "id": "t1uVv_ZRr2Xn"
      },
      "execution_count": null,
      "outputs": []
    },
    {
      "cell_type": "code",
      "source": [
        "import detectron2\n",
        "from detectron2.utils.logger import setup_logger\n",
        "setup_logger()\n",
        "\n",
        "# import some common libraries\n",
        "import numpy as np\n",
        "import cv2\n",
        "import random\n",
        "from google.colab.patches import cv2_imshow\n",
        "\n",
        "# import some common detectron2 utilities\n",
        "from detectron2 import model_zoo\n",
        "from detectron2.engine import DefaultPredictor\n",
        "from detectron2.config import get_cfg\n",
        "from detectron2.utils.visualizer import Visualizer\n",
        "from detectron2.data import MetadataCatalog\n",
        "from detectron2.data.catalog import DatasetCatalog"
      ],
      "metadata": {
        "id": "ugd-SkSVsQZb"
      },
      "execution_count": null,
      "outputs": []
    },
    {
      "cell_type": "code",
      "source": [
        "!pip install roboflow\n",
        "\n",
        "from roboflow import Roboflow\n",
        "rf = Roboflow(api_key=\"pCjhgO6AaDWtsuKCrLgf\")\n",
        "project = rf.workspace(\"utas\").project(\"kit315-dequm\")\n",
        "dataset = project.version(version).download(\"coco\")"
      ],
      "metadata": {
        "id": "F7Ay6TFTsSYm"
      },
      "execution_count": null,
      "outputs": []
    },
    {
      "cell_type": "code",
      "source": [
        "!mv /content/KIT315-9 /content/KIT315"
      ],
      "metadata": {
        "id": "MVkmu98Z_k88"
      },
      "execution_count": null,
      "outputs": []
    },
    {
      "cell_type": "code",
      "source": [
        "from detectron2.data.datasets import register_coco_instances\n",
        "register_coco_instances(\"my_dataset_train\", {}, \"/content/KIT315/train/_annotations.coco.json\", \"/content/KIT315/train\")\n",
        "register_coco_instances(\"my_dataset_val\", {}, \"/content/KIT315/valid/_annotations.coco.json\", \"/content/KIT315/valid\")\n",
        "register_coco_instances(\"my_dataset_test\", {}, \"/content/KIT315/test/_annotations.coco.json\", \"/content/KIT315/test\")"
      ],
      "metadata": {
        "id": "QZj35AGSsV0f"
      },
      "execution_count": null,
      "outputs": []
    },
    {
      "cell_type": "code",
      "source": [
        "#visualize training data\n",
        "my_dataset_train_metadata = MetadataCatalog.get(\"my_dataset_train\")\n",
        "dataset_dicts = DatasetCatalog.get(\"my_dataset_train\")\n",
        "\n",
        "import random\n",
        "from detectron2.utils.visualizer import Visualizer\n",
        "\n",
        "for d in random.sample(dataset_dicts, 3):\n",
        "    img = cv2.imread(d[\"file_name\"])\n",
        "    visualizer = Visualizer(img[:, :, ::-1], metadata=my_dataset_train_metadata, scale=0.5)\n",
        "    vis = visualizer.draw_dataset_dict(d)\n",
        "    cv2_imshow(vis.get_image()[:, :, ::-1])"
      ],
      "metadata": {
        "id": "mPuG83_-sWX2"
      },
      "execution_count": null,
      "outputs": []
    },
    {
      "cell_type": "code",
      "source": [
        "from detectron2.engine import DefaultTrainer\n",
        "from detectron2.evaluation import COCOEvaluator\n",
        "\n",
        "class CocoTrainer(DefaultTrainer):\n",
        "\n",
        "  @classmethod\n",
        "  def build_evaluator(cls, cfg, dataset_name, output_folder=None):\n",
        "\n",
        "    if output_folder is None:\n",
        "        os.makedirs(\"coco_eval\", exist_ok=True)\n",
        "        output_folder = \"coco_eval\"\n",
        "\n",
        "    return COCOEvaluator(dataset_name, cfg, False, output_folder)"
      ],
      "metadata": {
        "id": "VcM5N_OQsZlj"
      },
      "execution_count": null,
      "outputs": []
    },
    {
      "cell_type": "code",
      "source": [
        "#from .detectron2.tools.train_net import Trainer\n",
        "#from detectron2.engine import DefaultTrainer\n",
        "# select from modelzoo here: https://github.com/facebookresearch/detectron2/blob/master/MODEL_ZOO.md#coco-object-detection-baselines\n",
        "\n",
        "from detectron2.config import get_cfg\n",
        "#from detectron2.evaluation.coco_evaluation import COCOEvaluator\n",
        "import os\n",
        "\n",
        "cfg = get_cfg()\n",
        "cfg.merge_from_file(model_zoo.get_config_file(\"COCO-Detection/faster_rcnn_X_101_32x8d_FPN_3x.yaml\"))\n",
        "# faster_rcnn_R_101_FPN_3x.yaml\n",
        "cfg.DATASETS.TRAIN = (\"my_dataset_train\",)\n",
        "cfg.DATASETS.TEST = (\"my_dataset_val\",)\n",
        "\n",
        "cfg.DATALOADER.NUM_WORKERS = 2 # Max 2\n",
        "cfg.MODEL.WEIGHTS = model_zoo.get_checkpoint_url(\"COCO-Detection/faster_rcnn_X_101_32x8d_FPN_3x.yaml\")  # Let training initialize from model zoo\n",
        "cfg.SOLVER.IMS_PER_BATCH = 4 # This is the real \"batch size\" commonly known to deep learning people\n",
        "cfg.SOLVER.BASE_LR = 0.001\n",
        "\n",
        "\n",
        "cfg.SOLVER.MAX_ITER = 1200 #adjust up if val mAP is still rising, adjust down if overfit\n",
        "# cfg.SOLVER.STEPS = (1000, 1500)\n",
        "# cfg.SOLVER.GAMMA = 0.05\n",
        "cfg.SOLVER.STEPS = [] # do not decay learning rate\n",
        "\n",
        "\n",
        "cfg.MODEL.ROI_HEADS.BATCH_SIZE_PER_IMAGE = 256\n",
        "cfg.MODEL.ROI_HEADS.NUM_CLASSES = 4 #your number of classes + 1\n",
        "\n",
        "cfg.TEST.EVAL_PERIOD = 500\n",
        "\n",
        "os.makedirs(cfg.OUTPUT_DIR, exist_ok=True)\n",
        "trainer = CocoTrainer(cfg)\n",
        "trainer.resume_or_load(resume=False)\n",
        "trainer.train()"
      ],
      "metadata": {
        "id": "HqLwkK7DscHL"
      },
      "execution_count": null,
      "outputs": []
    },
    {
      "cell_type": "code",
      "source": [
        "%load_ext tensorboard\n",
        "%tensorboard --logdir output"
      ],
      "metadata": {
        "id": "LKxDLIQmscJ5"
      },
      "execution_count": null,
      "outputs": []
    },
    {
      "cell_type": "code",
      "source": [
        "#test evaluation\n",
        "from detectron2.data import DatasetCatalog, MetadataCatalog, build_detection_test_loader\n",
        "from detectron2.evaluation import COCOEvaluator, inference_on_dataset\n",
        "\n",
        "cfg.MODEL.WEIGHTS = os.path.join(cfg.OUTPUT_DIR, \"model_final.pth\")\n",
        "cfg.MODEL.ROI_HEADS.SCORE_THRESH_TEST = 0.3\n",
        "predictor = DefaultPredictor(cfg)\n",
        "evaluator = COCOEvaluator(\"my_dataset_test\", cfg, False, output_dir=\"./output/\")\n",
        "val_loader = build_detection_test_loader(cfg, \"my_dataset_test\")\n",
        "inference_on_dataset(trainer.model, val_loader, evaluator)"
      ],
      "metadata": {
        "id": "6zbY3iM-sgCH"
      },
      "execution_count": null,
      "outputs": []
    },
    {
      "cell_type": "code",
      "source": [
        "cfg.MODEL.WEIGHTS = os.path.join(cfg.OUTPUT_DIR, \"model_final.pth\")\n",
        "cfg.DATASETS.TEST = (\"my_dataset_test\", )\n",
        "cfg.MODEL.ROI_HEADS.SCORE_THRESH_TEST = 0.3   # set the testing threshold for this model\n",
        "predictor = DefaultPredictor(cfg)\n",
        "test_metadata = MetadataCatalog.get(\"my_dataset_test\")"
      ],
      "metadata": {
        "id": "bsjx7TGCsh_C"
      },
      "execution_count": null,
      "outputs": []
    },
    {
      "cell_type": "code",
      "source": [
        "from detectron2.utils.visualizer import ColorMode\n",
        "import glob\n",
        "\n",
        "for imageName in glob.glob('/content/KIT315/test/*jpg'):\n",
        "  im = cv2.imread(imageName)\n",
        "  outputs = predictor(im)\n",
        "  v = Visualizer(im[:, :, ::-1],\n",
        "                metadata=test_metadata, \n",
        "                scale=0.8\n",
        "                 )\n",
        "  out = v.draw_instance_predictions(outputs[\"instances\"].to(\"cpu\"))\n",
        "  cv2_imshow(out.get_image()[:, :, ::-1])"
      ],
      "metadata": {
        "id": "oVOyO42NsjjS"
      },
      "execution_count": null,
      "outputs": []
    },
    {
      "cell_type": "markdown",
      "source": [
        "## ***YOLOv7 Model***"
      ],
      "metadata": {
        "id": "e8jMjoN4sk0i"
      }
    },
    {
      "cell_type": "code",
      "source": [
        "!git clone https://github.com/WongKinYiu/yolov7\n",
        "%cd yolov7\n",
        "!pip install -r requirements.txt"
      ],
      "metadata": {
        "id": "JevEarMuQanf",
        "colab": {
          "base_uri": "https://localhost:8080/"
        },
        "outputId": "89537eb3-3922-41e3-903e-8ba5ca91baa8"
      },
      "execution_count": 1,
      "outputs": [
        {
          "output_type": "stream",
          "name": "stdout",
          "text": [
            "Cloning into 'yolov7'...\n",
            "remote: Enumerating objects: 933, done.\u001b[K\n",
            "remote: Counting objects: 100% (88/88), done.\u001b[K\n",
            "remote: Compressing objects: 100% (63/63), done.\u001b[K\n",
            "remote: Total 933 (delta 31), reused 76 (delta 24), pack-reused 845\u001b[K\n",
            "Receiving objects: 100% (933/933), 68.26 MiB | 4.96 MiB/s, done.\n",
            "Resolving deltas: 100% (456/456), done.\n",
            "/content/yolov7\n",
            "Looking in indexes: https://pypi.org/simple, https://us-python.pkg.dev/colab-wheels/public/simple/\n",
            "Requirement already satisfied: matplotlib>=3.2.2 in /usr/local/lib/python3.7/dist-packages (from -r requirements.txt (line 4)) (3.2.2)\n",
            "Requirement already satisfied: numpy>=1.18.5 in /usr/local/lib/python3.7/dist-packages (from -r requirements.txt (line 5)) (1.21.6)\n",
            "Requirement already satisfied: opencv-python>=4.1.1 in /usr/local/lib/python3.7/dist-packages (from -r requirements.txt (line 6)) (4.6.0.66)\n",
            "Requirement already satisfied: Pillow>=7.1.2 in /usr/local/lib/python3.7/dist-packages (from -r requirements.txt (line 7)) (7.1.2)\n",
            "Requirement already satisfied: PyYAML>=5.3.1 in /usr/local/lib/python3.7/dist-packages (from -r requirements.txt (line 8)) (6.0)\n",
            "Requirement already satisfied: requests>=2.23.0 in /usr/local/lib/python3.7/dist-packages (from -r requirements.txt (line 9)) (2.23.0)\n",
            "Requirement already satisfied: scipy>=1.4.1 in /usr/local/lib/python3.7/dist-packages (from -r requirements.txt (line 10)) (1.7.3)\n",
            "Requirement already satisfied: torch!=1.12.0,>=1.7.0 in /usr/local/lib/python3.7/dist-packages (from -r requirements.txt (line 11)) (1.12.1+cu113)\n",
            "Requirement already satisfied: torchvision!=0.13.0,>=0.8.1 in /usr/local/lib/python3.7/dist-packages (from -r requirements.txt (line 12)) (0.13.1+cu113)\n",
            "Requirement already satisfied: tqdm>=4.41.0 in /usr/local/lib/python3.7/dist-packages (from -r requirements.txt (line 13)) (4.64.0)\n",
            "Requirement already satisfied: protobuf<4.21.3 in /usr/local/lib/python3.7/dist-packages (from -r requirements.txt (line 14)) (3.17.3)\n",
            "Requirement already satisfied: tensorboard>=2.4.1 in /usr/local/lib/python3.7/dist-packages (from -r requirements.txt (line 17)) (2.8.0)\n",
            "Requirement already satisfied: pandas>=1.1.4 in /usr/local/lib/python3.7/dist-packages (from -r requirements.txt (line 21)) (1.3.5)\n",
            "Requirement already satisfied: seaborn>=0.11.0 in /usr/local/lib/python3.7/dist-packages (from -r requirements.txt (line 22)) (0.11.2)\n",
            "Requirement already satisfied: ipython in /usr/local/lib/python3.7/dist-packages (from -r requirements.txt (line 34)) (7.9.0)\n",
            "Requirement already satisfied: psutil in /usr/local/lib/python3.7/dist-packages (from -r requirements.txt (line 35)) (5.4.8)\n",
            "Collecting thop\n",
            "  Downloading thop-0.1.1.post2209072238-py3-none-any.whl (15 kB)\n",
            "Requirement already satisfied: kiwisolver>=1.0.1 in /usr/local/lib/python3.7/dist-packages (from matplotlib>=3.2.2->-r requirements.txt (line 4)) (1.4.4)\n",
            "Requirement already satisfied: cycler>=0.10 in /usr/local/lib/python3.7/dist-packages (from matplotlib>=3.2.2->-r requirements.txt (line 4)) (0.11.0)\n",
            "Requirement already satisfied: pyparsing!=2.0.4,!=2.1.2,!=2.1.6,>=2.0.1 in /usr/local/lib/python3.7/dist-packages (from matplotlib>=3.2.2->-r requirements.txt (line 4)) (3.0.9)\n",
            "Requirement already satisfied: python-dateutil>=2.1 in /usr/local/lib/python3.7/dist-packages (from matplotlib>=3.2.2->-r requirements.txt (line 4)) (2.8.2)\n",
            "Requirement already satisfied: chardet<4,>=3.0.2 in /usr/local/lib/python3.7/dist-packages (from requests>=2.23.0->-r requirements.txt (line 9)) (3.0.4)\n",
            "Requirement already satisfied: urllib3!=1.25.0,!=1.25.1,<1.26,>=1.21.1 in /usr/local/lib/python3.7/dist-packages (from requests>=2.23.0->-r requirements.txt (line 9)) (1.24.3)\n",
            "Requirement already satisfied: idna<3,>=2.5 in /usr/local/lib/python3.7/dist-packages (from requests>=2.23.0->-r requirements.txt (line 9)) (2.10)\n",
            "Requirement already satisfied: certifi>=2017.4.17 in /usr/local/lib/python3.7/dist-packages (from requests>=2.23.0->-r requirements.txt (line 9)) (2022.6.15)\n",
            "Requirement already satisfied: typing-extensions in /usr/local/lib/python3.7/dist-packages (from torch!=1.12.0,>=1.7.0->-r requirements.txt (line 11)) (4.1.1)\n",
            "Requirement already satisfied: six>=1.9 in /usr/local/lib/python3.7/dist-packages (from protobuf<4.21.3->-r requirements.txt (line 14)) (1.15.0)\n",
            "Requirement already satisfied: google-auth<3,>=1.6.3 in /usr/local/lib/python3.7/dist-packages (from tensorboard>=2.4.1->-r requirements.txt (line 17)) (1.35.0)\n",
            "Requirement already satisfied: setuptools>=41.0.0 in /usr/local/lib/python3.7/dist-packages (from tensorboard>=2.4.1->-r requirements.txt (line 17)) (57.4.0)\n",
            "Requirement already satisfied: google-auth-oauthlib<0.5,>=0.4.1 in /usr/local/lib/python3.7/dist-packages (from tensorboard>=2.4.1->-r requirements.txt (line 17)) (0.4.6)\n",
            "Requirement already satisfied: markdown>=2.6.8 in /usr/local/lib/python3.7/dist-packages (from tensorboard>=2.4.1->-r requirements.txt (line 17)) (3.4.1)\n",
            "Requirement already satisfied: tensorboard-plugin-wit>=1.6.0 in /usr/local/lib/python3.7/dist-packages (from tensorboard>=2.4.1->-r requirements.txt (line 17)) (1.8.1)\n",
            "Requirement already satisfied: werkzeug>=0.11.15 in /usr/local/lib/python3.7/dist-packages (from tensorboard>=2.4.1->-r requirements.txt (line 17)) (1.0.1)\n",
            "Requirement already satisfied: wheel>=0.26 in /usr/local/lib/python3.7/dist-packages (from tensorboard>=2.4.1->-r requirements.txt (line 17)) (0.37.1)\n",
            "Requirement already satisfied: absl-py>=0.4 in /usr/local/lib/python3.7/dist-packages (from tensorboard>=2.4.1->-r requirements.txt (line 17)) (1.2.0)\n",
            "Requirement already satisfied: grpcio>=1.24.3 in /usr/local/lib/python3.7/dist-packages (from tensorboard>=2.4.1->-r requirements.txt (line 17)) (1.47.0)\n",
            "Requirement already satisfied: tensorboard-data-server<0.7.0,>=0.6.0 in /usr/local/lib/python3.7/dist-packages (from tensorboard>=2.4.1->-r requirements.txt (line 17)) (0.6.1)\n",
            "Requirement already satisfied: pytz>=2017.3 in /usr/local/lib/python3.7/dist-packages (from pandas>=1.1.4->-r requirements.txt (line 21)) (2022.2.1)\n",
            "Requirement already satisfied: cachetools<5.0,>=2.0.0 in /usr/local/lib/python3.7/dist-packages (from google-auth<3,>=1.6.3->tensorboard>=2.4.1->-r requirements.txt (line 17)) (4.2.4)\n",
            "Requirement already satisfied: rsa<5,>=3.1.4 in /usr/local/lib/python3.7/dist-packages (from google-auth<3,>=1.6.3->tensorboard>=2.4.1->-r requirements.txt (line 17)) (4.9)\n",
            "Requirement already satisfied: pyasn1-modules>=0.2.1 in /usr/local/lib/python3.7/dist-packages (from google-auth<3,>=1.6.3->tensorboard>=2.4.1->-r requirements.txt (line 17)) (0.2.8)\n",
            "Requirement already satisfied: requests-oauthlib>=0.7.0 in /usr/local/lib/python3.7/dist-packages (from google-auth-oauthlib<0.5,>=0.4.1->tensorboard>=2.4.1->-r requirements.txt (line 17)) (1.3.1)\n",
            "Requirement already satisfied: importlib-metadata>=4.4 in /usr/local/lib/python3.7/dist-packages (from markdown>=2.6.8->tensorboard>=2.4.1->-r requirements.txt (line 17)) (4.12.0)\n",
            "Requirement already satisfied: zipp>=0.5 in /usr/local/lib/python3.7/dist-packages (from importlib-metadata>=4.4->markdown>=2.6.8->tensorboard>=2.4.1->-r requirements.txt (line 17)) (3.8.1)\n",
            "Requirement already satisfied: pyasn1<0.5.0,>=0.4.6 in /usr/local/lib/python3.7/dist-packages (from pyasn1-modules>=0.2.1->google-auth<3,>=1.6.3->tensorboard>=2.4.1->-r requirements.txt (line 17)) (0.4.8)\n",
            "Requirement already satisfied: oauthlib>=3.0.0 in /usr/local/lib/python3.7/dist-packages (from requests-oauthlib>=0.7.0->google-auth-oauthlib<0.5,>=0.4.1->tensorboard>=2.4.1->-r requirements.txt (line 17)) (3.2.0)\n",
            "Requirement already satisfied: pygments in /usr/local/lib/python3.7/dist-packages (from ipython->-r requirements.txt (line 34)) (2.6.1)\n",
            "Requirement already satisfied: pexpect in /usr/local/lib/python3.7/dist-packages (from ipython->-r requirements.txt (line 34)) (4.8.0)\n",
            "Requirement already satisfied: prompt-toolkit<2.1.0,>=2.0.0 in /usr/local/lib/python3.7/dist-packages (from ipython->-r requirements.txt (line 34)) (2.0.10)\n",
            "Requirement already satisfied: backcall in /usr/local/lib/python3.7/dist-packages (from ipython->-r requirements.txt (line 34)) (0.2.0)\n",
            "Requirement already satisfied: pickleshare in /usr/local/lib/python3.7/dist-packages (from ipython->-r requirements.txt (line 34)) (0.7.5)\n",
            "Requirement already satisfied: decorator in /usr/local/lib/python3.7/dist-packages (from ipython->-r requirements.txt (line 34)) (4.4.2)\n",
            "Requirement already satisfied: traitlets>=4.2 in /usr/local/lib/python3.7/dist-packages (from ipython->-r requirements.txt (line 34)) (5.1.1)\n",
            "Collecting jedi>=0.10\n",
            "  Downloading jedi-0.18.1-py2.py3-none-any.whl (1.6 MB)\n",
            "\u001b[K     |████████████████████████████████| 1.6 MB 37.4 MB/s \n",
            "\u001b[?25hRequirement already satisfied: parso<0.9.0,>=0.8.0 in /usr/local/lib/python3.7/dist-packages (from jedi>=0.10->ipython->-r requirements.txt (line 34)) (0.8.3)\n",
            "Requirement already satisfied: wcwidth in /usr/local/lib/python3.7/dist-packages (from prompt-toolkit<2.1.0,>=2.0.0->ipython->-r requirements.txt (line 34)) (0.2.5)\n",
            "Requirement already satisfied: ptyprocess>=0.5 in /usr/local/lib/python3.7/dist-packages (from pexpect->ipython->-r requirements.txt (line 34)) (0.7.0)\n",
            "Installing collected packages: jedi, thop\n",
            "Successfully installed jedi-0.18.1 thop-0.1.1.post2209072238\n"
          ]
        }
      ]
    },
    {
      "cell_type": "code",
      "source": [
        "!pip install roboflow\n",
        "\n",
        "from roboflow import Roboflow\n",
        "rf = Roboflow(api_key=\"pCjhgO6AaDWtsuKCrLgf\")\n",
        "project = rf.workspace(\"utas\").project(\"kit315-dequm\")\n",
        "dataset = project.version(9).download(\"yolov7\")"
      ],
      "metadata": {
        "id": "HdHnrVKZskaU",
        "colab": {
          "base_uri": "https://localhost:8080/",
          "height": 1000
        },
        "outputId": "e4467413-23dc-4523-8b2b-f2eaeb917931"
      },
      "execution_count": 2,
      "outputs": [
        {
          "output_type": "stream",
          "name": "stdout",
          "text": [
            "Looking in indexes: https://pypi.org/simple, https://us-python.pkg.dev/colab-wheels/public/simple/\n",
            "Collecting roboflow\n",
            "  Downloading roboflow-0.2.14.tar.gz (18 kB)\n",
            "Collecting certifi==2021.5.30\n",
            "  Downloading certifi-2021.5.30-py2.py3-none-any.whl (145 kB)\n",
            "\u001b[K     |████████████████████████████████| 145 kB 33.4 MB/s \n",
            "\u001b[?25hCollecting chardet==4.0.0\n",
            "  Downloading chardet-4.0.0-py2.py3-none-any.whl (178 kB)\n",
            "\u001b[K     |████████████████████████████████| 178 kB 63.2 MB/s \n",
            "\u001b[?25hCollecting cycler==0.10.0\n",
            "  Downloading cycler-0.10.0-py2.py3-none-any.whl (6.5 kB)\n",
            "Requirement already satisfied: glob2 in /usr/local/lib/python3.7/dist-packages (from roboflow) (0.7)\n",
            "Requirement already satisfied: idna==2.10 in /usr/local/lib/python3.7/dist-packages (from roboflow) (2.10)\n",
            "Collecting kiwisolver==1.3.1\n",
            "  Downloading kiwisolver-1.3.1-cp37-cp37m-manylinux1_x86_64.whl (1.1 MB)\n",
            "\u001b[K     |████████████████████████████████| 1.1 MB 59.6 MB/s \n",
            "\u001b[?25hRequirement already satisfied: matplotlib in /usr/local/lib/python3.7/dist-packages (from roboflow) (3.2.2)\n",
            "Requirement already satisfied: numpy>=1.18.5 in /usr/local/lib/python3.7/dist-packages (from roboflow) (1.21.6)\n",
            "Requirement already satisfied: opencv-python-headless>=4.5.1.48 in /usr/local/lib/python3.7/dist-packages (from roboflow) (4.6.0.66)\n",
            "Requirement already satisfied: Pillow>=7.1.2 in /usr/local/lib/python3.7/dist-packages (from roboflow) (7.1.2)\n",
            "Collecting pyparsing==2.4.7\n",
            "  Downloading pyparsing-2.4.7-py2.py3-none-any.whl (67 kB)\n",
            "\u001b[K     |████████████████████████████████| 67 kB 6.6 MB/s \n",
            "\u001b[?25hRequirement already satisfied: python-dateutil in /usr/local/lib/python3.7/dist-packages (from roboflow) (2.8.2)\n",
            "Collecting python-dotenv\n",
            "  Downloading python_dotenv-0.21.0-py3-none-any.whl (18 kB)\n",
            "Requirement already satisfied: requests in /usr/local/lib/python3.7/dist-packages (from roboflow) (2.23.0)\n",
            "Collecting requests_toolbelt\n",
            "  Downloading requests_toolbelt-0.9.1-py2.py3-none-any.whl (54 kB)\n",
            "\u001b[K     |████████████████████████████████| 54 kB 3.6 MB/s \n",
            "\u001b[?25hRequirement already satisfied: six in /usr/local/lib/python3.7/dist-packages (from roboflow) (1.15.0)\n",
            "Collecting urllib3==1.26.6\n",
            "  Downloading urllib3-1.26.6-py2.py3-none-any.whl (138 kB)\n",
            "\u001b[K     |████████████████████████████████| 138 kB 71.0 MB/s \n",
            "\u001b[?25hCollecting wget\n",
            "  Downloading wget-3.2.zip (10 kB)\n",
            "Requirement already satisfied: tqdm>=4.41.0 in /usr/local/lib/python3.7/dist-packages (from roboflow) (4.64.0)\n",
            "Requirement already satisfied: PyYAML>=5.3.1 in /usr/local/lib/python3.7/dist-packages (from roboflow) (6.0)\n",
            "Collecting requests\n",
            "  Downloading requests-2.28.1-py3-none-any.whl (62 kB)\n",
            "\u001b[K     |████████████████████████████████| 62 kB 1.7 MB/s \n",
            "\u001b[?25hRequirement already satisfied: charset-normalizer<3,>=2 in /usr/local/lib/python3.7/dist-packages (from requests->roboflow) (2.1.1)\n",
            "Building wheels for collected packages: roboflow, wget\n",
            "  Building wheel for roboflow (setup.py) ... \u001b[?25l\u001b[?25hdone\n",
            "  Created wheel for roboflow: filename=roboflow-0.2.14-py3-none-any.whl size=24837 sha256=0e0d497e2cdd2ed7a1edbe0129320c9c2a4dfe4e97c70c15fc459d1e4b822606\n",
            "  Stored in directory: /root/.cache/pip/wheels/c7/84/36/a6a32c749ead923690d15d20443fb53fa2fe10beaa408f371b\n",
            "  Building wheel for wget (setup.py) ... \u001b[?25l\u001b[?25hdone\n",
            "  Created wheel for wget: filename=wget-3.2-py3-none-any.whl size=9675 sha256=562545477991428184dbe4f8fa494b189cc99ee642f952d7fdfde9a726baf973\n",
            "  Stored in directory: /root/.cache/pip/wheels/a1/b6/7c/0e63e34eb06634181c63adacca38b79ff8f35c37e3c13e3c02\n",
            "Successfully built roboflow wget\n",
            "Installing collected packages: urllib3, certifi, requests, pyparsing, kiwisolver, cycler, wget, requests-toolbelt, python-dotenv, chardet, roboflow\n",
            "  Attempting uninstall: urllib3\n",
            "    Found existing installation: urllib3 1.24.3\n",
            "    Uninstalling urllib3-1.24.3:\n",
            "      Successfully uninstalled urllib3-1.24.3\n",
            "  Attempting uninstall: certifi\n",
            "    Found existing installation: certifi 2022.6.15\n",
            "    Uninstalling certifi-2022.6.15:\n",
            "      Successfully uninstalled certifi-2022.6.15\n",
            "  Attempting uninstall: requests\n",
            "    Found existing installation: requests 2.23.0\n",
            "    Uninstalling requests-2.23.0:\n",
            "      Successfully uninstalled requests-2.23.0\n",
            "  Attempting uninstall: pyparsing\n",
            "    Found existing installation: pyparsing 3.0.9\n",
            "    Uninstalling pyparsing-3.0.9:\n",
            "      Successfully uninstalled pyparsing-3.0.9\n",
            "  Attempting uninstall: kiwisolver\n",
            "    Found existing installation: kiwisolver 1.4.4\n",
            "    Uninstalling kiwisolver-1.4.4:\n",
            "      Successfully uninstalled kiwisolver-1.4.4\n",
            "  Attempting uninstall: cycler\n",
            "    Found existing installation: cycler 0.11.0\n",
            "    Uninstalling cycler-0.11.0:\n",
            "      Successfully uninstalled cycler-0.11.0\n",
            "  Attempting uninstall: chardet\n",
            "    Found existing installation: chardet 3.0.4\n",
            "    Uninstalling chardet-3.0.4:\n",
            "      Successfully uninstalled chardet-3.0.4\n",
            "Successfully installed certifi-2021.5.30 chardet-4.0.0 cycler-0.10.0 kiwisolver-1.3.1 pyparsing-2.4.7 python-dotenv-0.21.0 requests-2.28.1 requests-toolbelt-0.9.1 roboflow-0.2.14 urllib3-1.26.6 wget-3.2\n"
          ]
        },
        {
          "output_type": "display_data",
          "data": {
            "application/vnd.colab-display-data+json": {
              "pip_warning": {
                "packages": [
                  "cycler",
                  "kiwisolver",
                  "pyparsing"
                ]
              }
            }
          },
          "metadata": {}
        },
        {
          "output_type": "stream",
          "name": "stdout",
          "text": [
            "loading Roboflow workspace...\n",
            "loading Roboflow project...\n",
            "Downloading Dataset Version Zip in KIT315-9 to yolov7pytorch: 100% [107461134 / 107461134] bytes\n"
          ]
        },
        {
          "output_type": "stream",
          "name": "stderr",
          "text": [
            "Extracting Dataset Version Zip to KIT315-9 in yolov7pytorch:: 100%|██████████| 2388/2388 [00:01<00:00, 1524.43it/s]\n"
          ]
        }
      ]
    },
    {
      "cell_type": "code",
      "source": [
        "%cd /content/yolov7\n",
        "!wget \"https://github.com/WongKinYiu/yolov7/releases/download/v0.1/yolov7-e6e.pt\""
      ],
      "metadata": {
        "id": "JApDV2igQjZS"
      },
      "execution_count": null,
      "outputs": []
    },
    {
      "cell_type": "code",
      "source": [
        "%cd /content/yolov7\n",
        "!python train.py --batch 16 --cfg cfg/training/yolov7.yaml --epochs 60 --data KIT315-9/data.yaml --weights 'yolov7.pt' --device 0"
      ],
      "metadata": {
        "id": "FOZhPbYqQtHG",
        "colab": {
          "base_uri": "https://localhost:8080/"
        },
        "outputId": "16246f9b-1e2c-4b1f-d04d-a7837f0bd05d"
      },
      "execution_count": 3,
      "outputs": [
        {
          "output_type": "stream",
          "name": "stdout",
          "text": [
            "/content/yolov7\n",
            "YOLOR 🚀 v0.1-107-g44d8ab4 torch 1.12.1+cu113 CUDA:0 (Tesla T4, 15109.75MB)\n",
            "\n",
            "Namespace(adam=False, artifact_alias='latest', batch_size=16, bbox_interval=-1, bucket='', cache_images=False, cfg='cfg/training/yolov7.yaml', data='KIT315-9/data.yaml', device='0', entity=None, epochs=60, evolve=False, exist_ok=False, freeze=[0], global_rank=-1, hyp='data/hyp.scratch.p5.yaml', image_weights=False, img_size=[640, 640], label_smoothing=0.0, linear_lr=False, local_rank=-1, multi_scale=False, name='exp', noautoanchor=False, nosave=False, notest=False, project='runs/train', quad=False, rect=False, resume=False, save_dir='runs/train/exp', save_period=-1, single_cls=False, sync_bn=False, total_batch_size=16, upload_dataset=False, weights='yolov7.pt', workers=8, world_size=1)\n",
            "\u001b[34m\u001b[1mtensorboard: \u001b[0mStart with 'tensorboard --logdir runs/train', view at http://localhost:6006/\n",
            "\u001b[34m\u001b[1mhyperparameters: \u001b[0mlr0=0.01, lrf=0.1, momentum=0.937, weight_decay=0.0005, warmup_epochs=3.0, warmup_momentum=0.8, warmup_bias_lr=0.1, box=0.05, cls=0.3, cls_pw=1.0, obj=0.7, obj_pw=1.0, iou_t=0.2, anchor_t=4.0, fl_gamma=0.0, hsv_h=0.015, hsv_s=0.7, hsv_v=0.4, degrees=0.0, translate=0.2, scale=0.9, shear=0.0, perspective=0.0, flipud=0.0, fliplr=0.5, mosaic=1.0, mixup=0.15, copy_paste=0.0, paste_in=0.15, loss_ota=1\n",
            "\u001b[34m\u001b[1mwandb: \u001b[0mInstall Weights & Biases for YOLOR logging with 'pip install wandb' (recommended)\n",
            "Downloading https://github.com/WongKinYiu/yolov7/releases/download/v0.1/yolov7.pt to yolov7.pt...\n",
            "100% 72.1M/72.1M [00:05<00:00, 12.8MB/s]\n",
            "\n",
            "Overriding model.yaml nc=80 with nc=3\n",
            "\n",
            "                 from  n    params  module                                  arguments                     \n",
            "  0                -1  1       928  models.common.Conv                      [3, 32, 3, 1]                 \n",
            "  1                -1  1     18560  models.common.Conv                      [32, 64, 3, 2]                \n",
            "  2                -1  1     36992  models.common.Conv                      [64, 64, 3, 1]                \n",
            "  3                -1  1     73984  models.common.Conv                      [64, 128, 3, 2]               \n",
            "  4                -1  1      8320  models.common.Conv                      [128, 64, 1, 1]               \n",
            "  5                -2  1      8320  models.common.Conv                      [128, 64, 1, 1]               \n",
            "  6                -1  1     36992  models.common.Conv                      [64, 64, 3, 1]                \n",
            "  7                -1  1     36992  models.common.Conv                      [64, 64, 3, 1]                \n",
            "  8                -1  1     36992  models.common.Conv                      [64, 64, 3, 1]                \n",
            "  9                -1  1     36992  models.common.Conv                      [64, 64, 3, 1]                \n",
            " 10  [-1, -3, -5, -6]  1         0  models.common.Concat                    [1]                           \n",
            " 11                -1  1     66048  models.common.Conv                      [256, 256, 1, 1]              \n",
            " 12                -1  1         0  models.common.MP                        []                            \n",
            " 13                -1  1     33024  models.common.Conv                      [256, 128, 1, 1]              \n",
            " 14                -3  1     33024  models.common.Conv                      [256, 128, 1, 1]              \n",
            " 15                -1  1    147712  models.common.Conv                      [128, 128, 3, 2]              \n",
            " 16          [-1, -3]  1         0  models.common.Concat                    [1]                           \n",
            " 17                -1  1     33024  models.common.Conv                      [256, 128, 1, 1]              \n",
            " 18                -2  1     33024  models.common.Conv                      [256, 128, 1, 1]              \n",
            " 19                -1  1    147712  models.common.Conv                      [128, 128, 3, 1]              \n",
            " 20                -1  1    147712  models.common.Conv                      [128, 128, 3, 1]              \n",
            " 21                -1  1    147712  models.common.Conv                      [128, 128, 3, 1]              \n",
            " 22                -1  1    147712  models.common.Conv                      [128, 128, 3, 1]              \n",
            " 23  [-1, -3, -5, -6]  1         0  models.common.Concat                    [1]                           \n",
            " 24                -1  1    263168  models.common.Conv                      [512, 512, 1, 1]              \n",
            " 25                -1  1         0  models.common.MP                        []                            \n",
            " 26                -1  1    131584  models.common.Conv                      [512, 256, 1, 1]              \n",
            " 27                -3  1    131584  models.common.Conv                      [512, 256, 1, 1]              \n",
            " 28                -1  1    590336  models.common.Conv                      [256, 256, 3, 2]              \n",
            " 29          [-1, -3]  1         0  models.common.Concat                    [1]                           \n",
            " 30                -1  1    131584  models.common.Conv                      [512, 256, 1, 1]              \n",
            " 31                -2  1    131584  models.common.Conv                      [512, 256, 1, 1]              \n",
            " 32                -1  1    590336  models.common.Conv                      [256, 256, 3, 1]              \n",
            " 33                -1  1    590336  models.common.Conv                      [256, 256, 3, 1]              \n",
            " 34                -1  1    590336  models.common.Conv                      [256, 256, 3, 1]              \n",
            " 35                -1  1    590336  models.common.Conv                      [256, 256, 3, 1]              \n",
            " 36  [-1, -3, -5, -6]  1         0  models.common.Concat                    [1]                           \n",
            " 37                -1  1   1050624  models.common.Conv                      [1024, 1024, 1, 1]            \n",
            " 38                -1  1         0  models.common.MP                        []                            \n",
            " 39                -1  1    525312  models.common.Conv                      [1024, 512, 1, 1]             \n",
            " 40                -3  1    525312  models.common.Conv                      [1024, 512, 1, 1]             \n",
            " 41                -1  1   2360320  models.common.Conv                      [512, 512, 3, 2]              \n",
            " 42          [-1, -3]  1         0  models.common.Concat                    [1]                           \n",
            " 43                -1  1    262656  models.common.Conv                      [1024, 256, 1, 1]             \n",
            " 44                -2  1    262656  models.common.Conv                      [1024, 256, 1, 1]             \n",
            " 45                -1  1    590336  models.common.Conv                      [256, 256, 3, 1]              \n",
            " 46                -1  1    590336  models.common.Conv                      [256, 256, 3, 1]              \n",
            " 47                -1  1    590336  models.common.Conv                      [256, 256, 3, 1]              \n",
            " 48                -1  1    590336  models.common.Conv                      [256, 256, 3, 1]              \n",
            " 49  [-1, -3, -5, -6]  1         0  models.common.Concat                    [1]                           \n",
            " 50                -1  1   1050624  models.common.Conv                      [1024, 1024, 1, 1]            \n",
            " 51                -1  1   7609344  models.common.SPPCSPC                   [1024, 512, 1]                \n",
            " 52                -1  1    131584  models.common.Conv                      [512, 256, 1, 1]              \n",
            " 53                -1  1         0  torch.nn.modules.upsampling.Upsample    [None, 2, 'nearest']          \n",
            " 54                37  1    262656  models.common.Conv                      [1024, 256, 1, 1]             \n",
            " 55          [-1, -2]  1         0  models.common.Concat                    [1]                           \n",
            " 56                -1  1    131584  models.common.Conv                      [512, 256, 1, 1]              \n",
            " 57                -2  1    131584  models.common.Conv                      [512, 256, 1, 1]              \n",
            " 58                -1  1    295168  models.common.Conv                      [256, 128, 3, 1]              \n",
            " 59                -1  1    147712  models.common.Conv                      [128, 128, 3, 1]              \n",
            " 60                -1  1    147712  models.common.Conv                      [128, 128, 3, 1]              \n",
            " 61                -1  1    147712  models.common.Conv                      [128, 128, 3, 1]              \n",
            " 62[-1, -2, -3, -4, -5, -6]  1         0  models.common.Concat                    [1]                           \n",
            " 63                -1  1    262656  models.common.Conv                      [1024, 256, 1, 1]             \n",
            " 64                -1  1     33024  models.common.Conv                      [256, 128, 1, 1]              \n",
            " 65                -1  1         0  torch.nn.modules.upsampling.Upsample    [None, 2, 'nearest']          \n",
            " 66                24  1     65792  models.common.Conv                      [512, 128, 1, 1]              \n",
            " 67          [-1, -2]  1         0  models.common.Concat                    [1]                           \n",
            " 68                -1  1     33024  models.common.Conv                      [256, 128, 1, 1]              \n",
            " 69                -2  1     33024  models.common.Conv                      [256, 128, 1, 1]              \n",
            " 70                -1  1     73856  models.common.Conv                      [128, 64, 3, 1]               \n",
            " 71                -1  1     36992  models.common.Conv                      [64, 64, 3, 1]                \n",
            " 72                -1  1     36992  models.common.Conv                      [64, 64, 3, 1]                \n",
            " 73                -1  1     36992  models.common.Conv                      [64, 64, 3, 1]                \n",
            " 74[-1, -2, -3, -4, -5, -6]  1         0  models.common.Concat                    [1]                           \n",
            " 75                -1  1     65792  models.common.Conv                      [512, 128, 1, 1]              \n",
            " 76                -1  1         0  models.common.MP                        []                            \n",
            " 77                -1  1     16640  models.common.Conv                      [128, 128, 1, 1]              \n",
            " 78                -3  1     16640  models.common.Conv                      [128, 128, 1, 1]              \n",
            " 79                -1  1    147712  models.common.Conv                      [128, 128, 3, 2]              \n",
            " 80      [-1, -3, 63]  1         0  models.common.Concat                    [1]                           \n",
            " 81                -1  1    131584  models.common.Conv                      [512, 256, 1, 1]              \n",
            " 82                -2  1    131584  models.common.Conv                      [512, 256, 1, 1]              \n",
            " 83                -1  1    295168  models.common.Conv                      [256, 128, 3, 1]              \n",
            " 84                -1  1    147712  models.common.Conv                      [128, 128, 3, 1]              \n",
            " 85                -1  1    147712  models.common.Conv                      [128, 128, 3, 1]              \n",
            " 86                -1  1    147712  models.common.Conv                      [128, 128, 3, 1]              \n",
            " 87[-1, -2, -3, -4, -5, -6]  1         0  models.common.Concat                    [1]                           \n",
            " 88                -1  1    262656  models.common.Conv                      [1024, 256, 1, 1]             \n",
            " 89                -1  1         0  models.common.MP                        []                            \n",
            " 90                -1  1     66048  models.common.Conv                      [256, 256, 1, 1]              \n",
            " 91                -3  1     66048  models.common.Conv                      [256, 256, 1, 1]              \n",
            " 92                -1  1    590336  models.common.Conv                      [256, 256, 3, 2]              \n",
            " 93      [-1, -3, 51]  1         0  models.common.Concat                    [1]                           \n",
            " 94                -1  1    525312  models.common.Conv                      [1024, 512, 1, 1]             \n",
            " 95                -2  1    525312  models.common.Conv                      [1024, 512, 1, 1]             \n",
            " 96                -1  1   1180160  models.common.Conv                      [512, 256, 3, 1]              \n",
            " 97                -1  1    590336  models.common.Conv                      [256, 256, 3, 1]              \n",
            " 98                -1  1    590336  models.common.Conv                      [256, 256, 3, 1]              \n",
            " 99                -1  1    590336  models.common.Conv                      [256, 256, 3, 1]              \n",
            "100[-1, -2, -3, -4, -5, -6]  1         0  models.common.Concat                    [1]                           \n",
            "101                -1  1   1049600  models.common.Conv                      [2048, 512, 1, 1]             \n",
            "102                75  1    328704  models.common.RepConv                   [128, 256, 3, 1]              \n",
            "103                88  1   1312768  models.common.RepConv                   [256, 512, 3, 1]              \n",
            "104               101  1   5246976  models.common.RepConv                   [512, 1024, 3, 1]             \n",
            "105   [102, 103, 104]  1     44944  models.yolo.IDetect                     [3, [[12, 16, 19, 36, 40, 28], [36, 75, 76, 55, 72, 146], [142, 110, 192, 243, 459, 401]], [256, 512, 1024]]\n",
            "/usr/local/lib/python3.7/dist-packages/torch/functional.py:478: UserWarning: torch.meshgrid: in an upcoming release, it will be required to pass the indexing argument. (Triggered internally at  ../aten/src/ATen/native/TensorShape.cpp:2894.)\n",
            "  return _VF.meshgrid(tensors, **kwargs)  # type: ignore[attr-defined]\n",
            "Model Summary: 415 layers, 37207344 parameters, 37207344 gradients, 105.1 GFLOPS\n",
            "\n",
            "Transferred 552/566 items from yolov7.pt\n",
            "Scaled weight_decay = 0.0005\n",
            "Optimizer groups: 95 .bias, 95 conv.weight, 98 other\n",
            "\u001b[34m\u001b[1mtrain: \u001b[0mScanning 'KIT315-9/train/labels' images and labels... 1005 found, 0 missing, 0 empty, 0 corrupted: 100% 1005/1005 [00:00<00:00, 3409.60it/s]\n",
            "\u001b[34m\u001b[1mtrain: \u001b[0mNew cache created: KIT315-9/train/labels.cache\n",
            "\u001b[34m\u001b[1mval: \u001b[0mScanning 'KIT315-9/valid/labels' images and labels... 103 found, 0 missing, 0 empty, 0 corrupted: 100% 103/103 [00:00<00:00, 1745.68it/s]\n",
            "\u001b[34m\u001b[1mval: \u001b[0mNew cache created: KIT315-9/valid/labels.cache\n",
            "\n",
            "\u001b[34m\u001b[1mautoanchor: \u001b[0mAnalyzing anchors... anchors/target = 3.87, Best Possible Recall (BPR) = 0.9992\n",
            "Image sizes 640 train, 640 test\n",
            "Using 2 dataloader workers\n",
            "Logging results to runs/train/exp\n",
            "Starting training for 60 epochs...\n",
            "\n",
            "     Epoch   gpu_mem       box       obj       cls     total    labels  img_size\n",
            "      0/59     9.89G   0.07194    0.7812   0.02324    0.8763        99       640: 100% 63/63 [01:34<00:00,  1.50s/it]\n",
            "               Class      Images      Labels           P           R      mAP@.5  mAP@.5:.95: 100% 4/4 [00:16<00:00,  4.06s/it]\n",
            "                 all         103         391      0.0271       0.085     0.00868     0.00164\n",
            "\n",
            "     Epoch   gpu_mem       box       obj       cls     total    labels  img_size\n",
            "      1/59     10.6G   0.07204   0.03487   0.02321    0.1301       105       640: 100% 63/63 [01:00<00:00,  1.04it/s]\n",
            "               Class      Images      Labels           P           R      mAP@.5  mAP@.5:.95: 100% 4/4 [00:03<00:00,  1.04it/s]\n",
            "                 all         103         391      0.0582       0.232      0.0366     0.00859\n",
            "\n",
            "     Epoch   gpu_mem       box       obj       cls     total    labels  img_size\n",
            "      2/59     10.6G   0.06978   0.01679   0.02303    0.1096       111       640: 100% 63/63 [00:59<00:00,  1.06it/s]\n",
            "               Class      Images      Labels           P           R      mAP@.5  mAP@.5:.95: 100% 4/4 [00:02<00:00,  1.70it/s]\n",
            "                 all         103         391       0.259       0.378       0.186      0.0636\n",
            "\n",
            "     Epoch   gpu_mem       box       obj       cls     total    labels  img_size\n",
            "      3/59     10.6G   0.06252   0.01416   0.02279   0.09946        94       640: 100% 63/63 [00:57<00:00,  1.09it/s]\n",
            "               Class      Images      Labels           P           R      mAP@.5  mAP@.5:.95: 100% 4/4 [00:01<00:00,  2.00it/s]\n",
            "                 all         103         391       0.259        0.52       0.229       0.116\n",
            "\n",
            "     Epoch   gpu_mem       box       obj       cls     total    labels  img_size\n",
            "      4/59     10.6G   0.04962   0.01431   0.02174   0.08567        62       640: 100% 63/63 [00:59<00:00,  1.05it/s]\n",
            "               Class      Images      Labels           P           R      mAP@.5  mAP@.5:.95: 100% 4/4 [00:01<00:00,  2.11it/s]\n",
            "                 all         103         391       0.296       0.721         0.3       0.174\n",
            "\n",
            "     Epoch   gpu_mem       box       obj       cls     total    labels  img_size\n",
            "      5/59     10.6G   0.04318   0.01432   0.02101   0.07852        69       640: 100% 63/63 [00:59<00:00,  1.07it/s]\n",
            "               Class      Images      Labels           P           R      mAP@.5  mAP@.5:.95: 100% 4/4 [00:02<00:00,  1.80it/s]\n",
            "                 all         103         391       0.315        0.69       0.317       0.193\n",
            "\n",
            "     Epoch   gpu_mem       box       obj       cls     total    labels  img_size\n",
            "      6/59     10.6G   0.04083   0.01448   0.02092   0.07624        47       640: 100% 63/63 [00:59<00:00,  1.07it/s]\n",
            "               Class      Images      Labels           P           R      mAP@.5  mAP@.5:.95: 100% 4/4 [00:01<00:00,  2.12it/s]\n",
            "                 all         103         391       0.346       0.647       0.332       0.205\n",
            "\n",
            "     Epoch   gpu_mem       box       obj       cls     total    labels  img_size\n",
            "      7/59     10.6G   0.03717   0.01481   0.02073   0.07271        92       640: 100% 63/63 [00:59<00:00,  1.06it/s]\n",
            "               Class      Images      Labels           P           R      mAP@.5  mAP@.5:.95: 100% 4/4 [00:01<00:00,  2.04it/s]\n",
            "                 all         103         391       0.338       0.686       0.317       0.205\n",
            "\n",
            "     Epoch   gpu_mem       box       obj       cls     total    labels  img_size\n",
            "      8/59     10.6G    0.0364   0.01489   0.02027   0.07156       123       640: 100% 63/63 [00:58<00:00,  1.08it/s]\n",
            "               Class      Images      Labels           P           R      mAP@.5  mAP@.5:.95: 100% 4/4 [00:01<00:00,  2.02it/s]\n",
            "                 all         103         391       0.323       0.701       0.329        0.21\n",
            "\n",
            "     Epoch   gpu_mem       box       obj       cls     total    labels  img_size\n",
            "      9/59     10.6G   0.03497   0.01412   0.02016   0.06924       119       640: 100% 63/63 [00:58<00:00,  1.08it/s]\n",
            "               Class      Images      Labels           P           R      mAP@.5  mAP@.5:.95: 100% 4/4 [00:01<00:00,  2.06it/s]\n",
            "                 all         103         391       0.314       0.738       0.335       0.211\n",
            "\n",
            "     Epoch   gpu_mem       box       obj       cls     total    labels  img_size\n",
            "     10/59     10.6G    0.0334   0.01406   0.01953     0.067       104       640: 100% 63/63 [00:58<00:00,  1.07it/s]\n",
            "               Class      Images      Labels           P           R      mAP@.5  mAP@.5:.95: 100% 4/4 [00:02<00:00,  1.95it/s]\n",
            "                 all         103         391       0.317       0.764       0.347       0.223\n",
            "\n",
            "     Epoch   gpu_mem       box       obj       cls     total    labels  img_size\n",
            "     11/59     10.6G   0.03227   0.01536   0.01892   0.06655        66       640: 100% 63/63 [00:57<00:00,  1.09it/s]\n",
            "               Class      Images      Labels           P           R      mAP@.5  mAP@.5:.95: 100% 4/4 [00:01<00:00,  2.02it/s]\n",
            "                 all         103         391       0.312       0.702       0.352       0.229\n",
            "\n",
            "     Epoch   gpu_mem       box       obj       cls     total    labels  img_size\n",
            "     12/59     10.6G   0.03213   0.01525   0.01691   0.06429        90       640: 100% 63/63 [00:59<00:00,  1.07it/s]\n",
            "               Class      Images      Labels           P           R      mAP@.5  mAP@.5:.95: 100% 4/4 [00:02<00:00,  1.98it/s]\n",
            "                 all         103         391       0.335       0.758       0.424       0.265\n",
            "\n",
            "     Epoch   gpu_mem       box       obj       cls     total    labels  img_size\n",
            "     13/59     10.6G    0.0348   0.01601   0.01491   0.06572       102       640: 100% 63/63 [00:58<00:00,  1.08it/s]\n",
            "               Class      Images      Labels           P           R      mAP@.5  mAP@.5:.95: 100% 4/4 [00:02<00:00,  1.70it/s]\n",
            "                 all         103         391       0.364       0.632       0.416       0.267\n",
            "\n",
            "     Epoch   gpu_mem       box       obj       cls     total    labels  img_size\n",
            "     14/59     10.6G    0.0344   0.01528   0.01337   0.06306        81       640: 100% 63/63 [00:57<00:00,  1.09it/s]\n",
            "               Class      Images      Labels           P           R      mAP@.5  mAP@.5:.95: 100% 4/4 [00:01<00:00,  2.06it/s]\n",
            "                 all         103         391       0.502       0.672       0.581        0.35\n",
            "\n",
            "     Epoch   gpu_mem       box       obj       cls     total    labels  img_size\n",
            "     15/59     10.6G   0.03362    0.0152   0.01072   0.05955       119       640: 100% 63/63 [00:59<00:00,  1.06it/s]\n",
            "               Class      Images      Labels           P           R      mAP@.5  mAP@.5:.95: 100% 4/4 [00:01<00:00,  2.02it/s]\n",
            "                 all         103         391       0.601        0.66       0.654       0.363\n",
            "\n",
            "     Epoch   gpu_mem       box       obj       cls     total    labels  img_size\n",
            "     16/59     10.6G   0.03432   0.01527  0.008912    0.0585        92       640: 100% 63/63 [00:57<00:00,  1.09it/s]\n",
            "               Class      Images      Labels           P           R      mAP@.5  mAP@.5:.95: 100% 4/4 [00:01<00:00,  2.07it/s]\n",
            "                 all         103         391       0.702       0.701       0.696       0.402\n",
            "\n",
            "     Epoch   gpu_mem       box       obj       cls     total    labels  img_size\n",
            "     17/59     10.6G   0.03345   0.01494  0.007818   0.05621        79       640: 100% 63/63 [00:58<00:00,  1.07it/s]\n",
            "               Class      Images      Labels           P           R      mAP@.5  mAP@.5:.95: 100% 4/4 [00:01<00:00,  2.10it/s]\n",
            "                 all         103         391        0.68       0.718       0.717       0.428\n",
            "\n",
            "     Epoch   gpu_mem       box       obj       cls     total    labels  img_size\n",
            "     18/59     10.6G   0.03247   0.01471  0.007104   0.05429        51       640: 100% 63/63 [00:58<00:00,  1.07it/s]\n",
            "               Class      Images      Labels           P           R      mAP@.5  mAP@.5:.95: 100% 4/4 [00:02<00:00,  1.87it/s]\n",
            "                 all         103         391         0.8       0.753       0.817       0.501\n",
            "\n",
            "     Epoch   gpu_mem       box       obj       cls     total    labels  img_size\n",
            "     19/59     10.6G   0.03195   0.01513  0.006279   0.05336        52       640: 100% 63/63 [00:58<00:00,  1.08it/s]\n",
            "               Class      Images      Labels           P           R      mAP@.5  mAP@.5:.95: 100% 4/4 [00:01<00:00,  2.05it/s]\n",
            "                 all         103         391       0.758       0.674       0.765       0.469\n",
            "\n",
            "     Epoch   gpu_mem       box       obj       cls     total    labels  img_size\n",
            "     20/59     10.6G    0.0311   0.01481  0.005806   0.05171       111       640: 100% 63/63 [00:58<00:00,  1.08it/s]\n",
            "               Class      Images      Labels           P           R      mAP@.5  mAP@.5:.95: 100% 4/4 [00:02<00:00,  1.93it/s]\n",
            "                 all         103         391       0.714       0.784       0.799       0.507\n",
            "\n",
            "     Epoch   gpu_mem       box       obj       cls     total    labels  img_size\n",
            "     21/59     10.6G    0.0307   0.01535  0.005979   0.05204        49       640: 100% 63/63 [00:58<00:00,  1.08it/s]\n",
            "               Class      Images      Labels           P           R      mAP@.5  mAP@.5:.95: 100% 4/4 [00:02<00:00,  1.81it/s]\n",
            "                 all         103         391        0.74       0.755       0.791       0.504\n",
            "\n",
            "     Epoch   gpu_mem       box       obj       cls     total    labels  img_size\n",
            "     22/59     10.6G   0.02924   0.01428  0.005085   0.04861       119       640: 100% 63/63 [00:58<00:00,  1.08it/s]\n",
            "               Class      Images      Labels           P           R      mAP@.5  mAP@.5:.95: 100% 4/4 [00:01<00:00,  2.13it/s]\n",
            "                 all         103         391       0.805       0.778       0.795       0.536\n",
            "\n",
            "     Epoch   gpu_mem       box       obj       cls     total    labels  img_size\n",
            "     23/59     10.6G   0.02935   0.01406  0.004653   0.04807       113       640: 100% 63/63 [00:58<00:00,  1.07it/s]\n",
            "               Class      Images      Labels           P           R      mAP@.5  mAP@.5:.95: 100% 4/4 [00:02<00:00,  1.61it/s]\n",
            "                 all         103         391       0.685       0.787       0.785       0.532\n",
            "\n",
            "     Epoch   gpu_mem       box       obj       cls     total    labels  img_size\n",
            "     24/59     10.6G   0.02841   0.01449  0.004364   0.04726       115       640: 100% 63/63 [00:58<00:00,  1.08it/s]\n",
            "               Class      Images      Labels           P           R      mAP@.5  mAP@.5:.95: 100% 4/4 [00:02<00:00,  1.98it/s]\n",
            "                 all         103         391       0.769       0.787       0.816       0.537\n",
            "\n",
            "     Epoch   gpu_mem       box       obj       cls     total    labels  img_size\n",
            "     25/59     10.6G   0.02858    0.0144  0.004429   0.04741        99       640: 100% 63/63 [00:58<00:00,  1.07it/s]\n",
            "               Class      Images      Labels           P           R      mAP@.5  mAP@.5:.95: 100% 4/4 [00:02<00:00,  1.84it/s]\n",
            "                 all         103         391       0.845       0.789        0.84        0.55\n",
            "\n",
            "     Epoch   gpu_mem       box       obj       cls     total    labels  img_size\n",
            "     26/59     10.6G   0.02787   0.01391  0.005233   0.04702        88       640: 100% 63/63 [00:58<00:00,  1.07it/s]\n",
            "               Class      Images      Labels           P           R      mAP@.5  mAP@.5:.95: 100% 4/4 [00:02<00:00,  1.96it/s]\n",
            "                 all         103         391       0.804       0.715       0.811       0.555\n",
            "\n",
            "     Epoch   gpu_mem       box       obj       cls     total    labels  img_size\n",
            "     27/59     10.6G   0.02785   0.01394  0.005023   0.04681        85       640: 100% 63/63 [00:57<00:00,  1.10it/s]\n",
            "               Class      Images      Labels           P           R      mAP@.5  mAP@.5:.95: 100% 4/4 [00:01<00:00,  2.07it/s]\n",
            "                 all         103         391       0.757        0.83       0.835       0.572\n",
            "\n",
            "     Epoch   gpu_mem       box       obj       cls     total    labels  img_size\n",
            "     28/59     10.6G   0.02762   0.01391  0.004421   0.04595       127       640: 100% 63/63 [00:58<00:00,  1.09it/s]\n",
            "               Class      Images      Labels           P           R      mAP@.5  mAP@.5:.95: 100% 4/4 [00:02<00:00,  1.82it/s]\n",
            "                 all         103         391       0.852       0.756       0.815       0.544\n",
            "\n",
            "     Epoch   gpu_mem       box       obj       cls     total    labels  img_size\n",
            "     29/59     10.6G   0.02652   0.01343  0.003737   0.04369        64       640: 100% 63/63 [00:57<00:00,  1.09it/s]\n",
            "               Class      Images      Labels           P           R      mAP@.5  mAP@.5:.95: 100% 4/4 [00:02<00:00,  1.91it/s]\n",
            "                 all         103         391       0.802       0.808       0.842       0.594\n",
            "\n",
            "     Epoch   gpu_mem       box       obj       cls     total    labels  img_size\n",
            "     30/59     10.6G   0.02629   0.01305  0.003583   0.04292       115       640: 100% 63/63 [00:58<00:00,  1.09it/s]\n",
            "               Class      Images      Labels           P           R      mAP@.5  mAP@.5:.95: 100% 4/4 [00:01<00:00,  2.08it/s]\n",
            "                 all         103         391       0.849       0.801        0.84       0.582\n",
            "\n",
            "     Epoch   gpu_mem       box       obj       cls     total    labels  img_size\n",
            "     31/59     10.6G   0.02617   0.01304  0.004157   0.04336        76       640: 100% 63/63 [00:58<00:00,  1.08it/s]\n",
            "               Class      Images      Labels           P           R      mAP@.5  mAP@.5:.95: 100% 4/4 [00:02<00:00,  1.93it/s]\n",
            "                 all         103         391       0.804       0.801       0.854       0.579\n",
            "\n",
            "     Epoch   gpu_mem       box       obj       cls     total    labels  img_size\n",
            "     32/59     10.6G   0.02703   0.01415  0.004229   0.04541        61       640: 100% 63/63 [00:58<00:00,  1.08it/s]\n",
            "               Class      Images      Labels           P           R      mAP@.5  mAP@.5:.95: 100% 4/4 [00:01<00:00,  2.02it/s]\n",
            "                 all         103         391       0.787       0.798       0.828       0.543\n",
            "\n",
            "     Epoch   gpu_mem       box       obj       cls     total    labels  img_size\n",
            "     33/59     10.6G   0.02566    0.0131  0.003591   0.04236       113       640: 100% 63/63 [00:58<00:00,  1.08it/s]\n",
            "               Class      Images      Labels           P           R      mAP@.5  mAP@.5:.95: 100% 4/4 [00:02<00:00,  1.86it/s]\n",
            "                 all         103         391        0.85       0.809       0.844       0.588\n",
            "\n",
            "     Epoch   gpu_mem       box       obj       cls     total    labels  img_size\n",
            "     34/59     10.6G   0.02565   0.01327  0.003386   0.04231       107       640: 100% 63/63 [00:57<00:00,  1.10it/s]\n",
            "               Class      Images      Labels           P           R      mAP@.5  mAP@.5:.95: 100% 4/4 [00:02<00:00,  1.51it/s]\n",
            "                 all         103         391       0.823       0.816       0.849       0.584\n",
            "\n",
            "     Epoch   gpu_mem       box       obj       cls     total    labels  img_size\n",
            "     35/59     10.6G   0.02489   0.01251  0.002669   0.04007        59       640: 100% 63/63 [00:57<00:00,  1.09it/s]\n",
            "               Class      Images      Labels           P           R      mAP@.5  mAP@.5:.95: 100% 4/4 [00:02<00:00,  1.89it/s]\n",
            "                 all         103         391        0.87       0.812       0.869       0.618\n",
            "\n",
            "     Epoch   gpu_mem       box       obj       cls     total    labels  img_size\n",
            "     36/59     10.6G    0.0241   0.01246  0.002457   0.03901        66       640: 100% 63/63 [00:58<00:00,  1.08it/s]\n",
            "               Class      Images      Labels           P           R      mAP@.5  mAP@.5:.95: 100% 4/4 [00:01<00:00,  2.08it/s]\n",
            "                 all         103         391       0.853       0.827       0.866        0.61\n",
            "\n",
            "     Epoch   gpu_mem       box       obj       cls     total    labels  img_size\n",
            "     37/59     10.6G   0.02405   0.01231  0.002419   0.03878        74       640: 100% 63/63 [00:57<00:00,  1.09it/s]\n",
            "               Class      Images      Labels           P           R      mAP@.5  mAP@.5:.95: 100% 4/4 [00:01<00:00,  2.08it/s]\n",
            "                 all         103         391       0.878       0.812       0.872       0.626\n",
            "\n",
            "     Epoch   gpu_mem       box       obj       cls     total    labels  img_size\n",
            "     38/59     10.6G   0.02372   0.01175  0.002677   0.03815       128       640: 100% 63/63 [00:58<00:00,  1.08it/s]\n",
            "               Class      Images      Labels           P           R      mAP@.5  mAP@.5:.95: 100% 4/4 [00:02<00:00,  1.99it/s]\n",
            "                 all         103         391       0.893       0.819       0.879       0.625\n",
            "\n",
            "     Epoch   gpu_mem       box       obj       cls     total    labels  img_size\n",
            "     39/59     10.6G   0.02336   0.01268  0.002028   0.03807       105       640: 100% 63/63 [00:58<00:00,  1.08it/s]\n",
            "               Class      Images      Labels           P           R      mAP@.5  mAP@.5:.95: 100% 4/4 [00:02<00:00,  1.79it/s]\n",
            "                 all         103         391       0.856       0.853       0.882       0.632\n",
            "\n",
            "     Epoch   gpu_mem       box       obj       cls     total    labels  img_size\n",
            "     40/59     10.6G   0.02288   0.01178  0.001717   0.03638       143       640: 100% 63/63 [00:57<00:00,  1.09it/s]\n",
            "               Class      Images      Labels           P           R      mAP@.5  mAP@.5:.95: 100% 4/4 [00:01<00:00,  2.12it/s]\n",
            "                 all         103         391       0.869       0.823       0.875       0.624\n",
            "\n",
            "     Epoch   gpu_mem       box       obj       cls     total    labels  img_size\n",
            "     41/59     10.6G    0.0227   0.01146  0.001818   0.03598        87       640: 100% 63/63 [00:58<00:00,  1.08it/s]\n",
            "               Class      Images      Labels           P           R      mAP@.5  mAP@.5:.95: 100% 4/4 [00:01<00:00,  2.08it/s]\n",
            "                 all         103         391       0.865       0.812       0.862       0.613\n",
            "\n",
            "     Epoch   gpu_mem       box       obj       cls     total    labels  img_size\n",
            "     42/59     10.6G   0.02267   0.01157  0.002034   0.03627        52       640: 100% 63/63 [00:57<00:00,  1.09it/s]\n",
            "               Class      Images      Labels           P           R      mAP@.5  mAP@.5:.95: 100% 4/4 [00:01<00:00,  2.08it/s]\n",
            "                 all         103         391       0.873       0.795       0.852       0.622\n",
            "\n",
            "     Epoch   gpu_mem       box       obj       cls     total    labels  img_size\n",
            "     43/59     10.6G   0.02199   0.01212  0.001533   0.03565        68       640: 100% 63/63 [00:58<00:00,  1.07it/s]\n",
            "               Class      Images      Labels           P           R      mAP@.5  mAP@.5:.95: 100% 4/4 [00:01<00:00,  2.00it/s]\n",
            "                 all         103         391       0.867       0.822       0.861       0.623\n",
            "\n",
            "     Epoch   gpu_mem       box       obj       cls     total    labels  img_size\n",
            "     44/59     10.6G   0.02186   0.01212  0.001395   0.03538        94       640: 100% 63/63 [00:59<00:00,  1.06it/s]\n",
            "               Class      Images      Labels           P           R      mAP@.5  mAP@.5:.95: 100% 4/4 [00:01<00:00,  2.10it/s]\n",
            "                 all         103         391       0.867       0.823       0.861       0.632\n",
            "\n",
            "     Epoch   gpu_mem       box       obj       cls     total    labels  img_size\n",
            "     45/59     10.6G    0.0215   0.01153  0.001366    0.0344        90       640: 100% 63/63 [00:58<00:00,  1.08it/s]\n",
            "               Class      Images      Labels           P           R      mAP@.5  mAP@.5:.95: 100% 4/4 [00:01<00:00,  2.05it/s]\n",
            "                 all         103         391       0.876       0.816       0.861       0.624\n",
            "\n",
            "     Epoch   gpu_mem       box       obj       cls     total    labels  img_size\n",
            "     46/59     10.6G    0.0216   0.01123  0.001768    0.0346        89       640: 100% 63/63 [00:59<00:00,  1.06it/s]\n",
            "               Class      Images      Labels           P           R      mAP@.5  mAP@.5:.95: 100% 4/4 [00:02<00:00,  1.99it/s]\n",
            "                 all         103         391        0.89       0.822       0.862       0.627\n",
            "\n",
            "     Epoch   gpu_mem       box       obj       cls     total    labels  img_size\n",
            "     47/59     10.6G   0.02151   0.01122  0.001595   0.03433        91       640: 100% 63/63 [00:59<00:00,  1.06it/s]\n",
            "               Class      Images      Labels           P           R      mAP@.5  mAP@.5:.95: 100% 4/4 [00:02<00:00,  1.98it/s]\n",
            "                 all         103         391       0.888       0.803       0.856       0.623\n",
            "\n",
            "     Epoch   gpu_mem       box       obj       cls     total    labels  img_size\n",
            "     48/59     10.6G   0.02156   0.01103  0.001484   0.03408       152       640: 100% 63/63 [00:58<00:00,  1.08it/s]\n",
            "               Class      Images      Labels           P           R      mAP@.5  mAP@.5:.95: 100% 4/4 [00:02<00:00,  1.98it/s]\n",
            "                 all         103         391       0.894       0.796       0.866       0.624\n",
            "\n",
            "     Epoch   gpu_mem       box       obj       cls     total    labels  img_size\n",
            "     49/59     10.6G   0.02107   0.01099  0.001363   0.03342        70       640: 100% 63/63 [00:59<00:00,  1.06it/s]\n",
            "               Class      Images      Labels           P           R      mAP@.5  mAP@.5:.95: 100% 4/4 [00:01<00:00,  2.08it/s]\n",
            "                 all         103         391       0.864       0.847       0.864       0.632\n",
            "\n",
            "     Epoch   gpu_mem       box       obj       cls     total    labels  img_size\n",
            "     50/59     10.6G   0.02108    0.0114  0.001351   0.03384        81       640: 100% 63/63 [00:58<00:00,  1.07it/s]\n",
            "               Class      Images      Labels           P           R      mAP@.5  mAP@.5:.95: 100% 4/4 [00:02<00:00,  1.74it/s]\n",
            "                 all         103         391       0.857       0.842       0.861        0.63\n",
            "\n",
            "     Epoch   gpu_mem       box       obj       cls     total    labels  img_size\n",
            "     51/59     10.6G   0.02058   0.01127   0.00127   0.03313        96       640: 100% 63/63 [00:58<00:00,  1.08it/s]\n",
            "               Class      Images      Labels           P           R      mAP@.5  mAP@.5:.95: 100% 4/4 [00:01<00:00,  2.07it/s]\n",
            "                 all         103         391       0.848       0.834       0.859       0.628\n",
            "\n",
            "     Epoch   gpu_mem       box       obj       cls     total    labels  img_size\n",
            "     52/59     10.6G   0.02061    0.0107   0.00126   0.03257        44       640: 100% 63/63 [00:58<00:00,  1.07it/s]\n",
            "               Class      Images      Labels           P           R      mAP@.5  mAP@.5:.95: 100% 4/4 [00:01<00:00,  2.10it/s]\n",
            "                 all         103         391       0.836       0.843       0.861       0.641\n",
            "\n",
            "     Epoch   gpu_mem       box       obj       cls     total    labels  img_size\n",
            "     53/59     10.6G   0.02003   0.01085  0.001209   0.03209        86       640: 100% 63/63 [00:58<00:00,  1.08it/s]\n",
            "               Class      Images      Labels           P           R      mAP@.5  mAP@.5:.95: 100% 4/4 [00:01<00:00,  2.12it/s]\n",
            "                 all         103         391       0.873       0.818        0.86       0.633\n",
            "\n",
            "     Epoch   gpu_mem       box       obj       cls     total    labels  img_size\n",
            "     54/59     10.6G   0.02022   0.01107  0.001313   0.03261       124       640: 100% 63/63 [00:59<00:00,  1.06it/s]\n",
            "               Class      Images      Labels           P           R      mAP@.5  mAP@.5:.95: 100% 4/4 [00:01<00:00,  2.03it/s]\n",
            "                 all         103         391       0.893       0.808       0.862       0.632\n",
            "\n",
            "     Epoch   gpu_mem       box       obj       cls     total    labels  img_size\n",
            "     55/59     10.6G   0.02019   0.01118  0.001296   0.03267        68       640: 100% 63/63 [00:59<00:00,  1.06it/s]\n",
            "               Class      Images      Labels           P           R      mAP@.5  mAP@.5:.95: 100% 4/4 [00:01<00:00,  2.08it/s]\n",
            "                 all         103         391        0.89       0.805       0.851       0.624\n",
            "\n",
            "     Epoch   gpu_mem       box       obj       cls     total    labels  img_size\n",
            "     56/59     10.6G   0.01941   0.01078  0.001239   0.03143        64       640: 100% 63/63 [00:57<00:00,  1.09it/s]\n",
            "               Class      Images      Labels           P           R      mAP@.5  mAP@.5:.95: 100% 4/4 [00:02<00:00,  1.85it/s]\n",
            "                 all         103         391       0.887       0.816       0.854       0.625\n",
            "\n",
            "     Epoch   gpu_mem       box       obj       cls     total    labels  img_size\n",
            "     57/59     10.6G   0.01972   0.01072  0.001202   0.03164        53       640: 100% 63/63 [00:58<00:00,  1.08it/s]\n",
            "               Class      Images      Labels           P           R      mAP@.5  mAP@.5:.95: 100% 4/4 [00:01<00:00,  2.03it/s]\n",
            "                 all         103         391        0.86       0.826       0.847       0.625\n",
            "\n",
            "     Epoch   gpu_mem       box       obj       cls     total    labels  img_size\n",
            "     58/59     10.6G   0.01947   0.01062  0.001088   0.03118        85       640: 100% 63/63 [00:58<00:00,  1.07it/s]\n",
            "               Class      Images      Labels           P           R      mAP@.5  mAP@.5:.95: 100% 4/4 [00:02<00:00,  1.64it/s]\n",
            "                 all         103         391        0.88       0.807       0.841       0.622\n",
            "\n",
            "     Epoch   gpu_mem       box       obj       cls     total    labels  img_size\n",
            "     59/59     10.6G   0.01979   0.01073  0.001276   0.03179       126       640: 100% 63/63 [00:58<00:00,  1.08it/s]\n",
            "               Class      Images      Labels           P           R      mAP@.5  mAP@.5:.95: 100% 4/4 [00:03<00:00,  1.23it/s]\n",
            "                 all         103         391       0.871        0.81       0.834       0.605\n",
            "   Chinstrap Penguin         103          63       0.819       0.873       0.874       0.668\n",
            "     Emperor Penguin         103         212       0.918       0.816        0.87       0.554\n",
            "        King Penguin         103         116       0.877       0.741       0.757       0.593\n",
            "60 epochs completed in 1.057 hours.\n",
            "\n",
            "Optimizer stripped from runs/train/exp/weights/last.pt, 74.8MB\n",
            "Optimizer stripped from runs/train/exp/weights/best.pt, 74.8MB\n"
          ]
        }
      ]
    },
    {
      "cell_type": "code",
      "source": [
        "!python detect.py --weights runs/train/exp/weights/best.pt --conf 0.1 --source /content/drive/MyDrive/KIT315_Project/Image_demo/penguin.mp4"
      ],
      "metadata": {
        "id": "YBtdA5MpQyhw",
        "colab": {
          "base_uri": "https://localhost:8080/"
        },
        "outputId": "8791af67-156c-4659-9d55-cf0b6a52a0ca"
      },
      "execution_count": 6,
      "outputs": [
        {
          "output_type": "stream",
          "name": "stdout",
          "text": [
            "Namespace(agnostic_nms=False, augment=False, classes=None, conf_thres=0.1, device='', exist_ok=False, img_size=640, iou_thres=0.45, name='exp', no_trace=False, nosave=False, project='runs/detect', save_conf=False, save_txt=False, source='/content/drive/MyDrive/KIT315_Project/Image_demo/penguin.mp4', update=False, view_img=False, weights=['runs/train/exp/weights/best.pt'])\n",
            "YOLOR 🚀 v0.1-107-g44d8ab4 torch 1.12.1+cu113 CUDA:0 (Tesla T4, 15109.75MB)\n",
            "\n",
            "Fusing layers... \n",
            "RepConv.fuse_repvgg_block\n",
            "RepConv.fuse_repvgg_block\n",
            "RepConv.fuse_repvgg_block\n",
            "IDetect.fuse\n",
            "/usr/local/lib/python3.7/dist-packages/torch/functional.py:478: UserWarning: torch.meshgrid: in an upcoming release, it will be required to pass the indexing argument. (Triggered internally at  ../aten/src/ATen/native/TensorShape.cpp:2894.)\n",
            "  return _VF.meshgrid(tensors, **kwargs)  # type: ignore[attr-defined]\n",
            "Model Summary: 314 layers, 36492560 parameters, 6194944 gradients, 103.2 GFLOPS\n",
            " Convert model to Traced-model... \n",
            " traced_script_module saved! \n",
            " model is traced! \n",
            "\n",
            "video 1/1 (1/791) /content/drive/MyDrive/KIT315_Project/Image_demo/penguin.mp4: 6 Emperor Penguins, Done. (16.0ms) Inference, (1.4ms) NMS\n",
            "video 1/1 (2/791) /content/drive/MyDrive/KIT315_Project/Image_demo/penguin.mp4: 8 Emperor Penguins, Done. (16.1ms) Inference, (1.2ms) NMS\n",
            "video 1/1 (3/791) /content/drive/MyDrive/KIT315_Project/Image_demo/penguin.mp4: 8 Emperor Penguins, Done. (16.1ms) Inference, (1.0ms) NMS\n",
            "video 1/1 (4/791) /content/drive/MyDrive/KIT315_Project/Image_demo/penguin.mp4: 8 Emperor Penguins, Done. (21.2ms) Inference, (1.4ms) NMS\n",
            "video 1/1 (5/791) /content/drive/MyDrive/KIT315_Project/Image_demo/penguin.mp4: 8 Emperor Penguins, Done. (16.1ms) Inference, (1.0ms) NMS\n",
            "video 1/1 (6/791) /content/drive/MyDrive/KIT315_Project/Image_demo/penguin.mp4: 8 Emperor Penguins, Done. (16.0ms) Inference, (1.0ms) NMS\n",
            "video 1/1 (7/791) /content/drive/MyDrive/KIT315_Project/Image_demo/penguin.mp4: 9 Emperor Penguins, Done. (16.0ms) Inference, (1.0ms) NMS\n",
            "video 1/1 (8/791) /content/drive/MyDrive/KIT315_Project/Image_demo/penguin.mp4: 9 Emperor Penguins, Done. (16.5ms) Inference, (0.9ms) NMS\n",
            "video 1/1 (9/791) /content/drive/MyDrive/KIT315_Project/Image_demo/penguin.mp4: 9 Emperor Penguins, Done. (14.6ms) Inference, (1.0ms) NMS\n",
            "video 1/1 (10/791) /content/drive/MyDrive/KIT315_Project/Image_demo/penguin.mp4: 9 Emperor Penguins, 1 King Penguin, Done. (14.6ms) Inference, (0.9ms) NMS\n",
            "video 1/1 (11/791) /content/drive/MyDrive/KIT315_Project/Image_demo/penguin.mp4: 9 Emperor Penguins, 1 King Penguin, Done. (14.6ms) Inference, (1.0ms) NMS\n",
            "video 1/1 (12/791) /content/drive/MyDrive/KIT315_Project/Image_demo/penguin.mp4: 10 Emperor Penguins, 1 King Penguin, Done. (14.6ms) Inference, (0.9ms) NMS\n",
            "video 1/1 (13/791) /content/drive/MyDrive/KIT315_Project/Image_demo/penguin.mp4: 10 Emperor Penguins, 1 King Penguin, Done. (14.6ms) Inference, (1.0ms) NMS\n",
            "video 1/1 (14/791) /content/drive/MyDrive/KIT315_Project/Image_demo/penguin.mp4: 10 Emperor Penguins, 1 King Penguin, Done. (14.6ms) Inference, (1.1ms) NMS\n",
            "video 1/1 (15/791) /content/drive/MyDrive/KIT315_Project/Image_demo/penguin.mp4: 10 Emperor Penguins, Done. (12.1ms) Inference, (0.9ms) NMS\n",
            "video 1/1 (16/791) /content/drive/MyDrive/KIT315_Project/Image_demo/penguin.mp4: 9 Emperor Penguins, Done. (14.8ms) Inference, (0.9ms) NMS\n",
            "video 1/1 (17/791) /content/drive/MyDrive/KIT315_Project/Image_demo/penguin.mp4: 9 Emperor Penguins, Done. (12.1ms) Inference, (0.9ms) NMS\n",
            "video 1/1 (18/791) /content/drive/MyDrive/KIT315_Project/Image_demo/penguin.mp4: 10 Emperor Penguins, Done. (14.8ms) Inference, (0.9ms) NMS\n",
            "video 1/1 (19/791) /content/drive/MyDrive/KIT315_Project/Image_demo/penguin.mp4: 10 Emperor Penguins, Done. (12.1ms) Inference, (0.9ms) NMS\n",
            "video 1/1 (20/791) /content/drive/MyDrive/KIT315_Project/Image_demo/penguin.mp4: 10 Emperor Penguins, Done. (12.1ms) Inference, (1.0ms) NMS\n",
            "video 1/1 (21/791) /content/drive/MyDrive/KIT315_Project/Image_demo/penguin.mp4: 10 Emperor Penguins, Done. (12.1ms) Inference, (0.9ms) NMS\n",
            "video 1/1 (22/791) /content/drive/MyDrive/KIT315_Project/Image_demo/penguin.mp4: 10 Emperor Penguins, Done. (12.7ms) Inference, (0.9ms) NMS\n",
            "video 1/1 (23/791) /content/drive/MyDrive/KIT315_Project/Image_demo/penguin.mp4: 9 Emperor Penguins, Done. (11.5ms) Inference, (1.0ms) NMS\n",
            "video 1/1 (24/791) /content/drive/MyDrive/KIT315_Project/Image_demo/penguin.mp4: 9 Emperor Penguins, Done. (12.5ms) Inference, (0.9ms) NMS\n",
            "video 1/1 (25/791) /content/drive/MyDrive/KIT315_Project/Image_demo/penguin.mp4: 10 Emperor Penguins, 1 King Penguin, Done. (12.1ms) Inference, (0.9ms) NMS\n",
            "video 1/1 (26/791) /content/drive/MyDrive/KIT315_Project/Image_demo/penguin.mp4: 10 Emperor Penguins, 1 King Penguin, Done. (14.0ms) Inference, (1.3ms) NMS\n",
            "video 1/1 (27/791) /content/drive/MyDrive/KIT315_Project/Image_demo/penguin.mp4: 10 Emperor Penguins, 1 King Penguin, Done. (11.3ms) Inference, (0.9ms) NMS\n",
            "video 1/1 (28/791) /content/drive/MyDrive/KIT315_Project/Image_demo/penguin.mp4: 10 Emperor Penguins, 1 King Penguin, Done. (11.4ms) Inference, (0.9ms) NMS\n",
            "video 1/1 (29/791) /content/drive/MyDrive/KIT315_Project/Image_demo/penguin.mp4: 10 Emperor Penguins, 1 King Penguin, Done. (15.0ms) Inference, (0.9ms) NMS\n",
            "video 1/1 (30/791) /content/drive/MyDrive/KIT315_Project/Image_demo/penguin.mp4: 10 Emperor Penguins, 1 King Penguin, Done. (11.3ms) Inference, (0.9ms) NMS\n",
            "video 1/1 (31/791) /content/drive/MyDrive/KIT315_Project/Image_demo/penguin.mp4: 10 Emperor Penguins, 1 King Penguin, Done. (11.4ms) Inference, (0.9ms) NMS\n",
            "video 1/1 (32/791) /content/drive/MyDrive/KIT315_Project/Image_demo/penguin.mp4: 9 Emperor Penguins, 1 King Penguin, Done. (19.0ms) Inference, (0.9ms) NMS\n",
            "video 1/1 (33/791) /content/drive/MyDrive/KIT315_Project/Image_demo/penguin.mp4: 9 Emperor Penguins, 1 King Penguin, Done. (11.1ms) Inference, (0.9ms) NMS\n",
            "video 1/1 (34/791) /content/drive/MyDrive/KIT315_Project/Image_demo/penguin.mp4: 9 Emperor Penguins, 1 King Penguin, Done. (11.2ms) Inference, (0.9ms) NMS\n",
            "video 1/1 (35/791) /content/drive/MyDrive/KIT315_Project/Image_demo/penguin.mp4: 8 Emperor Penguins, 1 King Penguin, Done. (12.3ms) Inference, (0.9ms) NMS\n",
            "video 1/1 (36/791) /content/drive/MyDrive/KIT315_Project/Image_demo/penguin.mp4: 8 Emperor Penguins, 1 King Penguin, Done. (11.8ms) Inference, (0.9ms) NMS\n",
            "video 1/1 (37/791) /content/drive/MyDrive/KIT315_Project/Image_demo/penguin.mp4: 8 Emperor Penguins, 1 King Penguin, Done. (11.2ms) Inference, (0.9ms) NMS\n",
            "video 1/1 (38/791) /content/drive/MyDrive/KIT315_Project/Image_demo/penguin.mp4: 8 Emperor Penguins, 1 King Penguin, Done. (11.1ms) Inference, (0.9ms) NMS\n",
            "video 1/1 (39/791) /content/drive/MyDrive/KIT315_Project/Image_demo/penguin.mp4: 8 Emperor Penguins, 1 King Penguin, Done. (13.9ms) Inference, (0.9ms) NMS\n",
            "video 1/1 (40/791) /content/drive/MyDrive/KIT315_Project/Image_demo/penguin.mp4: 13 Emperor Penguins, Done. (15.0ms) Inference, (1.0ms) NMS\n",
            "video 1/1 (41/791) /content/drive/MyDrive/KIT315_Project/Image_demo/penguin.mp4: 12 Emperor Penguins, Done. (11.1ms) Inference, (1.0ms) NMS\n",
            "video 1/1 (42/791) /content/drive/MyDrive/KIT315_Project/Image_demo/penguin.mp4: 13 Emperor Penguins, Done. (11.2ms) Inference, (1.0ms) NMS\n",
            "video 1/1 (43/791) /content/drive/MyDrive/KIT315_Project/Image_demo/penguin.mp4: 13 Emperor Penguins, Done. (12.1ms) Inference, (1.1ms) NMS\n",
            "video 1/1 (44/791) /content/drive/MyDrive/KIT315_Project/Image_demo/penguin.mp4: 13 Emperor Penguins, Done. (12.6ms) Inference, (1.2ms) NMS\n",
            "video 1/1 (45/791) /content/drive/MyDrive/KIT315_Project/Image_demo/penguin.mp4: 13 Emperor Penguins, Done. (11.1ms) Inference, (0.9ms) NMS\n",
            "video 1/1 (46/791) /content/drive/MyDrive/KIT315_Project/Image_demo/penguin.mp4: 14 Emperor Penguins, Done. (10.6ms) Inference, (0.9ms) NMS\n",
            "video 1/1 (47/791) /content/drive/MyDrive/KIT315_Project/Image_demo/penguin.mp4: 13 Emperor Penguins, Done. (11.3ms) Inference, (0.9ms) NMS\n",
            "video 1/1 (48/791) /content/drive/MyDrive/KIT315_Project/Image_demo/penguin.mp4: 15 Emperor Penguins, Done. (16.6ms) Inference, (0.9ms) NMS\n",
            "video 1/1 (49/791) /content/drive/MyDrive/KIT315_Project/Image_demo/penguin.mp4: 15 Emperor Penguins, Done. (10.6ms) Inference, (0.9ms) NMS\n",
            "video 1/1 (50/791) /content/drive/MyDrive/KIT315_Project/Image_demo/penguin.mp4: 15 Emperor Penguins, Done. (11.2ms) Inference, (0.9ms) NMS\n",
            "video 1/1 (51/791) /content/drive/MyDrive/KIT315_Project/Image_demo/penguin.mp4: 15 Emperor Penguins, Done. (14.4ms) Inference, (0.9ms) NMS\n",
            "video 1/1 (52/791) /content/drive/MyDrive/KIT315_Project/Image_demo/penguin.mp4: 15 Emperor Penguins, Done. (11.7ms) Inference, (0.9ms) NMS\n",
            "video 1/1 (53/791) /content/drive/MyDrive/KIT315_Project/Image_demo/penguin.mp4: 15 Emperor Penguins, Done. (10.6ms) Inference, (0.9ms) NMS\n",
            "video 1/1 (54/791) /content/drive/MyDrive/KIT315_Project/Image_demo/penguin.mp4: 15 Emperor Penguins, Done. (10.8ms) Inference, (0.9ms) NMS\n",
            "video 1/1 (55/791) /content/drive/MyDrive/KIT315_Project/Image_demo/penguin.mp4: 15 Emperor Penguins, Done. (10.9ms) Inference, (1.3ms) NMS\n",
            "video 1/1 (56/791) /content/drive/MyDrive/KIT315_Project/Image_demo/penguin.mp4: 15 Emperor Penguins, Done. (10.8ms) Inference, (0.9ms) NMS\n",
            "video 1/1 (57/791) /content/drive/MyDrive/KIT315_Project/Image_demo/penguin.mp4: 14 Emperor Penguins, Done. (12.9ms) Inference, (0.9ms) NMS\n",
            "video 1/1 (58/791) /content/drive/MyDrive/KIT315_Project/Image_demo/penguin.mp4: 14 Emperor Penguins, Done. (10.9ms) Inference, (0.9ms) NMS\n",
            "video 1/1 (59/791) /content/drive/MyDrive/KIT315_Project/Image_demo/penguin.mp4: 14 Emperor Penguins, Done. (10.9ms) Inference, (0.9ms) NMS\n",
            "video 1/1 (60/791) /content/drive/MyDrive/KIT315_Project/Image_demo/penguin.mp4: 13 Emperor Penguins, Done. (12.2ms) Inference, (1.1ms) NMS\n",
            "video 1/1 (61/791) /content/drive/MyDrive/KIT315_Project/Image_demo/penguin.mp4: 14 Emperor Penguins, Done. (20.9ms) Inference, (1.7ms) NMS\n",
            "video 1/1 (62/791) /content/drive/MyDrive/KIT315_Project/Image_demo/penguin.mp4: 14 Emperor Penguins, Done. (17.9ms) Inference, (1.4ms) NMS\n",
            "video 1/1 (63/791) /content/drive/MyDrive/KIT315_Project/Image_demo/penguin.mp4: 13 Emperor Penguins, Done. (16.2ms) Inference, (1.4ms) NMS\n",
            "video 1/1 (64/791) /content/drive/MyDrive/KIT315_Project/Image_demo/penguin.mp4: 16 Emperor Penguins, Done. (13.6ms) Inference, (1.3ms) NMS\n",
            "video 1/1 (65/791) /content/drive/MyDrive/KIT315_Project/Image_demo/penguin.mp4: 14 Emperor Penguins, Done. (18.0ms) Inference, (1.6ms) NMS\n",
            "video 1/1 (66/791) /content/drive/MyDrive/KIT315_Project/Image_demo/penguin.mp4: 14 Emperor Penguins, Done. (13.2ms) Inference, (1.1ms) NMS\n",
            "video 1/1 (67/791) /content/drive/MyDrive/KIT315_Project/Image_demo/penguin.mp4: 14 Emperor Penguins, Done. (13.4ms) Inference, (1.3ms) NMS\n",
            "video 1/1 (68/791) /content/drive/MyDrive/KIT315_Project/Image_demo/penguin.mp4: 15 Emperor Penguins, Done. (11.3ms) Inference, (0.9ms) NMS\n",
            "video 1/1 (69/791) /content/drive/MyDrive/KIT315_Project/Image_demo/penguin.mp4: 14 Emperor Penguins, Done. (14.4ms) Inference, (0.9ms) NMS\n",
            "video 1/1 (70/791) /content/drive/MyDrive/KIT315_Project/Image_demo/penguin.mp4: 14 Emperor Penguins, Done. (10.9ms) Inference, (0.9ms) NMS\n",
            "video 1/1 (71/791) /content/drive/MyDrive/KIT315_Project/Image_demo/penguin.mp4: 14 Emperor Penguins, Done. (14.3ms) Inference, (1.0ms) NMS\n",
            "video 1/1 (72/791) /content/drive/MyDrive/KIT315_Project/Image_demo/penguin.mp4: 14 Emperor Penguins, Done. (11.8ms) Inference, (0.9ms) NMS\n",
            "video 1/1 (73/791) /content/drive/MyDrive/KIT315_Project/Image_demo/penguin.mp4: 14 Emperor Penguins, Done. (11.4ms) Inference, (1.2ms) NMS\n",
            "video 1/1 (74/791) /content/drive/MyDrive/KIT315_Project/Image_demo/penguin.mp4: 16 Emperor Penguins, Done. (12.4ms) Inference, (0.9ms) NMS\n",
            "video 1/1 (75/791) /content/drive/MyDrive/KIT315_Project/Image_demo/penguin.mp4: 16 Emperor Penguins, Done. (11.5ms) Inference, (0.9ms) NMS\n",
            "video 1/1 (76/791) /content/drive/MyDrive/KIT315_Project/Image_demo/penguin.mp4: 16 Emperor Penguins, Done. (11.0ms) Inference, (0.9ms) NMS\n",
            "video 1/1 (77/791) /content/drive/MyDrive/KIT315_Project/Image_demo/penguin.mp4: 16 Emperor Penguins, Done. (11.2ms) Inference, (0.9ms) NMS\n",
            "video 1/1 (78/791) /content/drive/MyDrive/KIT315_Project/Image_demo/penguin.mp4: 16 Emperor Penguins, Done. (11.8ms) Inference, (0.9ms) NMS\n",
            "video 1/1 (79/791) /content/drive/MyDrive/KIT315_Project/Image_demo/penguin.mp4: 16 Emperor Penguins, Done. (19.3ms) Inference, (1.1ms) NMS\n",
            "video 1/1 (80/791) /content/drive/MyDrive/KIT315_Project/Image_demo/penguin.mp4: 16 Emperor Penguins, Done. (10.7ms) Inference, (0.9ms) NMS\n",
            "video 1/1 (81/791) /content/drive/MyDrive/KIT315_Project/Image_demo/penguin.mp4: 16 Emperor Penguins, Done. (12.7ms) Inference, (1.1ms) NMS\n",
            "video 1/1 (82/791) /content/drive/MyDrive/KIT315_Project/Image_demo/penguin.mp4: 16 Emperor Penguins, Done. (12.6ms) Inference, (1.0ms) NMS\n",
            "video 1/1 (83/791) /content/drive/MyDrive/KIT315_Project/Image_demo/penguin.mp4: 15 Emperor Penguins, Done. (11.4ms) Inference, (0.9ms) NMS\n",
            "video 1/1 (84/791) /content/drive/MyDrive/KIT315_Project/Image_demo/penguin.mp4: 15 Emperor Penguins, Done. (11.2ms) Inference, (0.9ms) NMS\n",
            "video 1/1 (85/791) /content/drive/MyDrive/KIT315_Project/Image_demo/penguin.mp4: 17 Emperor Penguins, Done. (10.9ms) Inference, (0.9ms) NMS\n",
            "video 1/1 (86/791) /content/drive/MyDrive/KIT315_Project/Image_demo/penguin.mp4: 17 Emperor Penguins, Done. (11.6ms) Inference, (1.0ms) NMS\n",
            "video 1/1 (87/791) /content/drive/MyDrive/KIT315_Project/Image_demo/penguin.mp4: 17 Emperor Penguins, Done. (11.0ms) Inference, (0.9ms) NMS\n",
            "video 1/1 (88/791) /content/drive/MyDrive/KIT315_Project/Image_demo/penguin.mp4: 17 Emperor Penguins, Done. (11.8ms) Inference, (1.0ms) NMS\n",
            "video 1/1 (89/791) /content/drive/MyDrive/KIT315_Project/Image_demo/penguin.mp4: 17 Emperor Penguins, Done. (16.0ms) Inference, (1.1ms) NMS\n",
            "video 1/1 (90/791) /content/drive/MyDrive/KIT315_Project/Image_demo/penguin.mp4: 16 Emperor Penguins, Done. (12.7ms) Inference, (0.9ms) NMS\n",
            "video 1/1 (91/791) /content/drive/MyDrive/KIT315_Project/Image_demo/penguin.mp4: 16 Emperor Penguins, Done. (11.8ms) Inference, (1.6ms) NMS\n",
            "video 1/1 (92/791) /content/drive/MyDrive/KIT315_Project/Image_demo/penguin.mp4: 18 Emperor Penguins, Done. (10.9ms) Inference, (0.9ms) NMS\n",
            "video 1/1 (93/791) /content/drive/MyDrive/KIT315_Project/Image_demo/penguin.mp4: 16 Emperor Penguins, Done. (11.1ms) Inference, (1.1ms) NMS\n",
            "video 1/1 (94/791) /content/drive/MyDrive/KIT315_Project/Image_demo/penguin.mp4: 14 Emperor Penguins, Done. (11.0ms) Inference, (0.9ms) NMS\n",
            "video 1/1 (95/791) /content/drive/MyDrive/KIT315_Project/Image_demo/penguin.mp4: 15 Emperor Penguins, Done. (10.9ms) Inference, (0.9ms) NMS\n",
            "video 1/1 (96/791) /content/drive/MyDrive/KIT315_Project/Image_demo/penguin.mp4: 15 Emperor Penguins, Done. (15.0ms) Inference, (0.9ms) NMS\n",
            "video 1/1 (97/791) /content/drive/MyDrive/KIT315_Project/Image_demo/penguin.mp4: 16 Emperor Penguins, Done. (12.2ms) Inference, (0.9ms) NMS\n",
            "video 1/1 (98/791) /content/drive/MyDrive/KIT315_Project/Image_demo/penguin.mp4: 14 Emperor Penguins, Done. (11.3ms) Inference, (0.9ms) NMS\n",
            "video 1/1 (99/791) /content/drive/MyDrive/KIT315_Project/Image_demo/penguin.mp4: 14 Emperor Penguins, Done. (11.9ms) Inference, (0.9ms) NMS\n",
            "video 1/1 (100/791) /content/drive/MyDrive/KIT315_Project/Image_demo/penguin.mp4: 12 Emperor Penguins, Done. (11.7ms) Inference, (0.9ms) NMS\n",
            "video 1/1 (101/791) /content/drive/MyDrive/KIT315_Project/Image_demo/penguin.mp4: 13 Emperor Penguins, Done. (14.4ms) Inference, (0.9ms) NMS\n",
            "video 1/1 (102/791) /content/drive/MyDrive/KIT315_Project/Image_demo/penguin.mp4: 14 Emperor Penguins, Done. (11.9ms) Inference, (0.9ms) NMS\n",
            "video 1/1 (103/791) /content/drive/MyDrive/KIT315_Project/Image_demo/penguin.mp4: 12 Emperor Penguins, Done. (12.1ms) Inference, (0.9ms) NMS\n",
            "video 1/1 (104/791) /content/drive/MyDrive/KIT315_Project/Image_demo/penguin.mp4: 13 Emperor Penguins, Done. (11.8ms) Inference, (1.2ms) NMS\n",
            "video 1/1 (105/791) /content/drive/MyDrive/KIT315_Project/Image_demo/penguin.mp4: 11 Emperor Penguins, Done. (11.4ms) Inference, (0.9ms) NMS\n",
            "video 1/1 (106/791) /content/drive/MyDrive/KIT315_Project/Image_demo/penguin.mp4: 13 Emperor Penguins, Done. (11.8ms) Inference, (0.9ms) NMS\n",
            "video 1/1 (107/791) /content/drive/MyDrive/KIT315_Project/Image_demo/penguin.mp4: 13 Emperor Penguins, Done. (11.5ms) Inference, (0.9ms) NMS\n",
            "video 1/1 (108/791) /content/drive/MyDrive/KIT315_Project/Image_demo/penguin.mp4: 13 Emperor Penguins, Done. (12.3ms) Inference, (1.2ms) NMS\n",
            "video 1/1 (109/791) /content/drive/MyDrive/KIT315_Project/Image_demo/penguin.mp4: 13 Emperor Penguins, Done. (11.9ms) Inference, (1.0ms) NMS\n",
            "video 1/1 (110/791) /content/drive/MyDrive/KIT315_Project/Image_demo/penguin.mp4: 13 Emperor Penguins, Done. (11.7ms) Inference, (0.9ms) NMS\n",
            "video 1/1 (111/791) /content/drive/MyDrive/KIT315_Project/Image_demo/penguin.mp4: 14 Emperor Penguins, Done. (11.5ms) Inference, (1.1ms) NMS\n",
            "video 1/1 (112/791) /content/drive/MyDrive/KIT315_Project/Image_demo/penguin.mp4: 14 Emperor Penguins, Done. (12.5ms) Inference, (1.0ms) NMS\n",
            "video 1/1 (113/791) /content/drive/MyDrive/KIT315_Project/Image_demo/penguin.mp4: 14 Emperor Penguins, Done. (13.7ms) Inference, (1.9ms) NMS\n",
            "video 1/1 (114/791) /content/drive/MyDrive/KIT315_Project/Image_demo/penguin.mp4: 14 Emperor Penguins, Done. (12.8ms) Inference, (0.9ms) NMS\n",
            "video 1/1 (115/791) /content/drive/MyDrive/KIT315_Project/Image_demo/penguin.mp4: 11 Emperor Penguins, Done. (11.5ms) Inference, (0.9ms) NMS\n",
            "video 1/1 (116/791) /content/drive/MyDrive/KIT315_Project/Image_demo/penguin.mp4: 10 Emperor Penguins, Done. (11.5ms) Inference, (0.9ms) NMS\n",
            "video 1/1 (117/791) /content/drive/MyDrive/KIT315_Project/Image_demo/penguin.mp4: 10 Emperor Penguins, Done. (11.0ms) Inference, (0.9ms) NMS\n",
            "video 1/1 (118/791) /content/drive/MyDrive/KIT315_Project/Image_demo/penguin.mp4: 12 Emperor Penguins, Done. (11.4ms) Inference, (0.9ms) NMS\n",
            "video 1/1 (119/791) /content/drive/MyDrive/KIT315_Project/Image_demo/penguin.mp4: 11 Emperor Penguins, Done. (11.3ms) Inference, (0.9ms) NMS\n",
            "video 1/1 (120/791) /content/drive/MyDrive/KIT315_Project/Image_demo/penguin.mp4: 11 Emperor Penguins, Done. (11.0ms) Inference, (0.8ms) NMS\n",
            "video 1/1 (121/791) /content/drive/MyDrive/KIT315_Project/Image_demo/penguin.mp4: 11 Emperor Penguins, Done. (11.4ms) Inference, (0.9ms) NMS\n",
            "video 1/1 (122/791) /content/drive/MyDrive/KIT315_Project/Image_demo/penguin.mp4: 11 Emperor Penguins, Done. (12.3ms) Inference, (1.2ms) NMS\n",
            "video 1/1 (123/791) /content/drive/MyDrive/KIT315_Project/Image_demo/penguin.mp4: 13 Emperor Penguins, Done. (11.4ms) Inference, (0.9ms) NMS\n",
            "video 1/1 (124/791) /content/drive/MyDrive/KIT315_Project/Image_demo/penguin.mp4: 12 Emperor Penguins, Done. (12.4ms) Inference, (0.9ms) NMS\n",
            "video 1/1 (125/791) /content/drive/MyDrive/KIT315_Project/Image_demo/penguin.mp4: 13 Emperor Penguins, Done. (11.4ms) Inference, (0.9ms) NMS\n",
            "video 1/1 (126/791) /content/drive/MyDrive/KIT315_Project/Image_demo/penguin.mp4: 13 Emperor Penguins, Done. (12.0ms) Inference, (0.9ms) NMS\n",
            "video 1/1 (127/791) /content/drive/MyDrive/KIT315_Project/Image_demo/penguin.mp4: 13 Emperor Penguins, Done. (12.6ms) Inference, (0.9ms) NMS\n",
            "video 1/1 (128/791) /content/drive/MyDrive/KIT315_Project/Image_demo/penguin.mp4: 13 Emperor Penguins, Done. (11.5ms) Inference, (0.9ms) NMS\n",
            "video 1/1 (129/791) /content/drive/MyDrive/KIT315_Project/Image_demo/penguin.mp4: 13 Emperor Penguins, Done. (11.6ms) Inference, (1.0ms) NMS\n",
            "video 1/1 (130/791) /content/drive/MyDrive/KIT315_Project/Image_demo/penguin.mp4: 13 Emperor Penguins, Done. (12.0ms) Inference, (0.9ms) NMS\n",
            "video 1/1 (131/791) /content/drive/MyDrive/KIT315_Project/Image_demo/penguin.mp4: 12 Emperor Penguins, Done. (11.7ms) Inference, (1.0ms) NMS\n",
            "video 1/1 (132/791) /content/drive/MyDrive/KIT315_Project/Image_demo/penguin.mp4: 11 Emperor Penguins, Done. (11.5ms) Inference, (0.9ms) NMS\n",
            "video 1/1 (133/791) /content/drive/MyDrive/KIT315_Project/Image_demo/penguin.mp4: 11 Emperor Penguins, Done. (19.2ms) Inference, (1.4ms) NMS\n",
            "video 1/1 (134/791) /content/drive/MyDrive/KIT315_Project/Image_demo/penguin.mp4: 11 Emperor Penguins, Done. (11.4ms) Inference, (0.9ms) NMS\n",
            "video 1/1 (135/791) /content/drive/MyDrive/KIT315_Project/Image_demo/penguin.mp4: 11 Emperor Penguins, Done. (11.1ms) Inference, (0.9ms) NMS\n",
            "video 1/1 (136/791) /content/drive/MyDrive/KIT315_Project/Image_demo/penguin.mp4: 12 Emperor Penguins, Done. (11.7ms) Inference, (0.9ms) NMS\n",
            "video 1/1 (137/791) /content/drive/MyDrive/KIT315_Project/Image_demo/penguin.mp4: 12 Emperor Penguins, Done. (11.3ms) Inference, (0.9ms) NMS\n",
            "video 1/1 (138/791) /content/drive/MyDrive/KIT315_Project/Image_demo/penguin.mp4: 13 Emperor Penguins, Done. (11.9ms) Inference, (1.0ms) NMS\n",
            "video 1/1 (139/791) /content/drive/MyDrive/KIT315_Project/Image_demo/penguin.mp4: 12 Emperor Penguins, Done. (12.7ms) Inference, (0.9ms) NMS\n",
            "video 1/1 (140/791) /content/drive/MyDrive/KIT315_Project/Image_demo/penguin.mp4: 13 Emperor Penguins, Done. (12.0ms) Inference, (0.9ms) NMS\n",
            "video 1/1 (141/791) /content/drive/MyDrive/KIT315_Project/Image_demo/penguin.mp4: 12 Emperor Penguins, Done. (20.2ms) Inference, (1.4ms) NMS\n",
            "video 1/1 (142/791) /content/drive/MyDrive/KIT315_Project/Image_demo/penguin.mp4: 12 Emperor Penguins, Done. (11.7ms) Inference, (1.0ms) NMS\n",
            "video 1/1 (143/791) /content/drive/MyDrive/KIT315_Project/Image_demo/penguin.mp4: 12 Emperor Penguins, Done. (11.6ms) Inference, (1.0ms) NMS\n",
            "video 1/1 (144/791) /content/drive/MyDrive/KIT315_Project/Image_demo/penguin.mp4: 13 Emperor Penguins, Done. (13.9ms) Inference, (0.9ms) NMS\n",
            "video 1/1 (145/791) /content/drive/MyDrive/KIT315_Project/Image_demo/penguin.mp4: 12 Emperor Penguins, Done. (12.6ms) Inference, (1.0ms) NMS\n",
            "video 1/1 (146/791) /content/drive/MyDrive/KIT315_Project/Image_demo/penguin.mp4: 12 Emperor Penguins, Done. (12.7ms) Inference, (1.0ms) NMS\n",
            "video 1/1 (147/791) /content/drive/MyDrive/KIT315_Project/Image_demo/penguin.mp4: 12 Emperor Penguins, Done. (13.2ms) Inference, (0.9ms) NMS\n",
            "video 1/1 (148/791) /content/drive/MyDrive/KIT315_Project/Image_demo/penguin.mp4: 13 Emperor Penguins, Done. (11.4ms) Inference, (0.9ms) NMS\n",
            "video 1/1 (149/791) /content/drive/MyDrive/KIT315_Project/Image_demo/penguin.mp4: 13 Emperor Penguins, Done. (11.6ms) Inference, (0.8ms) NMS\n",
            "video 1/1 (150/791) /content/drive/MyDrive/KIT315_Project/Image_demo/penguin.mp4: 13 Emperor Penguins, Done. (11.9ms) Inference, (0.8ms) NMS\n",
            "video 1/1 (151/791) /content/drive/MyDrive/KIT315_Project/Image_demo/penguin.mp4: 13 Emperor Penguins, Done. (16.0ms) Inference, (1.0ms) NMS\n",
            "video 1/1 (152/791) /content/drive/MyDrive/KIT315_Project/Image_demo/penguin.mp4: 14 Emperor Penguins, Done. (12.1ms) Inference, (0.9ms) NMS\n",
            "video 1/1 (153/791) /content/drive/MyDrive/KIT315_Project/Image_demo/penguin.mp4: 13 Emperor Penguins, Done. (12.4ms) Inference, (0.9ms) NMS\n",
            "video 1/1 (154/791) /content/drive/MyDrive/KIT315_Project/Image_demo/penguin.mp4: 12 Emperor Penguins, Done. (12.6ms) Inference, (1.0ms) NMS\n",
            "video 1/1 (155/791) /content/drive/MyDrive/KIT315_Project/Image_demo/penguin.mp4: 11 Emperor Penguins, Done. (11.1ms) Inference, (0.9ms) NMS\n",
            "video 1/1 (156/791) /content/drive/MyDrive/KIT315_Project/Image_demo/penguin.mp4: 11 Emperor Penguins, Done. (12.1ms) Inference, (0.9ms) NMS\n",
            "video 1/1 (157/791) /content/drive/MyDrive/KIT315_Project/Image_demo/penguin.mp4: 12 Emperor Penguins, Done. (12.4ms) Inference, (0.9ms) NMS\n",
            "video 1/1 (158/791) /content/drive/MyDrive/KIT315_Project/Image_demo/penguin.mp4: 11 Emperor Penguins, Done. (12.7ms) Inference, (0.9ms) NMS\n",
            "video 1/1 (159/791) /content/drive/MyDrive/KIT315_Project/Image_demo/penguin.mp4: 13 Emperor Penguins, Done. (11.1ms) Inference, (0.9ms) NMS\n",
            "video 1/1 (160/791) /content/drive/MyDrive/KIT315_Project/Image_demo/penguin.mp4: 15 Emperor Penguins, Done. (10.9ms) Inference, (0.9ms) NMS\n",
            "video 1/1 (161/791) /content/drive/MyDrive/KIT315_Project/Image_demo/penguin.mp4: 15 Emperor Penguins, Done. (11.3ms) Inference, (1.3ms) NMS\n",
            "video 1/1 (162/791) /content/drive/MyDrive/KIT315_Project/Image_demo/penguin.mp4: 13 Emperor Penguins, Done. (12.4ms) Inference, (0.9ms) NMS\n",
            "video 1/1 (163/791) /content/drive/MyDrive/KIT315_Project/Image_demo/penguin.mp4: 15 Emperor Penguins, Done. (11.1ms) Inference, (0.9ms) NMS\n",
            "video 1/1 (164/791) /content/drive/MyDrive/KIT315_Project/Image_demo/penguin.mp4: 12 Emperor Penguins, Done. (11.2ms) Inference, (1.1ms) NMS\n",
            "video 1/1 (165/791) /content/drive/MyDrive/KIT315_Project/Image_demo/penguin.mp4: 12 Emperor Penguins, Done. (14.9ms) Inference, (1.0ms) NMS\n",
            "video 1/1 (166/791) /content/drive/MyDrive/KIT315_Project/Image_demo/penguin.mp4: 11 Emperor Penguins, Done. (11.3ms) Inference, (0.9ms) NMS\n",
            "video 1/1 (167/791) /content/drive/MyDrive/KIT315_Project/Image_demo/penguin.mp4: 10 Emperor Penguins, Done. (11.4ms) Inference, (0.9ms) NMS\n",
            "video 1/1 (168/791) /content/drive/MyDrive/KIT315_Project/Image_demo/penguin.mp4: 13 Emperor Penguins, Done. (11.5ms) Inference, (0.9ms) NMS\n",
            "video 1/1 (169/791) /content/drive/MyDrive/KIT315_Project/Image_demo/penguin.mp4: 13 Emperor Penguins, Done. (11.0ms) Inference, (1.0ms) NMS\n",
            "video 1/1 (170/791) /content/drive/MyDrive/KIT315_Project/Image_demo/penguin.mp4: 12 Emperor Penguins, Done. (11.4ms) Inference, (0.9ms) NMS\n",
            "video 1/1 (171/791) /content/drive/MyDrive/KIT315_Project/Image_demo/penguin.mp4: 10 Emperor Penguins, Done. (11.6ms) Inference, (0.9ms) NMS\n",
            "video 1/1 (172/791) /content/drive/MyDrive/KIT315_Project/Image_demo/penguin.mp4: 11 Emperor Penguins, Done. (12.2ms) Inference, (0.9ms) NMS\n",
            "video 1/1 (173/791) /content/drive/MyDrive/KIT315_Project/Image_demo/penguin.mp4: 11 Emperor Penguins, Done. (11.1ms) Inference, (1.0ms) NMS\n",
            "video 1/1 (174/791) /content/drive/MyDrive/KIT315_Project/Image_demo/penguin.mp4: 12 Emperor Penguins, Done. (11.3ms) Inference, (0.9ms) NMS\n",
            "video 1/1 (175/791) /content/drive/MyDrive/KIT315_Project/Image_demo/penguin.mp4: 11 Emperor Penguins, Done. (11.4ms) Inference, (0.9ms) NMS\n",
            "video 1/1 (176/791) /content/drive/MyDrive/KIT315_Project/Image_demo/penguin.mp4: 11 Emperor Penguins, Done. (11.8ms) Inference, (1.0ms) NMS\n",
            "video 1/1 (177/791) /content/drive/MyDrive/KIT315_Project/Image_demo/penguin.mp4: 11 Emperor Penguins, Done. (16.2ms) Inference, (0.9ms) NMS\n",
            "video 1/1 (178/791) /content/drive/MyDrive/KIT315_Project/Image_demo/penguin.mp4: 11 Emperor Penguins, Done. (12.1ms) Inference, (0.9ms) NMS\n",
            "video 1/1 (179/791) /content/drive/MyDrive/KIT315_Project/Image_demo/penguin.mp4: 11 Emperor Penguins, Done. (15.4ms) Inference, (0.9ms) NMS\n",
            "video 1/1 (180/791) /content/drive/MyDrive/KIT315_Project/Image_demo/penguin.mp4: 10 Emperor Penguins, Done. (10.9ms) Inference, (0.9ms) NMS\n",
            "video 1/1 (181/791) /content/drive/MyDrive/KIT315_Project/Image_demo/penguin.mp4: 11 Emperor Penguins, Done. (11.1ms) Inference, (1.0ms) NMS\n",
            "video 1/1 (182/791) /content/drive/MyDrive/KIT315_Project/Image_demo/penguin.mp4: 11 Emperor Penguins, Done. (10.8ms) Inference, (0.9ms) NMS\n",
            "video 1/1 (183/791) /content/drive/MyDrive/KIT315_Project/Image_demo/penguin.mp4: 11 Emperor Penguins, Done. (11.1ms) Inference, (0.9ms) NMS\n",
            "video 1/1 (184/791) /content/drive/MyDrive/KIT315_Project/Image_demo/penguin.mp4: 10 Emperor Penguins, Done. (11.6ms) Inference, (0.9ms) NMS\n",
            "video 1/1 (185/791) /content/drive/MyDrive/KIT315_Project/Image_demo/penguin.mp4: 10 Emperor Penguins, Done. (11.9ms) Inference, (0.9ms) NMS\n",
            "video 1/1 (186/791) /content/drive/MyDrive/KIT315_Project/Image_demo/penguin.mp4: 10 Emperor Penguins, Done. (11.6ms) Inference, (0.9ms) NMS\n",
            "video 1/1 (187/791) /content/drive/MyDrive/KIT315_Project/Image_demo/penguin.mp4: 13 Emperor Penguins, Done. (11.1ms) Inference, (0.9ms) NMS\n",
            "video 1/1 (188/791) /content/drive/MyDrive/KIT315_Project/Image_demo/penguin.mp4: 12 Emperor Penguins, Done. (13.2ms) Inference, (0.9ms) NMS\n",
            "video 1/1 (189/791) /content/drive/MyDrive/KIT315_Project/Image_demo/penguin.mp4: 6 Emperor Penguins, Done. (10.8ms) Inference, (0.9ms) NMS\n",
            "video 1/1 (190/791) /content/drive/MyDrive/KIT315_Project/Image_demo/penguin.mp4: 6 Emperor Penguins, Done. (14.2ms) Inference, (0.9ms) NMS\n",
            "video 1/1 (191/791) /content/drive/MyDrive/KIT315_Project/Image_demo/penguin.mp4: 6 Emperor Penguins, Done. (11.3ms) Inference, (0.9ms) NMS\n",
            "video 1/1 (192/791) /content/drive/MyDrive/KIT315_Project/Image_demo/penguin.mp4: 6 Emperor Penguins, Done. (10.8ms) Inference, (0.9ms) NMS\n",
            "video 1/1 (193/791) /content/drive/MyDrive/KIT315_Project/Image_demo/penguin.mp4: 6 Emperor Penguins, Done. (11.4ms) Inference, (0.9ms) NMS\n",
            "video 1/1 (194/791) /content/drive/MyDrive/KIT315_Project/Image_demo/penguin.mp4: 6 Emperor Penguins, Done. (11.4ms) Inference, (0.9ms) NMS\n",
            "video 1/1 (195/791) /content/drive/MyDrive/KIT315_Project/Image_demo/penguin.mp4: 6 Emperor Penguins, Done. (11.7ms) Inference, (0.9ms) NMS\n",
            "video 1/1 (196/791) /content/drive/MyDrive/KIT315_Project/Image_demo/penguin.mp4: 6 Emperor Penguins, Done. (11.6ms) Inference, (0.9ms) NMS\n",
            "video 1/1 (197/791) /content/drive/MyDrive/KIT315_Project/Image_demo/penguin.mp4: 6 Emperor Penguins, Done. (11.2ms) Inference, (0.9ms) NMS\n",
            "video 1/1 (198/791) /content/drive/MyDrive/KIT315_Project/Image_demo/penguin.mp4: 6 Emperor Penguins, Done. (11.8ms) Inference, (0.9ms) NMS\n",
            "video 1/1 (199/791) /content/drive/MyDrive/KIT315_Project/Image_demo/penguin.mp4: 6 Emperor Penguins, Done. (13.2ms) Inference, (0.9ms) NMS\n",
            "video 1/1 (200/791) /content/drive/MyDrive/KIT315_Project/Image_demo/penguin.mp4: 6 Emperor Penguins, Done. (10.9ms) Inference, (0.9ms) NMS\n",
            "video 1/1 (201/791) /content/drive/MyDrive/KIT315_Project/Image_demo/penguin.mp4: 6 Emperor Penguins, Done. (10.8ms) Inference, (0.9ms) NMS\n",
            "video 1/1 (202/791) /content/drive/MyDrive/KIT315_Project/Image_demo/penguin.mp4: 6 Emperor Penguins, Done. (13.4ms) Inference, (1.4ms) NMS\n",
            "video 1/1 (203/791) /content/drive/MyDrive/KIT315_Project/Image_demo/penguin.mp4: 6 Emperor Penguins, Done. (11.4ms) Inference, (0.9ms) NMS\n",
            "video 1/1 (204/791) /content/drive/MyDrive/KIT315_Project/Image_demo/penguin.mp4: 6 Emperor Penguins, Done. (10.9ms) Inference, (0.9ms) NMS\n",
            "video 1/1 (205/791) /content/drive/MyDrive/KIT315_Project/Image_demo/penguin.mp4: 6 Emperor Penguins, Done. (10.9ms) Inference, (0.9ms) NMS\n",
            "video 1/1 (206/791) /content/drive/MyDrive/KIT315_Project/Image_demo/penguin.mp4: 6 Emperor Penguins, Done. (11.5ms) Inference, (1.1ms) NMS\n",
            "video 1/1 (207/791) /content/drive/MyDrive/KIT315_Project/Image_demo/penguin.mp4: 6 Emperor Penguins, Done. (11.0ms) Inference, (0.9ms) NMS\n",
            "video 1/1 (208/791) /content/drive/MyDrive/KIT315_Project/Image_demo/penguin.mp4: 6 Emperor Penguins, Done. (11.4ms) Inference, (0.9ms) NMS\n",
            "video 1/1 (209/791) /content/drive/MyDrive/KIT315_Project/Image_demo/penguin.mp4: 6 Emperor Penguins, Done. (11.1ms) Inference, (1.0ms) NMS\n",
            "video 1/1 (210/791) /content/drive/MyDrive/KIT315_Project/Image_demo/penguin.mp4: 6 Emperor Penguins, Done. (11.9ms) Inference, (0.9ms) NMS\n",
            "video 1/1 (211/791) /content/drive/MyDrive/KIT315_Project/Image_demo/penguin.mp4: 6 Emperor Penguins, Done. (11.4ms) Inference, (1.1ms) NMS\n",
            "video 1/1 (212/791) /content/drive/MyDrive/KIT315_Project/Image_demo/penguin.mp4: 6 Emperor Penguins, Done. (10.6ms) Inference, (0.9ms) NMS\n",
            "video 1/1 (213/791) /content/drive/MyDrive/KIT315_Project/Image_demo/penguin.mp4: 6 Emperor Penguins, Done. (11.1ms) Inference, (0.9ms) NMS\n",
            "video 1/1 (214/791) /content/drive/MyDrive/KIT315_Project/Image_demo/penguin.mp4: 6 Emperor Penguins, Done. (14.1ms) Inference, (1.0ms) NMS\n",
            "video 1/1 (215/791) /content/drive/MyDrive/KIT315_Project/Image_demo/penguin.mp4: 6 Emperor Penguins, Done. (12.4ms) Inference, (0.9ms) NMS\n",
            "video 1/1 (216/791) /content/drive/MyDrive/KIT315_Project/Image_demo/penguin.mp4: 6 Emperor Penguins, Done. (15.0ms) Inference, (1.0ms) NMS\n",
            "video 1/1 (217/791) /content/drive/MyDrive/KIT315_Project/Image_demo/penguin.mp4: 6 Emperor Penguins, Done. (12.0ms) Inference, (1.0ms) NMS\n",
            "video 1/1 (218/791) /content/drive/MyDrive/KIT315_Project/Image_demo/penguin.mp4: 6 Emperor Penguins, Done. (11.1ms) Inference, (0.8ms) NMS\n",
            "video 1/1 (219/791) /content/drive/MyDrive/KIT315_Project/Image_demo/penguin.mp4: 6 Emperor Penguins, Done. (11.8ms) Inference, (1.1ms) NMS\n",
            "video 1/1 (220/791) /content/drive/MyDrive/KIT315_Project/Image_demo/penguin.mp4: 6 Emperor Penguins, Done. (11.1ms) Inference, (0.9ms) NMS\n",
            "video 1/1 (221/791) /content/drive/MyDrive/KIT315_Project/Image_demo/penguin.mp4: 6 Emperor Penguins, Done. (10.9ms) Inference, (0.9ms) NMS\n",
            "video 1/1 (222/791) /content/drive/MyDrive/KIT315_Project/Image_demo/penguin.mp4: 6 Emperor Penguins, Done. (11.2ms) Inference, (0.9ms) NMS\n",
            "video 1/1 (223/791) /content/drive/MyDrive/KIT315_Project/Image_demo/penguin.mp4: 6 Emperor Penguins, Done. (12.8ms) Inference, (0.9ms) NMS\n",
            "video 1/1 (224/791) /content/drive/MyDrive/KIT315_Project/Image_demo/penguin.mp4: 6 Emperor Penguins, Done. (10.8ms) Inference, (0.9ms) NMS\n",
            "video 1/1 (225/791) /content/drive/MyDrive/KIT315_Project/Image_demo/penguin.mp4: 6 Emperor Penguins, Done. (11.8ms) Inference, (0.9ms) NMS\n",
            "video 1/1 (226/791) /content/drive/MyDrive/KIT315_Project/Image_demo/penguin.mp4: 6 Emperor Penguins, Done. (11.3ms) Inference, (0.9ms) NMS\n",
            "video 1/1 (227/791) /content/drive/MyDrive/KIT315_Project/Image_demo/penguin.mp4: 6 Emperor Penguins, Done. (10.9ms) Inference, (0.9ms) NMS\n",
            "video 1/1 (228/791) /content/drive/MyDrive/KIT315_Project/Image_demo/penguin.mp4: 6 Emperor Penguins, Done. (11.2ms) Inference, (0.9ms) NMS\n",
            "video 1/1 (229/791) /content/drive/MyDrive/KIT315_Project/Image_demo/penguin.mp4: 6 Emperor Penguins, Done. (11.7ms) Inference, (0.9ms) NMS\n",
            "video 1/1 (230/791) /content/drive/MyDrive/KIT315_Project/Image_demo/penguin.mp4: 6 Emperor Penguins, Done. (11.6ms) Inference, (0.9ms) NMS\n",
            "video 1/1 (231/791) /content/drive/MyDrive/KIT315_Project/Image_demo/penguin.mp4: 6 Emperor Penguins, Done. (11.4ms) Inference, (0.9ms) NMS\n",
            "video 1/1 (232/791) /content/drive/MyDrive/KIT315_Project/Image_demo/penguin.mp4: 6 Emperor Penguins, Done. (10.9ms) Inference, (0.9ms) NMS\n",
            "video 1/1 (233/791) /content/drive/MyDrive/KIT315_Project/Image_demo/penguin.mp4: 6 Emperor Penguins, Done. (11.3ms) Inference, (0.9ms) NMS\n",
            "video 1/1 (234/791) /content/drive/MyDrive/KIT315_Project/Image_demo/penguin.mp4: 6 Emperor Penguins, Done. (11.1ms) Inference, (0.9ms) NMS\n",
            "video 1/1 (235/791) /content/drive/MyDrive/KIT315_Project/Image_demo/penguin.mp4: 6 Emperor Penguins, Done. (12.2ms) Inference, (0.9ms) NMS\n",
            "video 1/1 (236/791) /content/drive/MyDrive/KIT315_Project/Image_demo/penguin.mp4: 6 Emperor Penguins, Done. (11.0ms) Inference, (0.9ms) NMS\n",
            "video 1/1 (237/791) /content/drive/MyDrive/KIT315_Project/Image_demo/penguin.mp4: 6 Emperor Penguins, Done. (10.9ms) Inference, (1.0ms) NMS\n",
            "video 1/1 (238/791) /content/drive/MyDrive/KIT315_Project/Image_demo/penguin.mp4: 6 Emperor Penguins, Done. (15.8ms) Inference, (1.0ms) NMS\n",
            "video 1/1 (239/791) /content/drive/MyDrive/KIT315_Project/Image_demo/penguin.mp4: 6 Emperor Penguins, Done. (11.5ms) Inference, (0.9ms) NMS\n",
            "video 1/1 (240/791) /content/drive/MyDrive/KIT315_Project/Image_demo/penguin.mp4: 6 Emperor Penguins, Done. (11.2ms) Inference, (0.9ms) NMS\n",
            "video 1/1 (241/791) /content/drive/MyDrive/KIT315_Project/Image_demo/penguin.mp4: 6 Emperor Penguins, Done. (10.7ms) Inference, (0.9ms) NMS\n",
            "video 1/1 (242/791) /content/drive/MyDrive/KIT315_Project/Image_demo/penguin.mp4: 7 Emperor Penguins, Done. (11.0ms) Inference, (0.9ms) NMS\n",
            "video 1/1 (243/791) /content/drive/MyDrive/KIT315_Project/Image_demo/penguin.mp4: 7 Emperor Penguins, Done. (12.1ms) Inference, (0.9ms) NMS\n",
            "video 1/1 (244/791) /content/drive/MyDrive/KIT315_Project/Image_demo/penguin.mp4: 15 Emperor Penguins, Done. (11.1ms) Inference, (0.9ms) NMS\n",
            "video 1/1 (245/791) /content/drive/MyDrive/KIT315_Project/Image_demo/penguin.mp4: 15 Emperor Penguins, Done. (10.8ms) Inference, (0.9ms) NMS\n",
            "video 1/1 (246/791) /content/drive/MyDrive/KIT315_Project/Image_demo/penguin.mp4: 16 Emperor Penguins, Done. (11.2ms) Inference, (1.1ms) NMS\n",
            "video 1/1 (247/791) /content/drive/MyDrive/KIT315_Project/Image_demo/penguin.mp4: 16 Emperor Penguins, Done. (10.8ms) Inference, (0.9ms) NMS\n",
            "video 1/1 (248/791) /content/drive/MyDrive/KIT315_Project/Image_demo/penguin.mp4: 16 Emperor Penguins, Done. (11.1ms) Inference, (0.9ms) NMS\n",
            "video 1/1 (249/791) /content/drive/MyDrive/KIT315_Project/Image_demo/penguin.mp4: 17 Emperor Penguins, Done. (11.4ms) Inference, (0.9ms) NMS\n",
            "video 1/1 (250/791) /content/drive/MyDrive/KIT315_Project/Image_demo/penguin.mp4: 17 Emperor Penguins, Done. (11.1ms) Inference, (0.9ms) NMS\n",
            "video 1/1 (251/791) /content/drive/MyDrive/KIT315_Project/Image_demo/penguin.mp4: 17 Emperor Penguins, Done. (10.7ms) Inference, (0.9ms) NMS\n",
            "video 1/1 (252/791) /content/drive/MyDrive/KIT315_Project/Image_demo/penguin.mp4: 17 Emperor Penguins, Done. (10.9ms) Inference, (0.9ms) NMS\n",
            "video 1/1 (253/791) /content/drive/MyDrive/KIT315_Project/Image_demo/penguin.mp4: 16 Emperor Penguins, Done. (11.6ms) Inference, (1.0ms) NMS\n",
            "video 1/1 (254/791) /content/drive/MyDrive/KIT315_Project/Image_demo/penguin.mp4: 16 Emperor Penguins, Done. (12.0ms) Inference, (0.9ms) NMS\n",
            "video 1/1 (255/791) /content/drive/MyDrive/KIT315_Project/Image_demo/penguin.mp4: 17 Emperor Penguins, Done. (11.1ms) Inference, (0.9ms) NMS\n",
            "video 1/1 (256/791) /content/drive/MyDrive/KIT315_Project/Image_demo/penguin.mp4: 17 Emperor Penguins, Done. (14.9ms) Inference, (1.0ms) NMS\n",
            "video 1/1 (257/791) /content/drive/MyDrive/KIT315_Project/Image_demo/penguin.mp4: 17 Emperor Penguins, Done. (12.3ms) Inference, (0.9ms) NMS\n",
            "video 1/1 (258/791) /content/drive/MyDrive/KIT315_Project/Image_demo/penguin.mp4: 17 Emperor Penguins, Done. (12.6ms) Inference, (1.1ms) NMS\n",
            "video 1/1 (259/791) /content/drive/MyDrive/KIT315_Project/Image_demo/penguin.mp4: 15 Emperor Penguins, Done. (11.3ms) Inference, (0.9ms) NMS\n",
            "video 1/1 (260/791) /content/drive/MyDrive/KIT315_Project/Image_demo/penguin.mp4: 16 Emperor Penguins, Done. (11.3ms) Inference, (1.0ms) NMS\n",
            "video 1/1 (261/791) /content/drive/MyDrive/KIT315_Project/Image_demo/penguin.mp4: 15 Emperor Penguins, Done. (11.9ms) Inference, (0.9ms) NMS\n",
            "video 1/1 (262/791) /content/drive/MyDrive/KIT315_Project/Image_demo/penguin.mp4: 14 Emperor Penguins, Done. (11.4ms) Inference, (0.9ms) NMS\n",
            "video 1/1 (263/791) /content/drive/MyDrive/KIT315_Project/Image_demo/penguin.mp4: 16 Emperor Penguins, Done. (11.2ms) Inference, (0.9ms) NMS\n",
            "video 1/1 (264/791) /content/drive/MyDrive/KIT315_Project/Image_demo/penguin.mp4: 14 Emperor Penguins, Done. (11.0ms) Inference, (1.3ms) NMS\n",
            "video 1/1 (265/791) /content/drive/MyDrive/KIT315_Project/Image_demo/penguin.mp4: 15 Emperor Penguins, Done. (11.0ms) Inference, (0.9ms) NMS\n",
            "video 1/1 (266/791) /content/drive/MyDrive/KIT315_Project/Image_demo/penguin.mp4: 15 Emperor Penguins, Done. (11.4ms) Inference, (0.9ms) NMS\n",
            "video 1/1 (267/791) /content/drive/MyDrive/KIT315_Project/Image_demo/penguin.mp4: 15 Emperor Penguins, Done. (10.9ms) Inference, (1.0ms) NMS\n",
            "video 1/1 (268/791) /content/drive/MyDrive/KIT315_Project/Image_demo/penguin.mp4: 16 Emperor Penguins, Done. (11.9ms) Inference, (0.9ms) NMS\n",
            "video 1/1 (269/791) /content/drive/MyDrive/KIT315_Project/Image_demo/penguin.mp4: 16 Emperor Penguins, Done. (10.8ms) Inference, (0.9ms) NMS\n",
            "video 1/1 (270/791) /content/drive/MyDrive/KIT315_Project/Image_demo/penguin.mp4: 15 Emperor Penguins, Done. (11.9ms) Inference, (0.9ms) NMS\n",
            "video 1/1 (271/791) /content/drive/MyDrive/KIT315_Project/Image_demo/penguin.mp4: 14 Emperor Penguins, Done. (11.1ms) Inference, (0.9ms) NMS\n",
            "video 1/1 (272/791) /content/drive/MyDrive/KIT315_Project/Image_demo/penguin.mp4: 13 Emperor Penguins, Done. (14.2ms) Inference, (0.9ms) NMS\n",
            "video 1/1 (273/791) /content/drive/MyDrive/KIT315_Project/Image_demo/penguin.mp4: 13 Emperor Penguins, Done. (11.1ms) Inference, (0.9ms) NMS\n",
            "video 1/1 (274/791) /content/drive/MyDrive/KIT315_Project/Image_demo/penguin.mp4: 12 Emperor Penguins, Done. (11.1ms) Inference, (0.9ms) NMS\n",
            "video 1/1 (275/791) /content/drive/MyDrive/KIT315_Project/Image_demo/penguin.mp4: 12 Emperor Penguins, Done. (10.8ms) Inference, (0.9ms) NMS\n",
            "video 1/1 (276/791) /content/drive/MyDrive/KIT315_Project/Image_demo/penguin.mp4: 13 Emperor Penguins, Done. (12.7ms) Inference, (0.8ms) NMS\n",
            "video 1/1 (277/791) /content/drive/MyDrive/KIT315_Project/Image_demo/penguin.mp4: 12 Emperor Penguins, Done. (10.7ms) Inference, (0.9ms) NMS\n",
            "video 1/1 (278/791) /content/drive/MyDrive/KIT315_Project/Image_demo/penguin.mp4: 12 Emperor Penguins, Done. (10.7ms) Inference, (0.9ms) NMS\n",
            "video 1/1 (279/791) /content/drive/MyDrive/KIT315_Project/Image_demo/penguin.mp4: 13 Emperor Penguins, Done. (10.7ms) Inference, (0.9ms) NMS\n",
            "video 1/1 (280/791) /content/drive/MyDrive/KIT315_Project/Image_demo/penguin.mp4: 12 Emperor Penguins, Done. (11.6ms) Inference, (0.9ms) NMS\n",
            "video 1/1 (281/791) /content/drive/MyDrive/KIT315_Project/Image_demo/penguin.mp4: 12 Emperor Penguins, Done. (11.7ms) Inference, (0.9ms) NMS\n",
            "video 1/1 (282/791) /content/drive/MyDrive/KIT315_Project/Image_demo/penguin.mp4: 11 Emperor Penguins, Done. (10.8ms) Inference, (0.9ms) NMS\n",
            "video 1/1 (283/791) /content/drive/MyDrive/KIT315_Project/Image_demo/penguin.mp4: 13 Emperor Penguins, Done. (10.5ms) Inference, (0.9ms) NMS\n",
            "video 1/1 (284/791) /content/drive/MyDrive/KIT315_Project/Image_demo/penguin.mp4: 12 Emperor Penguins, Done. (14.6ms) Inference, (0.9ms) NMS\n",
            "video 1/1 (285/791) /content/drive/MyDrive/KIT315_Project/Image_demo/penguin.mp4: 11 Emperor Penguins, Done. (10.8ms) Inference, (0.9ms) NMS\n",
            "video 1/1 (286/791) /content/drive/MyDrive/KIT315_Project/Image_demo/penguin.mp4: 10 Emperor Penguins, Done. (10.9ms) Inference, (0.9ms) NMS\n",
            "video 1/1 (287/791) /content/drive/MyDrive/KIT315_Project/Image_demo/penguin.mp4: 11 Emperor Penguins, Done. (10.9ms) Inference, (0.9ms) NMS\n",
            "video 1/1 (288/791) /content/drive/MyDrive/KIT315_Project/Image_demo/penguin.mp4: 10 Emperor Penguins, Done. (11.8ms) Inference, (0.9ms) NMS\n",
            "video 1/1 (289/791) /content/drive/MyDrive/KIT315_Project/Image_demo/penguin.mp4: 10 Emperor Penguins, Done. (10.9ms) Inference, (0.9ms) NMS\n",
            "video 1/1 (290/791) /content/drive/MyDrive/KIT315_Project/Image_demo/penguin.mp4: 9 Emperor Penguins, Done. (10.6ms) Inference, (0.9ms) NMS\n",
            "video 1/1 (291/791) /content/drive/MyDrive/KIT315_Project/Image_demo/penguin.mp4: 11 Emperor Penguins, Done. (10.8ms) Inference, (0.9ms) NMS\n",
            "video 1/1 (292/791) /content/drive/MyDrive/KIT315_Project/Image_demo/penguin.mp4: 10 Emperor Penguins, Done. (11.1ms) Inference, (0.9ms) NMS\n",
            "video 1/1 (293/791) /content/drive/MyDrive/KIT315_Project/Image_demo/penguin.mp4: 9 Emperor Penguins, Done. (11.4ms) Inference, (0.9ms) NMS\n",
            "video 1/1 (294/791) /content/drive/MyDrive/KIT315_Project/Image_demo/penguin.mp4: 8 Emperor Penguins, Done. (10.8ms) Inference, (0.9ms) NMS\n",
            "video 1/1 (295/791) /content/drive/MyDrive/KIT315_Project/Image_demo/penguin.mp4: 8 Emperor Penguins, Done. (17.2ms) Inference, (1.4ms) NMS\n",
            "video 1/1 (296/791) /content/drive/MyDrive/KIT315_Project/Image_demo/penguin.mp4: 8 Emperor Penguins, Done. (13.6ms) Inference, (0.9ms) NMS\n",
            "video 1/1 (297/791) /content/drive/MyDrive/KIT315_Project/Image_demo/penguin.mp4: 9 Emperor Penguins, Done. (11.0ms) Inference, (0.9ms) NMS\n",
            "video 1/1 (298/791) /content/drive/MyDrive/KIT315_Project/Image_demo/penguin.mp4: 9 Emperor Penguins, Done. (11.3ms) Inference, (1.4ms) NMS\n",
            "video 1/1 (299/791) /content/drive/MyDrive/KIT315_Project/Image_demo/penguin.mp4: 9 Emperor Penguins, Done. (12.4ms) Inference, (0.9ms) NMS\n",
            "video 1/1 (300/791) /content/drive/MyDrive/KIT315_Project/Image_demo/penguin.mp4: 9 Emperor Penguins, Done. (10.9ms) Inference, (0.8ms) NMS\n",
            "video 1/1 (301/791) /content/drive/MyDrive/KIT315_Project/Image_demo/penguin.mp4: 9 Emperor Penguins, Done. (11.2ms) Inference, (0.9ms) NMS\n",
            "video 1/1 (302/791) /content/drive/MyDrive/KIT315_Project/Image_demo/penguin.mp4: 9 Emperor Penguins, Done. (10.7ms) Inference, (0.9ms) NMS\n",
            "video 1/1 (303/791) /content/drive/MyDrive/KIT315_Project/Image_demo/penguin.mp4: 9 Emperor Penguins, Done. (11.8ms) Inference, (0.9ms) NMS\n",
            "video 1/1 (304/791) /content/drive/MyDrive/KIT315_Project/Image_demo/penguin.mp4: 8 Emperor Penguins, Done. (13.1ms) Inference, (0.9ms) NMS\n",
            "video 1/1 (305/791) /content/drive/MyDrive/KIT315_Project/Image_demo/penguin.mp4: 8 Emperor Penguins, Done. (11.4ms) Inference, (0.9ms) NMS\n",
            "video 1/1 (306/791) /content/drive/MyDrive/KIT315_Project/Image_demo/penguin.mp4: 8 Emperor Penguins, Done. (11.2ms) Inference, (0.9ms) NMS\n",
            "video 1/1 (307/791) /content/drive/MyDrive/KIT315_Project/Image_demo/penguin.mp4: 8 Emperor Penguins, Done. (14.4ms) Inference, (0.9ms) NMS\n",
            "video 1/1 (308/791) /content/drive/MyDrive/KIT315_Project/Image_demo/penguin.mp4: 8 Emperor Penguins, Done. (10.8ms) Inference, (0.9ms) NMS\n",
            "video 1/1 (309/791) /content/drive/MyDrive/KIT315_Project/Image_demo/penguin.mp4: 10 Emperor Penguins, Done. (11.1ms) Inference, (0.9ms) NMS\n",
            "video 1/1 (310/791) /content/drive/MyDrive/KIT315_Project/Image_demo/penguin.mp4: 10 Emperor Penguins, Done. (10.7ms) Inference, (0.9ms) NMS\n",
            "video 1/1 (311/791) /content/drive/MyDrive/KIT315_Project/Image_demo/penguin.mp4: 10 Emperor Penguins, Done. (10.9ms) Inference, (1.0ms) NMS\n",
            "video 1/1 (312/791) /content/drive/MyDrive/KIT315_Project/Image_demo/penguin.mp4: 9 Emperor Penguins, Done. (10.8ms) Inference, (0.9ms) NMS\n",
            "video 1/1 (313/791) /content/drive/MyDrive/KIT315_Project/Image_demo/penguin.mp4: 10 Emperor Penguins, Done. (10.9ms) Inference, (0.9ms) NMS\n",
            "video 1/1 (314/791) /content/drive/MyDrive/KIT315_Project/Image_demo/penguin.mp4: 10 Emperor Penguins, Done. (12.6ms) Inference, (0.9ms) NMS\n",
            "video 1/1 (315/791) /content/drive/MyDrive/KIT315_Project/Image_demo/penguin.mp4: 11 Emperor Penguins, Done. (10.7ms) Inference, (0.9ms) NMS\n",
            "video 1/1 (316/791) /content/drive/MyDrive/KIT315_Project/Image_demo/penguin.mp4: 11 Emperor Penguins, Done. (12.2ms) Inference, (1.1ms) NMS\n",
            "video 1/1 (317/791) /content/drive/MyDrive/KIT315_Project/Image_demo/penguin.mp4: 11 Emperor Penguins, Done. (11.0ms) Inference, (0.9ms) NMS\n",
            "video 1/1 (318/791) /content/drive/MyDrive/KIT315_Project/Image_demo/penguin.mp4: 12 Emperor Penguins, Done. (11.6ms) Inference, (1.3ms) NMS\n",
            "video 1/1 (319/791) /content/drive/MyDrive/KIT315_Project/Image_demo/penguin.mp4: 12 Emperor Penguins, Done. (11.8ms) Inference, (0.9ms) NMS\n",
            "video 1/1 (320/791) /content/drive/MyDrive/KIT315_Project/Image_demo/penguin.mp4: 11 Emperor Penguins, Done. (11.2ms) Inference, (0.9ms) NMS\n",
            "video 1/1 (321/791) /content/drive/MyDrive/KIT315_Project/Image_demo/penguin.mp4: 11 Emperor Penguins, Done. (11.5ms) Inference, (1.0ms) NMS\n",
            "video 1/1 (322/791) /content/drive/MyDrive/KIT315_Project/Image_demo/penguin.mp4: 11 Emperor Penguins, Done. (12.1ms) Inference, (0.9ms) NMS\n",
            "video 1/1 (323/791) /content/drive/MyDrive/KIT315_Project/Image_demo/penguin.mp4: 11 Emperor Penguins, Done. (11.2ms) Inference, (0.9ms) NMS\n",
            "video 1/1 (324/791) /content/drive/MyDrive/KIT315_Project/Image_demo/penguin.mp4: 11 Emperor Penguins, Done. (11.4ms) Inference, (0.9ms) NMS\n",
            "video 1/1 (325/791) /content/drive/MyDrive/KIT315_Project/Image_demo/penguin.mp4: 11 Emperor Penguins, Done. (11.9ms) Inference, (0.9ms) NMS\n",
            "video 1/1 (326/791) /content/drive/MyDrive/KIT315_Project/Image_demo/penguin.mp4: 11 Emperor Penguins, Done. (11.0ms) Inference, (0.9ms) NMS\n",
            "video 1/1 (327/791) /content/drive/MyDrive/KIT315_Project/Image_demo/penguin.mp4: 12 Emperor Penguins, Done. (10.9ms) Inference, (0.9ms) NMS\n",
            "video 1/1 (328/791) /content/drive/MyDrive/KIT315_Project/Image_demo/penguin.mp4: 12 Emperor Penguins, Done. (10.8ms) Inference, (0.8ms) NMS\n",
            "video 1/1 (329/791) /content/drive/MyDrive/KIT315_Project/Image_demo/penguin.mp4: 12 Emperor Penguins, Done. (10.8ms) Inference, (0.8ms) NMS\n",
            "video 1/1 (330/791) /content/drive/MyDrive/KIT315_Project/Image_demo/penguin.mp4: 12 Emperor Penguins, Done. (14.0ms) Inference, (0.9ms) NMS\n",
            "video 1/1 (331/791) /content/drive/MyDrive/KIT315_Project/Image_demo/penguin.mp4: 12 Emperor Penguins, Done. (11.1ms) Inference, (0.9ms) NMS\n",
            "video 1/1 (332/791) /content/drive/MyDrive/KIT315_Project/Image_demo/penguin.mp4: 12 Emperor Penguins, Done. (12.6ms) Inference, (0.9ms) NMS\n",
            "video 1/1 (333/791) /content/drive/MyDrive/KIT315_Project/Image_demo/penguin.mp4: 11 Emperor Penguins, Done. (16.9ms) Inference, (1.4ms) NMS\n",
            "video 1/1 (334/791) /content/drive/MyDrive/KIT315_Project/Image_demo/penguin.mp4: 11 Emperor Penguins, Done. (11.4ms) Inference, (0.9ms) NMS\n",
            "video 1/1 (335/791) /content/drive/MyDrive/KIT315_Project/Image_demo/penguin.mp4: 11 Emperor Penguins, Done. (11.2ms) Inference, (0.9ms) NMS\n",
            "video 1/1 (336/791) /content/drive/MyDrive/KIT315_Project/Image_demo/penguin.mp4: 11 Emperor Penguins, Done. (11.2ms) Inference, (0.9ms) NMS\n",
            "video 1/1 (337/791) /content/drive/MyDrive/KIT315_Project/Image_demo/penguin.mp4: 12 Emperor Penguins, Done. (11.2ms) Inference, (0.9ms) NMS\n",
            "video 1/1 (338/791) /content/drive/MyDrive/KIT315_Project/Image_demo/penguin.mp4: 11 Emperor Penguins, Done. (11.5ms) Inference, (1.0ms) NMS\n",
            "video 1/1 (339/791) /content/drive/MyDrive/KIT315_Project/Image_demo/penguin.mp4: 12 Emperor Penguins, Done. (12.1ms) Inference, (1.0ms) NMS\n",
            "video 1/1 (340/791) /content/drive/MyDrive/KIT315_Project/Image_demo/penguin.mp4: 11 Emperor Penguins, Done. (10.7ms) Inference, (0.9ms) NMS\n",
            "video 1/1 (341/791) /content/drive/MyDrive/KIT315_Project/Image_demo/penguin.mp4: 10 Emperor Penguins, Done. (11.9ms) Inference, (1.0ms) NMS\n",
            "video 1/1 (342/791) /content/drive/MyDrive/KIT315_Project/Image_demo/penguin.mp4: 10 Emperor Penguins, Done. (11.0ms) Inference, (0.9ms) NMS\n",
            "video 1/1 (343/791) /content/drive/MyDrive/KIT315_Project/Image_demo/penguin.mp4: 11 Emperor Penguins, Done. (12.2ms) Inference, (0.9ms) NMS\n",
            "video 1/1 (344/791) /content/drive/MyDrive/KIT315_Project/Image_demo/penguin.mp4: 10 Emperor Penguins, Done. (10.9ms) Inference, (1.1ms) NMS\n",
            "video 1/1 (345/791) /content/drive/MyDrive/KIT315_Project/Image_demo/penguin.mp4: 10 Emperor Penguins, Done. (11.9ms) Inference, (0.9ms) NMS\n",
            "video 1/1 (346/791) /content/drive/MyDrive/KIT315_Project/Image_demo/penguin.mp4: 11 Emperor Penguins, Done. (12.0ms) Inference, (0.9ms) NMS\n",
            "video 1/1 (347/791) /content/drive/MyDrive/KIT315_Project/Image_demo/penguin.mp4: 12 Emperor Penguins, Done. (10.9ms) Inference, (0.9ms) NMS\n",
            "video 1/1 (348/791) /content/drive/MyDrive/KIT315_Project/Image_demo/penguin.mp4: 12 Emperor Penguins, Done. (12.8ms) Inference, (1.3ms) NMS\n",
            "video 1/1 (349/791) /content/drive/MyDrive/KIT315_Project/Image_demo/penguin.mp4: 13 Emperor Penguins, Done. (11.8ms) Inference, (0.9ms) NMS\n",
            "video 1/1 (350/791) /content/drive/MyDrive/KIT315_Project/Image_demo/penguin.mp4: 13 Emperor Penguins, Done. (11.0ms) Inference, (0.9ms) NMS\n",
            "video 1/1 (351/791) /content/drive/MyDrive/KIT315_Project/Image_demo/penguin.mp4: 13 Emperor Penguins, Done. (12.5ms) Inference, (0.9ms) NMS\n",
            "video 1/1 (352/791) /content/drive/MyDrive/KIT315_Project/Image_demo/penguin.mp4: 14 Emperor Penguins, Done. (12.5ms) Inference, (1.0ms) NMS\n",
            "video 1/1 (353/791) /content/drive/MyDrive/KIT315_Project/Image_demo/penguin.mp4: 12 Emperor Penguins, Done. (11.7ms) Inference, (0.9ms) NMS\n",
            "video 1/1 (354/791) /content/drive/MyDrive/KIT315_Project/Image_demo/penguin.mp4: 12 Emperor Penguins, Done. (11.3ms) Inference, (0.9ms) NMS\n",
            "video 1/1 (355/791) /content/drive/MyDrive/KIT315_Project/Image_demo/penguin.mp4: 12 Emperor Penguins, Done. (12.0ms) Inference, (0.9ms) NMS\n",
            "video 1/1 (356/791) /content/drive/MyDrive/KIT315_Project/Image_demo/penguin.mp4: 12 Emperor Penguins, Done. (10.9ms) Inference, (0.9ms) NMS\n",
            "video 1/1 (357/791) /content/drive/MyDrive/KIT315_Project/Image_demo/penguin.mp4: 13 Emperor Penguins, Done. (11.0ms) Inference, (0.9ms) NMS\n",
            "video 1/1 (358/791) /content/drive/MyDrive/KIT315_Project/Image_demo/penguin.mp4: 13 Emperor Penguins, Done. (12.2ms) Inference, (0.9ms) NMS\n",
            "video 1/1 (359/791) /content/drive/MyDrive/KIT315_Project/Image_demo/penguin.mp4: 13 Emperor Penguins, Done. (12.8ms) Inference, (1.3ms) NMS\n",
            "video 1/1 (360/791) /content/drive/MyDrive/KIT315_Project/Image_demo/penguin.mp4: 13 Emperor Penguins, Done. (11.5ms) Inference, (0.9ms) NMS\n",
            "video 1/1 (361/791) /content/drive/MyDrive/KIT315_Project/Image_demo/penguin.mp4: 12 Emperor Penguins, Done. (11.1ms) Inference, (0.9ms) NMS\n",
            "video 1/1 (362/791) /content/drive/MyDrive/KIT315_Project/Image_demo/penguin.mp4: 12 Emperor Penguins, Done. (11.3ms) Inference, (1.0ms) NMS\n",
            "video 1/1 (363/791) /content/drive/MyDrive/KIT315_Project/Image_demo/penguin.mp4: 12 Emperor Penguins, Done. (11.8ms) Inference, (1.0ms) NMS\n",
            "video 1/1 (364/791) /content/drive/MyDrive/KIT315_Project/Image_demo/penguin.mp4: 12 Emperor Penguins, Done. (11.5ms) Inference, (0.9ms) NMS\n",
            "video 1/1 (365/791) /content/drive/MyDrive/KIT315_Project/Image_demo/penguin.mp4: 14 Emperor Penguins, Done. (11.1ms) Inference, (0.9ms) NMS\n",
            "video 1/1 (366/791) /content/drive/MyDrive/KIT315_Project/Image_demo/penguin.mp4: 14 Emperor Penguins, Done. (11.1ms) Inference, (0.9ms) NMS\n",
            "video 1/1 (367/791) /content/drive/MyDrive/KIT315_Project/Image_demo/penguin.mp4: 15 Emperor Penguins, Done. (11.5ms) Inference, (0.9ms) NMS\n",
            "video 1/1 (368/791) /content/drive/MyDrive/KIT315_Project/Image_demo/penguin.mp4: 16 Emperor Penguins, Done. (10.7ms) Inference, (0.9ms) NMS\n",
            "video 1/1 (369/791) /content/drive/MyDrive/KIT315_Project/Image_demo/penguin.mp4: 16 Emperor Penguins, Done. (11.0ms) Inference, (0.9ms) NMS\n",
            "video 1/1 (370/791) /content/drive/MyDrive/KIT315_Project/Image_demo/penguin.mp4: 15 Emperor Penguins, Done. (12.0ms) Inference, (0.9ms) NMS\n",
            "video 1/1 (371/791) /content/drive/MyDrive/KIT315_Project/Image_demo/penguin.mp4: 12 Emperor Penguins, Done. (14.4ms) Inference, (0.9ms) NMS\n",
            "video 1/1 (372/791) /content/drive/MyDrive/KIT315_Project/Image_demo/penguin.mp4: 11 Emperor Penguins, Done. (12.5ms) Inference, (0.9ms) NMS\n",
            "video 1/1 (373/791) /content/drive/MyDrive/KIT315_Project/Image_demo/penguin.mp4: 14 Emperor Penguins, Done. (11.0ms) Inference, (0.9ms) NMS\n",
            "video 1/1 (374/791) /content/drive/MyDrive/KIT315_Project/Image_demo/penguin.mp4: 14 Emperor Penguins, Done. (11.2ms) Inference, (0.9ms) NMS\n",
            "video 1/1 (375/791) /content/drive/MyDrive/KIT315_Project/Image_demo/penguin.mp4: 15 Emperor Penguins, Done. (10.9ms) Inference, (0.9ms) NMS\n",
            "video 1/1 (376/791) /content/drive/MyDrive/KIT315_Project/Image_demo/penguin.mp4: 12 Emperor Penguins, Done. (11.4ms) Inference, (0.9ms) NMS\n",
            "video 1/1 (377/791) /content/drive/MyDrive/KIT315_Project/Image_demo/penguin.mp4: 13 Emperor Penguins, Done. (11.2ms) Inference, (0.9ms) NMS\n",
            "video 1/1 (378/791) /content/drive/MyDrive/KIT315_Project/Image_demo/penguin.mp4: 13 Emperor Penguins, Done. (14.3ms) Inference, (0.9ms) NMS\n",
            "video 1/1 (379/791) /content/drive/MyDrive/KIT315_Project/Image_demo/penguin.mp4: 13 Emperor Penguins, Done. (11.1ms) Inference, (0.9ms) NMS\n",
            "video 1/1 (380/791) /content/drive/MyDrive/KIT315_Project/Image_demo/penguin.mp4: 15 Emperor Penguins, Done. (11.0ms) Inference, (0.9ms) NMS\n",
            "video 1/1 (381/791) /content/drive/MyDrive/KIT315_Project/Image_demo/penguin.mp4: 15 Emperor Penguins, Done. (13.4ms) Inference, (1.3ms) NMS\n",
            "video 1/1 (382/791) /content/drive/MyDrive/KIT315_Project/Image_demo/penguin.mp4: 14 Emperor Penguins, Done. (11.6ms) Inference, (0.9ms) NMS\n",
            "video 1/1 (383/791) /content/drive/MyDrive/KIT315_Project/Image_demo/penguin.mp4: 12 Emperor Penguins, Done. (10.7ms) Inference, (0.9ms) NMS\n",
            "video 1/1 (384/791) /content/drive/MyDrive/KIT315_Project/Image_demo/penguin.mp4: 12 Emperor Penguins, Done. (11.4ms) Inference, (0.9ms) NMS\n",
            "video 1/1 (385/791) /content/drive/MyDrive/KIT315_Project/Image_demo/penguin.mp4: 13 Emperor Penguins, Done. (12.3ms) Inference, (0.9ms) NMS\n",
            "video 1/1 (386/791) /content/drive/MyDrive/KIT315_Project/Image_demo/penguin.mp4: 11 Emperor Penguins, Done. (11.8ms) Inference, (0.9ms) NMS\n",
            "video 1/1 (387/791) /content/drive/MyDrive/KIT315_Project/Image_demo/penguin.mp4: 12 Emperor Penguins, Done. (11.3ms) Inference, (0.9ms) NMS\n",
            "video 1/1 (388/791) /content/drive/MyDrive/KIT315_Project/Image_demo/penguin.mp4: 8 Emperor Penguins, Done. (14.6ms) Inference, (1.2ms) NMS\n",
            "video 1/1 (389/791) /content/drive/MyDrive/KIT315_Project/Image_demo/penguin.mp4: 7 Emperor Penguins, Done. (14.3ms) Inference, (0.9ms) NMS\n",
            "video 1/1 (390/791) /content/drive/MyDrive/KIT315_Project/Image_demo/penguin.mp4: 7 Emperor Penguins, Done. (11.2ms) Inference, (0.9ms) NMS\n",
            "video 1/1 (391/791) /content/drive/MyDrive/KIT315_Project/Image_demo/penguin.mp4: 7 Emperor Penguins, Done. (11.2ms) Inference, (1.0ms) NMS\n",
            "video 1/1 (392/791) /content/drive/MyDrive/KIT315_Project/Image_demo/penguin.mp4: 7 Emperor Penguins, Done. (14.1ms) Inference, (1.5ms) NMS\n",
            "video 1/1 (393/791) /content/drive/MyDrive/KIT315_Project/Image_demo/penguin.mp4: 7 Emperor Penguins, Done. (10.9ms) Inference, (0.9ms) NMS\n",
            "video 1/1 (394/791) /content/drive/MyDrive/KIT315_Project/Image_demo/penguin.mp4: 6 Emperor Penguins, Done. (10.7ms) Inference, (0.9ms) NMS\n",
            "video 1/1 (395/791) /content/drive/MyDrive/KIT315_Project/Image_demo/penguin.mp4: 7 Emperor Penguins, Done. (10.9ms) Inference, (0.9ms) NMS\n",
            "video 1/1 (396/791) /content/drive/MyDrive/KIT315_Project/Image_demo/penguin.mp4: 6 Emperor Penguins, Done. (11.8ms) Inference, (0.9ms) NMS\n",
            "video 1/1 (397/791) /content/drive/MyDrive/KIT315_Project/Image_demo/penguin.mp4: 6 Emperor Penguins, Done. (13.0ms) Inference, (1.0ms) NMS\n",
            "video 1/1 (398/791) /content/drive/MyDrive/KIT315_Project/Image_demo/penguin.mp4: 7 Emperor Penguins, Done. (11.7ms) Inference, (1.0ms) NMS\n",
            "video 1/1 (399/791) /content/drive/MyDrive/KIT315_Project/Image_demo/penguin.mp4: 7 Emperor Penguins, Done. (11.5ms) Inference, (0.9ms) NMS\n",
            "video 1/1 (400/791) /content/drive/MyDrive/KIT315_Project/Image_demo/penguin.mp4: 7 Emperor Penguins, Done. (11.8ms) Inference, (1.0ms) NMS\n",
            "video 1/1 (401/791) /content/drive/MyDrive/KIT315_Project/Image_demo/penguin.mp4: 7 Emperor Penguins, Done. (11.5ms) Inference, (0.9ms) NMS\n",
            "video 1/1 (402/791) /content/drive/MyDrive/KIT315_Project/Image_demo/penguin.mp4: 7 Emperor Penguins, Done. (10.9ms) Inference, (0.9ms) NMS\n",
            "video 1/1 (403/791) /content/drive/MyDrive/KIT315_Project/Image_demo/penguin.mp4: 7 Emperor Penguins, Done. (11.5ms) Inference, (1.3ms) NMS\n",
            "video 1/1 (404/791) /content/drive/MyDrive/KIT315_Project/Image_demo/penguin.mp4: 7 Emperor Penguins, Done. (12.2ms) Inference, (0.9ms) NMS\n",
            "video 1/1 (405/791) /content/drive/MyDrive/KIT315_Project/Image_demo/penguin.mp4: 6 Emperor Penguins, Done. (12.2ms) Inference, (1.0ms) NMS\n",
            "video 1/1 (406/791) /content/drive/MyDrive/KIT315_Project/Image_demo/penguin.mp4: 6 Emperor Penguins, Done. (11.0ms) Inference, (0.9ms) NMS\n",
            "video 1/1 (407/791) /content/drive/MyDrive/KIT315_Project/Image_demo/penguin.mp4: 6 Emperor Penguins, Done. (10.8ms) Inference, (1.3ms) NMS\n",
            "video 1/1 (408/791) /content/drive/MyDrive/KIT315_Project/Image_demo/penguin.mp4: 7 Emperor Penguins, Done. (13.8ms) Inference, (1.3ms) NMS\n",
            "video 1/1 (409/791) /content/drive/MyDrive/KIT315_Project/Image_demo/penguin.mp4: 7 Emperor Penguins, Done. (11.7ms) Inference, (0.9ms) NMS\n",
            "video 1/1 (410/791) /content/drive/MyDrive/KIT315_Project/Image_demo/penguin.mp4: 8 Emperor Penguins, Done. (10.7ms) Inference, (0.9ms) NMS\n",
            "video 1/1 (411/791) /content/drive/MyDrive/KIT315_Project/Image_demo/penguin.mp4: 7 Emperor Penguins, Done. (12.4ms) Inference, (1.0ms) NMS\n",
            "video 1/1 (412/791) /content/drive/MyDrive/KIT315_Project/Image_demo/penguin.mp4: 7 Emperor Penguins, Done. (11.3ms) Inference, (0.9ms) NMS\n",
            "video 1/1 (413/791) /content/drive/MyDrive/KIT315_Project/Image_demo/penguin.mp4: 9 Emperor Penguins, Done. (11.6ms) Inference, (1.0ms) NMS\n",
            "video 1/1 (414/791) /content/drive/MyDrive/KIT315_Project/Image_demo/penguin.mp4: 9 Emperor Penguins, Done. (11.2ms) Inference, (0.9ms) NMS\n",
            "video 1/1 (415/791) /content/drive/MyDrive/KIT315_Project/Image_demo/penguin.mp4: 8 Emperor Penguins, Done. (18.2ms) Inference, (1.2ms) NMS\n",
            "video 1/1 (416/791) /content/drive/MyDrive/KIT315_Project/Image_demo/penguin.mp4: 9 Emperor Penguins, Done. (10.7ms) Inference, (0.9ms) NMS\n",
            "video 1/1 (417/791) /content/drive/MyDrive/KIT315_Project/Image_demo/penguin.mp4: 10 Emperor Penguins, Done. (10.8ms) Inference, (0.9ms) NMS\n",
            "video 1/1 (418/791) /content/drive/MyDrive/KIT315_Project/Image_demo/penguin.mp4: 8 Emperor Penguins, Done. (11.5ms) Inference, (0.9ms) NMS\n",
            "video 1/1 (419/791) /content/drive/MyDrive/KIT315_Project/Image_demo/penguin.mp4: 8 Emperor Penguins, Done. (11.2ms) Inference, (0.9ms) NMS\n",
            "video 1/1 (420/791) /content/drive/MyDrive/KIT315_Project/Image_demo/penguin.mp4: 7 Emperor Penguins, Done. (10.6ms) Inference, (0.8ms) NMS\n",
            "video 1/1 (421/791) /content/drive/MyDrive/KIT315_Project/Image_demo/penguin.mp4: 7 Emperor Penguins, Done. (10.3ms) Inference, (0.9ms) NMS\n",
            "video 1/1 (422/791) /content/drive/MyDrive/KIT315_Project/Image_demo/penguin.mp4: 7 Emperor Penguins, Done. (10.7ms) Inference, (0.8ms) NMS\n",
            "video 1/1 (423/791) /content/drive/MyDrive/KIT315_Project/Image_demo/penguin.mp4: 8 Emperor Penguins, Done. (10.9ms) Inference, (0.9ms) NMS\n",
            "video 1/1 (424/791) /content/drive/MyDrive/KIT315_Project/Image_demo/penguin.mp4: 8 Emperor Penguins, Done. (11.7ms) Inference, (0.8ms) NMS\n",
            "video 1/1 (425/791) /content/drive/MyDrive/KIT315_Project/Image_demo/penguin.mp4: 7 Emperor Penguins, Done. (15.7ms) Inference, (1.2ms) NMS\n",
            "video 1/1 (426/791) /content/drive/MyDrive/KIT315_Project/Image_demo/penguin.mp4: 2 Emperor Penguins, Done. (10.8ms) Inference, (0.8ms) NMS\n",
            "video 1/1 (427/791) /content/drive/MyDrive/KIT315_Project/Image_demo/penguin.mp4: 2 Emperor Penguins, Done. (12.0ms) Inference, (0.9ms) NMS\n",
            "video 1/1 (428/791) /content/drive/MyDrive/KIT315_Project/Image_demo/penguin.mp4: 2 Emperor Penguins, Done. (10.4ms) Inference, (0.8ms) NMS\n",
            "video 1/1 (429/791) /content/drive/MyDrive/KIT315_Project/Image_demo/penguin.mp4: 2 Emperor Penguins, Done. (10.5ms) Inference, (0.8ms) NMS\n",
            "video 1/1 (430/791) /content/drive/MyDrive/KIT315_Project/Image_demo/penguin.mp4: 2 Emperor Penguins, Done. (11.0ms) Inference, (0.9ms) NMS\n",
            "video 1/1 (431/791) /content/drive/MyDrive/KIT315_Project/Image_demo/penguin.mp4: 2 Emperor Penguins, Done. (12.0ms) Inference, (0.8ms) NMS\n",
            "video 1/1 (432/791) /content/drive/MyDrive/KIT315_Project/Image_demo/penguin.mp4: 2 Emperor Penguins, Done. (11.3ms) Inference, (0.9ms) NMS\n",
            "video 1/1 (433/791) /content/drive/MyDrive/KIT315_Project/Image_demo/penguin.mp4: 2 Emperor Penguins, Done. (10.5ms) Inference, (0.8ms) NMS\n",
            "video 1/1 (434/791) /content/drive/MyDrive/KIT315_Project/Image_demo/penguin.mp4: 2 Emperor Penguins, Done. (11.0ms) Inference, (0.8ms) NMS\n",
            "video 1/1 (435/791) /content/drive/MyDrive/KIT315_Project/Image_demo/penguin.mp4: 2 Emperor Penguins, Done. (11.3ms) Inference, (0.8ms) NMS\n",
            "video 1/1 (436/791) /content/drive/MyDrive/KIT315_Project/Image_demo/penguin.mp4: 2 Emperor Penguins, Done. (11.2ms) Inference, (0.8ms) NMS\n",
            "video 1/1 (437/791) /content/drive/MyDrive/KIT315_Project/Image_demo/penguin.mp4: 2 Emperor Penguins, Done. (10.8ms) Inference, (0.9ms) NMS\n",
            "video 1/1 (438/791) /content/drive/MyDrive/KIT315_Project/Image_demo/penguin.mp4: 3 Emperor Penguins, Done. (11.9ms) Inference, (0.9ms) NMS\n",
            "video 1/1 (439/791) /content/drive/MyDrive/KIT315_Project/Image_demo/penguin.mp4: 3 Emperor Penguins, Done. (11.1ms) Inference, (1.0ms) NMS\n",
            "video 1/1 (440/791) /content/drive/MyDrive/KIT315_Project/Image_demo/penguin.mp4: 3 Emperor Penguins, Done. (15.0ms) Inference, (0.9ms) NMS\n",
            "video 1/1 (441/791) /content/drive/MyDrive/KIT315_Project/Image_demo/penguin.mp4: 3 Emperor Penguins, Done. (10.6ms) Inference, (0.8ms) NMS\n",
            "video 1/1 (442/791) /content/drive/MyDrive/KIT315_Project/Image_demo/penguin.mp4: 3 Emperor Penguins, Done. (10.7ms) Inference, (0.8ms) NMS\n",
            "video 1/1 (443/791) /content/drive/MyDrive/KIT315_Project/Image_demo/penguin.mp4: 3 Emperor Penguins, Done. (11.2ms) Inference, (0.8ms) NMS\n",
            "video 1/1 (444/791) /content/drive/MyDrive/KIT315_Project/Image_demo/penguin.mp4: 3 Emperor Penguins, Done. (11.2ms) Inference, (1.1ms) NMS\n",
            "video 1/1 (445/791) /content/drive/MyDrive/KIT315_Project/Image_demo/penguin.mp4: 3 Emperor Penguins, Done. (10.6ms) Inference, (0.8ms) NMS\n",
            "video 1/1 (446/791) /content/drive/MyDrive/KIT315_Project/Image_demo/penguin.mp4: 3 Emperor Penguins, Done. (11.3ms) Inference, (0.9ms) NMS\n",
            "video 1/1 (447/791) /content/drive/MyDrive/KIT315_Project/Image_demo/penguin.mp4: 3 Emperor Penguins, Done. (14.7ms) Inference, (0.9ms) NMS\n",
            "video 1/1 (448/791) /content/drive/MyDrive/KIT315_Project/Image_demo/penguin.mp4: 3 Emperor Penguins, Done. (11.0ms) Inference, (0.9ms) NMS\n",
            "video 1/1 (449/791) /content/drive/MyDrive/KIT315_Project/Image_demo/penguin.mp4: 3 Emperor Penguins, Done. (11.5ms) Inference, (0.8ms) NMS\n",
            "video 1/1 (450/791) /content/drive/MyDrive/KIT315_Project/Image_demo/penguin.mp4: 3 Emperor Penguins, Done. (11.0ms) Inference, (1.2ms) NMS\n",
            "video 1/1 (451/791) /content/drive/MyDrive/KIT315_Project/Image_demo/penguin.mp4: 3 Emperor Penguins, Done. (14.1ms) Inference, (0.9ms) NMS\n",
            "video 1/1 (452/791) /content/drive/MyDrive/KIT315_Project/Image_demo/penguin.mp4: 3 Emperor Penguins, Done. (10.8ms) Inference, (0.9ms) NMS\n",
            "video 1/1 (453/791) /content/drive/MyDrive/KIT315_Project/Image_demo/penguin.mp4: 3 Emperor Penguins, Done. (16.1ms) Inference, (0.9ms) NMS\n",
            "video 1/1 (454/791) /content/drive/MyDrive/KIT315_Project/Image_demo/penguin.mp4: 2 Emperor Penguins, Done. (11.5ms) Inference, (0.9ms) NMS\n",
            "video 1/1 (455/791) /content/drive/MyDrive/KIT315_Project/Image_demo/penguin.mp4: 2 Emperor Penguins, Done. (10.7ms) Inference, (0.9ms) NMS\n",
            "video 1/1 (456/791) /content/drive/MyDrive/KIT315_Project/Image_demo/penguin.mp4: 2 Emperor Penguins, Done. (11.0ms) Inference, (0.8ms) NMS\n",
            "video 1/1 (457/791) /content/drive/MyDrive/KIT315_Project/Image_demo/penguin.mp4: 2 Emperor Penguins, Done. (12.5ms) Inference, (0.9ms) NMS\n",
            "video 1/1 (458/791) /content/drive/MyDrive/KIT315_Project/Image_demo/penguin.mp4: 2 Emperor Penguins, Done. (11.8ms) Inference, (1.0ms) NMS\n",
            "video 1/1 (459/791) /content/drive/MyDrive/KIT315_Project/Image_demo/penguin.mp4: 2 Emperor Penguins, Done. (11.2ms) Inference, (0.9ms) NMS\n",
            "video 1/1 (460/791) /content/drive/MyDrive/KIT315_Project/Image_demo/penguin.mp4: 2 Emperor Penguins, Done. (11.1ms) Inference, (1.2ms) NMS\n",
            "video 1/1 (461/791) /content/drive/MyDrive/KIT315_Project/Image_demo/penguin.mp4: 2 Emperor Penguins, Done. (11.6ms) Inference, (1.0ms) NMS\n",
            "video 1/1 (462/791) /content/drive/MyDrive/KIT315_Project/Image_demo/penguin.mp4: 2 Emperor Penguins, Done. (10.8ms) Inference, (0.9ms) NMS\n",
            "video 1/1 (463/791) /content/drive/MyDrive/KIT315_Project/Image_demo/penguin.mp4: 2 Emperor Penguins, Done. (11.4ms) Inference, (0.9ms) NMS\n",
            "video 1/1 (464/791) /content/drive/MyDrive/KIT315_Project/Image_demo/penguin.mp4: 3 Emperor Penguins, Done. (11.4ms) Inference, (0.9ms) NMS\n",
            "video 1/1 (465/791) /content/drive/MyDrive/KIT315_Project/Image_demo/penguin.mp4: 2 Emperor Penguins, Done. (12.3ms) Inference, (1.3ms) NMS\n",
            "video 1/1 (466/791) /content/drive/MyDrive/KIT315_Project/Image_demo/penguin.mp4: 2 Emperor Penguins, Done. (10.6ms) Inference, (0.9ms) NMS\n",
            "video 1/1 (467/791) /content/drive/MyDrive/KIT315_Project/Image_demo/penguin.mp4: 2 Emperor Penguins, Done. (10.6ms) Inference, (0.9ms) NMS\n",
            "video 1/1 (468/791) /content/drive/MyDrive/KIT315_Project/Image_demo/penguin.mp4: 3 Emperor Penguins, Done. (13.5ms) Inference, (0.9ms) NMS\n",
            "video 1/1 (469/791) /content/drive/MyDrive/KIT315_Project/Image_demo/penguin.mp4: 3 Emperor Penguins, Done. (11.3ms) Inference, (1.0ms) NMS\n",
            "video 1/1 (470/791) /content/drive/MyDrive/KIT315_Project/Image_demo/penguin.mp4: 3 Emperor Penguins, Done. (11.7ms) Inference, (1.0ms) NMS\n",
            "video 1/1 (471/791) /content/drive/MyDrive/KIT315_Project/Image_demo/penguin.mp4: 2 Emperor Penguins, Done. (11.3ms) Inference, (0.9ms) NMS\n",
            "video 1/1 (472/791) /content/drive/MyDrive/KIT315_Project/Image_demo/penguin.mp4: 2 Emperor Penguins, Done. (11.6ms) Inference, (0.9ms) NMS\n",
            "video 1/1 (473/791) /content/drive/MyDrive/KIT315_Project/Image_demo/penguin.mp4: 2 Emperor Penguins, Done. (11.6ms) Inference, (0.9ms) NMS\n",
            "video 1/1 (474/791) /content/drive/MyDrive/KIT315_Project/Image_demo/penguin.mp4: 2 Emperor Penguins, Done. (10.9ms) Inference, (0.9ms) NMS\n",
            "video 1/1 (475/791) /content/drive/MyDrive/KIT315_Project/Image_demo/penguin.mp4: 3 Emperor Penguins, Done. (11.3ms) Inference, (0.9ms) NMS\n",
            "video 1/1 (476/791) /content/drive/MyDrive/KIT315_Project/Image_demo/penguin.mp4: 2 Emperor Penguins, Done. (10.8ms) Inference, (0.9ms) NMS\n",
            "video 1/1 (477/791) /content/drive/MyDrive/KIT315_Project/Image_demo/penguin.mp4: 3 Emperor Penguins, Done. (10.8ms) Inference, (0.9ms) NMS\n",
            "video 1/1 (478/791) /content/drive/MyDrive/KIT315_Project/Image_demo/penguin.mp4: 3 Emperor Penguins, Done. (15.1ms) Inference, (0.9ms) NMS\n",
            "video 1/1 (479/791) /content/drive/MyDrive/KIT315_Project/Image_demo/penguin.mp4: 3 Emperor Penguins, Done. (11.2ms) Inference, (1.0ms) NMS\n",
            "video 1/1 (480/791) /content/drive/MyDrive/KIT315_Project/Image_demo/penguin.mp4: 3 Emperor Penguins, Done. (11.5ms) Inference, (1.1ms) NMS\n",
            "video 1/1 (481/791) /content/drive/MyDrive/KIT315_Project/Image_demo/penguin.mp4: 3 Emperor Penguins, Done. (10.9ms) Inference, (0.9ms) NMS\n",
            "video 1/1 (482/791) /content/drive/MyDrive/KIT315_Project/Image_demo/penguin.mp4: 3 Emperor Penguins, Done. (11.0ms) Inference, (1.0ms) NMS\n",
            "video 1/1 (483/791) /content/drive/MyDrive/KIT315_Project/Image_demo/penguin.mp4: 3 Emperor Penguins, Done. (10.9ms) Inference, (0.8ms) NMS\n",
            "video 1/1 (484/791) /content/drive/MyDrive/KIT315_Project/Image_demo/penguin.mp4: 3 Emperor Penguins, Done. (10.5ms) Inference, (0.8ms) NMS\n",
            "video 1/1 (485/791) /content/drive/MyDrive/KIT315_Project/Image_demo/penguin.mp4: 3 Emperor Penguins, Done. (12.1ms) Inference, (0.9ms) NMS\n",
            "video 1/1 (486/791) /content/drive/MyDrive/KIT315_Project/Image_demo/penguin.mp4: 3 Emperor Penguins, Done. (12.0ms) Inference, (0.9ms) NMS\n",
            "video 1/1 (487/791) /content/drive/MyDrive/KIT315_Project/Image_demo/penguin.mp4: 3 Emperor Penguins, Done. (11.6ms) Inference, (0.9ms) NMS\n",
            "video 1/1 (488/791) /content/drive/MyDrive/KIT315_Project/Image_demo/penguin.mp4: 3 Emperor Penguins, Done. (10.8ms) Inference, (0.9ms) NMS\n",
            "video 1/1 (489/791) /content/drive/MyDrive/KIT315_Project/Image_demo/penguin.mp4: 3 Emperor Penguins, Done. (14.1ms) Inference, (0.9ms) NMS\n",
            "video 1/1 (490/791) /content/drive/MyDrive/KIT315_Project/Image_demo/penguin.mp4: 3 Emperor Penguins, Done. (15.0ms) Inference, (1.3ms) NMS\n",
            "video 1/1 (491/791) /content/drive/MyDrive/KIT315_Project/Image_demo/penguin.mp4: 3 Emperor Penguins, Done. (11.4ms) Inference, (0.9ms) NMS\n",
            "video 1/1 (492/791) /content/drive/MyDrive/KIT315_Project/Image_demo/penguin.mp4: 3 Emperor Penguins, Done. (15.5ms) Inference, (1.3ms) NMS\n",
            "video 1/1 (493/791) /content/drive/MyDrive/KIT315_Project/Image_demo/penguin.mp4: 3 Emperor Penguins, Done. (11.2ms) Inference, (0.9ms) NMS\n",
            "video 1/1 (494/791) /content/drive/MyDrive/KIT315_Project/Image_demo/penguin.mp4: 3 Emperor Penguins, Done. (11.7ms) Inference, (0.9ms) NMS\n",
            "video 1/1 (495/791) /content/drive/MyDrive/KIT315_Project/Image_demo/penguin.mp4: 3 Emperor Penguins, Done. (10.9ms) Inference, (0.9ms) NMS\n",
            "video 1/1 (496/791) /content/drive/MyDrive/KIT315_Project/Image_demo/penguin.mp4: 3 Emperor Penguins, Done. (10.8ms) Inference, (0.8ms) NMS\n",
            "video 1/1 (497/791) /content/drive/MyDrive/KIT315_Project/Image_demo/penguin.mp4: 3 Emperor Penguins, Done. (11.0ms) Inference, (0.9ms) NMS\n",
            "video 1/1 (498/791) /content/drive/MyDrive/KIT315_Project/Image_demo/penguin.mp4: 3 Emperor Penguins, Done. (12.5ms) Inference, (0.9ms) NMS\n",
            "video 1/1 (499/791) /content/drive/MyDrive/KIT315_Project/Image_demo/penguin.mp4: 3 Emperor Penguins, Done. (11.2ms) Inference, (0.9ms) NMS\n",
            "video 1/1 (500/791) /content/drive/MyDrive/KIT315_Project/Image_demo/penguin.mp4: 3 Emperor Penguins, Done. (11.4ms) Inference, (1.0ms) NMS\n",
            "video 1/1 (501/791) /content/drive/MyDrive/KIT315_Project/Image_demo/penguin.mp4: 3 Emperor Penguins, Done. (12.4ms) Inference, (0.9ms) NMS\n",
            "video 1/1 (502/791) /content/drive/MyDrive/KIT315_Project/Image_demo/penguin.mp4: 3 Emperor Penguins, Done. (17.6ms) Inference, (1.0ms) NMS\n",
            "video 1/1 (503/791) /content/drive/MyDrive/KIT315_Project/Image_demo/penguin.mp4: 3 Emperor Penguins, Done. (12.5ms) Inference, (0.9ms) NMS\n",
            "video 1/1 (504/791) /content/drive/MyDrive/KIT315_Project/Image_demo/penguin.mp4: 3 Emperor Penguins, Done. (12.5ms) Inference, (1.0ms) NMS\n",
            "video 1/1 (505/791) /content/drive/MyDrive/KIT315_Project/Image_demo/penguin.mp4: 3 Emperor Penguins, Done. (12.7ms) Inference, (1.0ms) NMS\n",
            "video 1/1 (506/791) /content/drive/MyDrive/KIT315_Project/Image_demo/penguin.mp4: 3 Emperor Penguins, Done. (12.4ms) Inference, (0.9ms) NMS\n",
            "video 1/1 (507/791) /content/drive/MyDrive/KIT315_Project/Image_demo/penguin.mp4: 3 Emperor Penguins, Done. (11.7ms) Inference, (1.3ms) NMS\n",
            "video 1/1 (508/791) /content/drive/MyDrive/KIT315_Project/Image_demo/penguin.mp4: 3 Emperor Penguins, Done. (11.5ms) Inference, (0.8ms) NMS\n",
            "video 1/1 (509/791) /content/drive/MyDrive/KIT315_Project/Image_demo/penguin.mp4: 3 Emperor Penguins, Done. (11.4ms) Inference, (0.9ms) NMS\n",
            "video 1/1 (510/791) /content/drive/MyDrive/KIT315_Project/Image_demo/penguin.mp4: 3 Emperor Penguins, Done. (14.2ms) Inference, (0.9ms) NMS\n",
            "video 1/1 (511/791) /content/drive/MyDrive/KIT315_Project/Image_demo/penguin.mp4: 3 Emperor Penguins, Done. (10.9ms) Inference, (0.9ms) NMS\n",
            "video 1/1 (512/791) /content/drive/MyDrive/KIT315_Project/Image_demo/penguin.mp4: 3 Emperor Penguins, Done. (11.0ms) Inference, (0.8ms) NMS\n",
            "video 1/1 (513/791) /content/drive/MyDrive/KIT315_Project/Image_demo/penguin.mp4: 3 Emperor Penguins, Done. (11.0ms) Inference, (0.9ms) NMS\n",
            "video 1/1 (514/791) /content/drive/MyDrive/KIT315_Project/Image_demo/penguin.mp4: 3 Emperor Penguins, Done. (17.5ms) Inference, (1.0ms) NMS\n",
            "video 1/1 (515/791) /content/drive/MyDrive/KIT315_Project/Image_demo/penguin.mp4: 3 Emperor Penguins, Done. (12.6ms) Inference, (1.0ms) NMS\n",
            "video 1/1 (516/791) /content/drive/MyDrive/KIT315_Project/Image_demo/penguin.mp4: 3 Emperor Penguins, Done. (11.6ms) Inference, (0.9ms) NMS\n",
            "video 1/1 (517/791) /content/drive/MyDrive/KIT315_Project/Image_demo/penguin.mp4: 3 Emperor Penguins, Done. (12.3ms) Inference, (1.0ms) NMS\n",
            "video 1/1 (518/791) /content/drive/MyDrive/KIT315_Project/Image_demo/penguin.mp4: 3 Emperor Penguins, Done. (11.6ms) Inference, (0.9ms) NMS\n",
            "video 1/1 (519/791) /content/drive/MyDrive/KIT315_Project/Image_demo/penguin.mp4: 3 Emperor Penguins, Done. (12.1ms) Inference, (1.0ms) NMS\n",
            "video 1/1 (520/791) /content/drive/MyDrive/KIT315_Project/Image_demo/penguin.mp4: 3 Emperor Penguins, Done. (11.7ms) Inference, (0.9ms) NMS\n",
            "video 1/1 (521/791) /content/drive/MyDrive/KIT315_Project/Image_demo/penguin.mp4: 3 Emperor Penguins, Done. (10.7ms) Inference, (0.9ms) NMS\n",
            "video 1/1 (522/791) /content/drive/MyDrive/KIT315_Project/Image_demo/penguin.mp4: 3 Emperor Penguins, Done. (11.0ms) Inference, (0.9ms) NMS\n",
            "video 1/1 (523/791) /content/drive/MyDrive/KIT315_Project/Image_demo/penguin.mp4: 3 Emperor Penguins, Done. (11.8ms) Inference, (0.9ms) NMS\n",
            "video 1/1 (524/791) /content/drive/MyDrive/KIT315_Project/Image_demo/penguin.mp4: 3 Emperor Penguins, Done. (11.1ms) Inference, (0.9ms) NMS\n",
            "video 1/1 (525/791) /content/drive/MyDrive/KIT315_Project/Image_demo/penguin.mp4: 3 Emperor Penguins, Done. (13.1ms) Inference, (0.9ms) NMS\n",
            "video 1/1 (526/791) /content/drive/MyDrive/KIT315_Project/Image_demo/penguin.mp4: 3 Emperor Penguins, Done. (15.9ms) Inference, (1.0ms) NMS\n",
            "video 1/1 (527/791) /content/drive/MyDrive/KIT315_Project/Image_demo/penguin.mp4: 3 Emperor Penguins, Done. (12.2ms) Inference, (1.0ms) NMS\n",
            "video 1/1 (528/791) /content/drive/MyDrive/KIT315_Project/Image_demo/penguin.mp4: 3 Emperor Penguins, Done. (11.5ms) Inference, (0.9ms) NMS\n",
            "video 1/1 (529/791) /content/drive/MyDrive/KIT315_Project/Image_demo/penguin.mp4: 3 Emperor Penguins, Done. (11.3ms) Inference, (1.0ms) NMS\n",
            "video 1/1 (530/791) /content/drive/MyDrive/KIT315_Project/Image_demo/penguin.mp4: 3 Emperor Penguins, Done. (11.5ms) Inference, (1.0ms) NMS\n",
            "video 1/1 (531/791) /content/drive/MyDrive/KIT315_Project/Image_demo/penguin.mp4: 3 Emperor Penguins, Done. (14.8ms) Inference, (0.9ms) NMS\n",
            "video 1/1 (532/791) /content/drive/MyDrive/KIT315_Project/Image_demo/penguin.mp4: 3 Emperor Penguins, Done. (16.9ms) Inference, (1.3ms) NMS\n",
            "video 1/1 (533/791) /content/drive/MyDrive/KIT315_Project/Image_demo/penguin.mp4: 3 Emperor Penguins, Done. (12.2ms) Inference, (0.9ms) NMS\n",
            "video 1/1 (534/791) /content/drive/MyDrive/KIT315_Project/Image_demo/penguin.mp4: 3 Emperor Penguins, Done. (11.8ms) Inference, (1.1ms) NMS\n",
            "video 1/1 (535/791) /content/drive/MyDrive/KIT315_Project/Image_demo/penguin.mp4: 3 Emperor Penguins, Done. (11.1ms) Inference, (0.9ms) NMS\n",
            "video 1/1 (536/791) /content/drive/MyDrive/KIT315_Project/Image_demo/penguin.mp4: 3 Emperor Penguins, Done. (10.9ms) Inference, (0.9ms) NMS\n",
            "video 1/1 (537/791) /content/drive/MyDrive/KIT315_Project/Image_demo/penguin.mp4: 3 Emperor Penguins, Done. (11.8ms) Inference, (1.0ms) NMS\n",
            "video 1/1 (538/791) /content/drive/MyDrive/KIT315_Project/Image_demo/penguin.mp4: 3 Emperor Penguins, Done. (14.7ms) Inference, (0.9ms) NMS\n",
            "video 1/1 (539/791) /content/drive/MyDrive/KIT315_Project/Image_demo/penguin.mp4: 7 Emperor Penguins, Done. (11.1ms) Inference, (0.9ms) NMS\n",
            "video 1/1 (540/791) /content/drive/MyDrive/KIT315_Project/Image_demo/penguin.mp4: 7 Emperor Penguins, Done. (11.8ms) Inference, (0.9ms) NMS\n",
            "video 1/1 (541/791) /content/drive/MyDrive/KIT315_Project/Image_demo/penguin.mp4: 7 Emperor Penguins, Done. (11.8ms) Inference, (0.9ms) NMS\n",
            "video 1/1 (542/791) /content/drive/MyDrive/KIT315_Project/Image_demo/penguin.mp4: 7 Emperor Penguins, Done. (10.7ms) Inference, (0.9ms) NMS\n",
            "video 1/1 (543/791) /content/drive/MyDrive/KIT315_Project/Image_demo/penguin.mp4: 7 Emperor Penguins, Done. (10.6ms) Inference, (0.9ms) NMS\n",
            "video 1/1 (544/791) /content/drive/MyDrive/KIT315_Project/Image_demo/penguin.mp4: 7 Emperor Penguins, Done. (10.6ms) Inference, (0.9ms) NMS\n",
            "video 1/1 (545/791) /content/drive/MyDrive/KIT315_Project/Image_demo/penguin.mp4: 8 Emperor Penguins, Done. (10.4ms) Inference, (0.8ms) NMS\n",
            "video 1/1 (546/791) /content/drive/MyDrive/KIT315_Project/Image_demo/penguin.mp4: 8 Emperor Penguins, Done. (10.5ms) Inference, (0.8ms) NMS\n",
            "video 1/1 (547/791) /content/drive/MyDrive/KIT315_Project/Image_demo/penguin.mp4: 8 Emperor Penguins, Done. (13.4ms) Inference, (0.9ms) NMS\n",
            "video 1/1 (548/791) /content/drive/MyDrive/KIT315_Project/Image_demo/penguin.mp4: 8 Emperor Penguins, Done. (10.9ms) Inference, (0.8ms) NMS\n",
            "video 1/1 (549/791) /content/drive/MyDrive/KIT315_Project/Image_demo/penguin.mp4: 8 Emperor Penguins, Done. (11.1ms) Inference, (0.9ms) NMS\n",
            "video 1/1 (550/791) /content/drive/MyDrive/KIT315_Project/Image_demo/penguin.mp4: 8 Emperor Penguins, Done. (11.3ms) Inference, (0.9ms) NMS\n",
            "video 1/1 (551/791) /content/drive/MyDrive/KIT315_Project/Image_demo/penguin.mp4: 8 Emperor Penguins, Done. (13.3ms) Inference, (0.9ms) NMS\n",
            "video 1/1 (552/791) /content/drive/MyDrive/KIT315_Project/Image_demo/penguin.mp4: 8 Emperor Penguins, Done. (10.7ms) Inference, (0.8ms) NMS\n",
            "video 1/1 (553/791) /content/drive/MyDrive/KIT315_Project/Image_demo/penguin.mp4: 8 Emperor Penguins, Done. (11.0ms) Inference, (0.8ms) NMS\n",
            "video 1/1 (554/791) /content/drive/MyDrive/KIT315_Project/Image_demo/penguin.mp4: 8 Emperor Penguins, Done. (11.4ms) Inference, (0.9ms) NMS\n",
            "video 1/1 (555/791) /content/drive/MyDrive/KIT315_Project/Image_demo/penguin.mp4: 8 Emperor Penguins, Done. (11.5ms) Inference, (0.8ms) NMS\n",
            "video 1/1 (556/791) /content/drive/MyDrive/KIT315_Project/Image_demo/penguin.mp4: 8 Emperor Penguins, Done. (10.7ms) Inference, (0.8ms) NMS\n",
            "video 1/1 (557/791) /content/drive/MyDrive/KIT315_Project/Image_demo/penguin.mp4: 8 Emperor Penguins, Done. (11.3ms) Inference, (1.0ms) NMS\n",
            "video 1/1 (558/791) /content/drive/MyDrive/KIT315_Project/Image_demo/penguin.mp4: 8 Emperor Penguins, Done. (11.1ms) Inference, (0.9ms) NMS\n",
            "video 1/1 (559/791) /content/drive/MyDrive/KIT315_Project/Image_demo/penguin.mp4: 8 Emperor Penguins, Done. (11.4ms) Inference, (1.0ms) NMS\n",
            "video 1/1 (560/791) /content/drive/MyDrive/KIT315_Project/Image_demo/penguin.mp4: 8 Emperor Penguins, Done. (10.7ms) Inference, (0.9ms) NMS\n",
            "video 1/1 (561/791) /content/drive/MyDrive/KIT315_Project/Image_demo/penguin.mp4: 8 Emperor Penguins, Done. (11.0ms) Inference, (0.9ms) NMS\n",
            "video 1/1 (562/791) /content/drive/MyDrive/KIT315_Project/Image_demo/penguin.mp4: 8 Emperor Penguins, Done. (11.9ms) Inference, (0.9ms) NMS\n",
            "video 1/1 (563/791) /content/drive/MyDrive/KIT315_Project/Image_demo/penguin.mp4: 8 Emperor Penguins, Done. (11.7ms) Inference, (0.9ms) NMS\n",
            "video 1/1 (564/791) /content/drive/MyDrive/KIT315_Project/Image_demo/penguin.mp4: 8 Emperor Penguins, Done. (11.9ms) Inference, (1.0ms) NMS\n",
            "video 1/1 (565/791) /content/drive/MyDrive/KIT315_Project/Image_demo/penguin.mp4: 8 Emperor Penguins, Done. (10.7ms) Inference, (0.9ms) NMS\n",
            "video 1/1 (566/791) /content/drive/MyDrive/KIT315_Project/Image_demo/penguin.mp4: 8 Emperor Penguins, Done. (12.1ms) Inference, (0.9ms) NMS\n",
            "video 1/1 (567/791) /content/drive/MyDrive/KIT315_Project/Image_demo/penguin.mp4: 8 Emperor Penguins, Done. (10.7ms) Inference, (0.9ms) NMS\n",
            "video 1/1 (568/791) /content/drive/MyDrive/KIT315_Project/Image_demo/penguin.mp4: 8 Emperor Penguins, Done. (10.8ms) Inference, (0.8ms) NMS\n",
            "video 1/1 (569/791) /content/drive/MyDrive/KIT315_Project/Image_demo/penguin.mp4: 8 Emperor Penguins, Done. (10.8ms) Inference, (0.8ms) NMS\n",
            "video 1/1 (570/791) /content/drive/MyDrive/KIT315_Project/Image_demo/penguin.mp4: 9 Emperor Penguins, Done. (11.3ms) Inference, (0.8ms) NMS\n",
            "video 1/1 (571/791) /content/drive/MyDrive/KIT315_Project/Image_demo/penguin.mp4: 8 Emperor Penguins, Done. (11.7ms) Inference, (0.9ms) NMS\n",
            "video 1/1 (572/791) /content/drive/MyDrive/KIT315_Project/Image_demo/penguin.mp4: 8 Emperor Penguins, Done. (11.7ms) Inference, (1.1ms) NMS\n",
            "video 1/1 (573/791) /content/drive/MyDrive/KIT315_Project/Image_demo/penguin.mp4: 8 Emperor Penguins, Done. (18.0ms) Inference, (0.9ms) NMS\n",
            "video 1/1 (574/791) /content/drive/MyDrive/KIT315_Project/Image_demo/penguin.mp4: 8 Emperor Penguins, Done. (11.3ms) Inference, (0.9ms) NMS\n",
            "video 1/1 (575/791) /content/drive/MyDrive/KIT315_Project/Image_demo/penguin.mp4: 8 Emperor Penguins, Done. (10.4ms) Inference, (0.8ms) NMS\n",
            "video 1/1 (576/791) /content/drive/MyDrive/KIT315_Project/Image_demo/penguin.mp4: 9 Emperor Penguins, Done. (10.5ms) Inference, (0.8ms) NMS\n",
            "video 1/1 (577/791) /content/drive/MyDrive/KIT315_Project/Image_demo/penguin.mp4: 7 Emperor Penguins, Done. (10.9ms) Inference, (0.8ms) NMS\n",
            "video 1/1 (578/791) /content/drive/MyDrive/KIT315_Project/Image_demo/penguin.mp4: 9 Emperor Penguins, Done. (10.9ms) Inference, (1.0ms) NMS\n",
            "video 1/1 (579/791) /content/drive/MyDrive/KIT315_Project/Image_demo/penguin.mp4: 9 Emperor Penguins, Done. (10.7ms) Inference, (0.9ms) NMS\n",
            "video 1/1 (580/791) /content/drive/MyDrive/KIT315_Project/Image_demo/penguin.mp4: 9 Emperor Penguins, Done. (11.2ms) Inference, (0.8ms) NMS\n",
            "video 1/1 (581/791) /content/drive/MyDrive/KIT315_Project/Image_demo/penguin.mp4: 9 Emperor Penguins, Done. (11.7ms) Inference, (0.8ms) NMS\n",
            "video 1/1 (582/791) /content/drive/MyDrive/KIT315_Project/Image_demo/penguin.mp4: 9 Emperor Penguins, Done. (11.3ms) Inference, (0.8ms) NMS\n",
            "video 1/1 (583/791) /content/drive/MyDrive/KIT315_Project/Image_demo/penguin.mp4: 9 Emperor Penguins, Done. (11.9ms) Inference, (0.9ms) NMS\n",
            "video 1/1 (584/791) /content/drive/MyDrive/KIT315_Project/Image_demo/penguin.mp4: 10 Emperor Penguins, Done. (10.6ms) Inference, (0.8ms) NMS\n",
            "video 1/1 (585/791) /content/drive/MyDrive/KIT315_Project/Image_demo/penguin.mp4: 9 Emperor Penguins, Done. (15.0ms) Inference, (0.8ms) NMS\n",
            "video 1/1 (586/791) /content/drive/MyDrive/KIT315_Project/Image_demo/penguin.mp4: 11 Emperor Penguins, Done. (12.1ms) Inference, (0.8ms) NMS\n",
            "video 1/1 (587/791) /content/drive/MyDrive/KIT315_Project/Image_demo/penguin.mp4: 10 Emperor Penguins, Done. (10.2ms) Inference, (0.8ms) NMS\n",
            "video 1/1 (588/791) /content/drive/MyDrive/KIT315_Project/Image_demo/penguin.mp4: 9 Emperor Penguins, Done. (10.9ms) Inference, (0.8ms) NMS\n",
            "video 1/1 (589/791) /content/drive/MyDrive/KIT315_Project/Image_demo/penguin.mp4: 9 Emperor Penguins, Done. (11.4ms) Inference, (0.8ms) NMS\n",
            "video 1/1 (590/791) /content/drive/MyDrive/KIT315_Project/Image_demo/penguin.mp4: 11 Emperor Penguins, Done. (10.4ms) Inference, (0.9ms) NMS\n",
            "video 1/1 (591/791) /content/drive/MyDrive/KIT315_Project/Image_demo/penguin.mp4: 10 Emperor Penguins, Done. (11.0ms) Inference, (0.8ms) NMS\n",
            "video 1/1 (592/791) /content/drive/MyDrive/KIT315_Project/Image_demo/penguin.mp4: 10 Emperor Penguins, Done. (10.7ms) Inference, (0.8ms) NMS\n",
            "video 1/1 (593/791) /content/drive/MyDrive/KIT315_Project/Image_demo/penguin.mp4: 9 Emperor Penguins, Done. (11.3ms) Inference, (0.8ms) NMS\n",
            "video 1/1 (594/791) /content/drive/MyDrive/KIT315_Project/Image_demo/penguin.mp4: 9 Emperor Penguins, Done. (11.0ms) Inference, (0.9ms) NMS\n",
            "video 1/1 (595/791) /content/drive/MyDrive/KIT315_Project/Image_demo/penguin.mp4: 9 Emperor Penguins, Done. (10.9ms) Inference, (0.9ms) NMS\n",
            "video 1/1 (596/791) /content/drive/MyDrive/KIT315_Project/Image_demo/penguin.mp4: 9 Emperor Penguins, Done. (10.9ms) Inference, (0.8ms) NMS\n",
            "video 1/1 (597/791) /content/drive/MyDrive/KIT315_Project/Image_demo/penguin.mp4: 9 Emperor Penguins, Done. (15.7ms) Inference, (0.9ms) NMS\n",
            "video 1/1 (598/791) /content/drive/MyDrive/KIT315_Project/Image_demo/penguin.mp4: 9 Emperor Penguins, Done. (11.4ms) Inference, (0.9ms) NMS\n",
            "video 1/1 (599/791) /content/drive/MyDrive/KIT315_Project/Image_demo/penguin.mp4: 9 Emperor Penguins, Done. (10.8ms) Inference, (0.8ms) NMS\n",
            "video 1/1 (600/791) /content/drive/MyDrive/KIT315_Project/Image_demo/penguin.mp4: 9 Emperor Penguins, Done. (10.4ms) Inference, (0.8ms) NMS\n",
            "video 1/1 (601/791) /content/drive/MyDrive/KIT315_Project/Image_demo/penguin.mp4: 9 Emperor Penguins, Done. (11.7ms) Inference, (0.8ms) NMS\n",
            "video 1/1 (602/791) /content/drive/MyDrive/KIT315_Project/Image_demo/penguin.mp4: 9 Emperor Penguins, Done. (10.4ms) Inference, (0.8ms) NMS\n",
            "video 1/1 (603/791) /content/drive/MyDrive/KIT315_Project/Image_demo/penguin.mp4: 9 Emperor Penguins, Done. (11.0ms) Inference, (0.9ms) NMS\n",
            "video 1/1 (604/791) /content/drive/MyDrive/KIT315_Project/Image_demo/penguin.mp4: 9 Emperor Penguins, Done. (10.5ms) Inference, (0.8ms) NMS\n",
            "video 1/1 (605/791) /content/drive/MyDrive/KIT315_Project/Image_demo/penguin.mp4: 9 Emperor Penguins, Done. (12.1ms) Inference, (0.9ms) NMS\n",
            "video 1/1 (606/791) /content/drive/MyDrive/KIT315_Project/Image_demo/penguin.mp4: 9 Emperor Penguins, Done. (11.5ms) Inference, (0.9ms) NMS\n",
            "video 1/1 (607/791) /content/drive/MyDrive/KIT315_Project/Image_demo/penguin.mp4: 10 Emperor Penguins, Done. (10.8ms) Inference, (0.9ms) NMS\n",
            "video 1/1 (608/791) /content/drive/MyDrive/KIT315_Project/Image_demo/penguin.mp4: 10 Emperor Penguins, Done. (10.6ms) Inference, (0.8ms) NMS\n",
            "video 1/1 (609/791) /content/drive/MyDrive/KIT315_Project/Image_demo/penguin.mp4: 10 Emperor Penguins, Done. (16.9ms) Inference, (0.9ms) NMS\n",
            "video 1/1 (610/791) /content/drive/MyDrive/KIT315_Project/Image_demo/penguin.mp4: 11 Emperor Penguins, Done. (13.1ms) Inference, (0.8ms) NMS\n",
            "video 1/1 (611/791) /content/drive/MyDrive/KIT315_Project/Image_demo/penguin.mp4: 4 Emperor Penguins, Done. (11.1ms) Inference, (0.8ms) NMS\n",
            "video 1/1 (612/791) /content/drive/MyDrive/KIT315_Project/Image_demo/penguin.mp4: 3 Emperor Penguins, Done. (10.8ms) Inference, (1.2ms) NMS\n",
            "video 1/1 (613/791) /content/drive/MyDrive/KIT315_Project/Image_demo/penguin.mp4: 5 Emperor Penguins, Done. (14.3ms) Inference, (1.0ms) NMS\n",
            "video 1/1 (614/791) /content/drive/MyDrive/KIT315_Project/Image_demo/penguin.mp4: 4 Emperor Penguins, Done. (10.3ms) Inference, (0.8ms) NMS\n",
            "video 1/1 (615/791) /content/drive/MyDrive/KIT315_Project/Image_demo/penguin.mp4: 5 Emperor Penguins, Done. (10.0ms) Inference, (0.8ms) NMS\n",
            "video 1/1 (616/791) /content/drive/MyDrive/KIT315_Project/Image_demo/penguin.mp4: 5 Emperor Penguins, Done. (10.7ms) Inference, (0.8ms) NMS\n",
            "video 1/1 (617/791) /content/drive/MyDrive/KIT315_Project/Image_demo/penguin.mp4: 5 Emperor Penguins, Done. (15.2ms) Inference, (0.8ms) NMS\n",
            "video 1/1 (618/791) /content/drive/MyDrive/KIT315_Project/Image_demo/penguin.mp4: 6 Emperor Penguins, Done. (11.5ms) Inference, (0.8ms) NMS\n",
            "video 1/1 (619/791) /content/drive/MyDrive/KIT315_Project/Image_demo/penguin.mp4: 7 Emperor Penguins, Done. (10.9ms) Inference, (0.8ms) NMS\n",
            "video 1/1 (620/791) /content/drive/MyDrive/KIT315_Project/Image_demo/penguin.mp4: 7 Emperor Penguins, Done. (11.5ms) Inference, (0.9ms) NMS\n",
            "video 1/1 (621/791) /content/drive/MyDrive/KIT315_Project/Image_demo/penguin.mp4: 7 Emperor Penguins, Done. (12.4ms) Inference, (0.9ms) NMS\n",
            "video 1/1 (622/791) /content/drive/MyDrive/KIT315_Project/Image_demo/penguin.mp4: 7 Emperor Penguins, Done. (10.5ms) Inference, (0.9ms) NMS\n",
            "video 1/1 (623/791) /content/drive/MyDrive/KIT315_Project/Image_demo/penguin.mp4: 7 Emperor Penguins, Done. (11.3ms) Inference, (1.1ms) NMS\n",
            "video 1/1 (624/791) /content/drive/MyDrive/KIT315_Project/Image_demo/penguin.mp4: 8 Emperor Penguins, Done. (11.8ms) Inference, (0.9ms) NMS\n",
            "video 1/1 (625/791) /content/drive/MyDrive/KIT315_Project/Image_demo/penguin.mp4: 7 Emperor Penguins, Done. (11.5ms) Inference, (0.8ms) NMS\n",
            "video 1/1 (626/791) /content/drive/MyDrive/KIT315_Project/Image_demo/penguin.mp4: 5 Emperor Penguins, Done. (12.6ms) Inference, (0.9ms) NMS\n",
            "video 1/1 (627/791) /content/drive/MyDrive/KIT315_Project/Image_demo/penguin.mp4: 9 Emperor Penguins, Done. (11.0ms) Inference, (0.9ms) NMS\n",
            "video 1/1 (628/791) /content/drive/MyDrive/KIT315_Project/Image_demo/penguin.mp4: 9 Emperor Penguins, Done. (10.9ms) Inference, (0.9ms) NMS\n",
            "video 1/1 (629/791) /content/drive/MyDrive/KIT315_Project/Image_demo/penguin.mp4: 8 Emperor Penguins, Done. (16.8ms) Inference, (1.1ms) NMS\n",
            "video 1/1 (630/791) /content/drive/MyDrive/KIT315_Project/Image_demo/penguin.mp4: 7 Emperor Penguins, Done. (11.7ms) Inference, (0.9ms) NMS\n",
            "video 1/1 (631/791) /content/drive/MyDrive/KIT315_Project/Image_demo/penguin.mp4: 7 Emperor Penguins, Done. (10.4ms) Inference, (0.9ms) NMS\n",
            "video 1/1 (632/791) /content/drive/MyDrive/KIT315_Project/Image_demo/penguin.mp4: 6 Emperor Penguins, Done. (10.8ms) Inference, (0.8ms) NMS\n",
            "video 1/1 (633/791) /content/drive/MyDrive/KIT315_Project/Image_demo/penguin.mp4: 6 Emperor Penguins, Done. (12.2ms) Inference, (0.8ms) NMS\n",
            "video 1/1 (634/791) /content/drive/MyDrive/KIT315_Project/Image_demo/penguin.mp4: 8 Emperor Penguins, Done. (11.1ms) Inference, (0.8ms) NMS\n",
            "video 1/1 (635/791) /content/drive/MyDrive/KIT315_Project/Image_demo/penguin.mp4: 7 Emperor Penguins, Done. (10.8ms) Inference, (0.9ms) NMS\n",
            "video 1/1 (636/791) /content/drive/MyDrive/KIT315_Project/Image_demo/penguin.mp4: 10 Emperor Penguins, Done. (10.7ms) Inference, (0.8ms) NMS\n",
            "video 1/1 (637/791) /content/drive/MyDrive/KIT315_Project/Image_demo/penguin.mp4: 9 Emperor Penguins, Done. (10.9ms) Inference, (0.8ms) NMS\n",
            "video 1/1 (638/791) /content/drive/MyDrive/KIT315_Project/Image_demo/penguin.mp4: 12 Emperor Penguins, Done. (11.2ms) Inference, (0.8ms) NMS\n",
            "video 1/1 (639/791) /content/drive/MyDrive/KIT315_Project/Image_demo/penguin.mp4: 9 Emperor Penguins, Done. (10.9ms) Inference, (0.8ms) NMS\n",
            "video 1/1 (640/791) /content/drive/MyDrive/KIT315_Project/Image_demo/penguin.mp4: 9 Emperor Penguins, Done. (10.7ms) Inference, (0.9ms) NMS\n",
            "video 1/1 (641/791) /content/drive/MyDrive/KIT315_Project/Image_demo/penguin.mp4: 10 Emperor Penguins, Done. (14.4ms) Inference, (1.6ms) NMS\n",
            "video 1/1 (642/791) /content/drive/MyDrive/KIT315_Project/Image_demo/penguin.mp4: 10 Emperor Penguins, Done. (11.6ms) Inference, (0.9ms) NMS\n",
            "video 1/1 (643/791) /content/drive/MyDrive/KIT315_Project/Image_demo/penguin.mp4: 9 Emperor Penguins, Done. (11.1ms) Inference, (0.9ms) NMS\n",
            "video 1/1 (644/791) /content/drive/MyDrive/KIT315_Project/Image_demo/penguin.mp4: 9 Emperor Penguins, Done. (10.4ms) Inference, (0.9ms) NMS\n",
            "video 1/1 (645/791) /content/drive/MyDrive/KIT315_Project/Image_demo/penguin.mp4: 10 Emperor Penguins, Done. (11.6ms) Inference, (0.9ms) NMS\n",
            "video 1/1 (646/791) /content/drive/MyDrive/KIT315_Project/Image_demo/penguin.mp4: 9 Emperor Penguins, Done. (11.5ms) Inference, (0.9ms) NMS\n",
            "video 1/1 (647/791) /content/drive/MyDrive/KIT315_Project/Image_demo/penguin.mp4: 8 Emperor Penguins, Done. (10.7ms) Inference, (0.9ms) NMS\n",
            "video 1/1 (648/791) /content/drive/MyDrive/KIT315_Project/Image_demo/penguin.mp4: 7 Emperor Penguins, Done. (11.7ms) Inference, (0.9ms) NMS\n",
            "video 1/1 (649/791) /content/drive/MyDrive/KIT315_Project/Image_demo/penguin.mp4: 7 Emperor Penguins, Done. (11.2ms) Inference, (0.9ms) NMS\n",
            "video 1/1 (650/791) /content/drive/MyDrive/KIT315_Project/Image_demo/penguin.mp4: 7 Emperor Penguins, Done. (11.0ms) Inference, (0.8ms) NMS\n",
            "video 1/1 (651/791) /content/drive/MyDrive/KIT315_Project/Image_demo/penguin.mp4: 7 Emperor Penguins, Done. (11.4ms) Inference, (0.8ms) NMS\n",
            "video 1/1 (652/791) /content/drive/MyDrive/KIT315_Project/Image_demo/penguin.mp4: 7 Emperor Penguins, Done. (11.2ms) Inference, (0.8ms) NMS\n",
            "video 1/1 (653/791) /content/drive/MyDrive/KIT315_Project/Image_demo/penguin.mp4: 7 Emperor Penguins, Done. (11.3ms) Inference, (0.8ms) NMS\n",
            "video 1/1 (654/791) /content/drive/MyDrive/KIT315_Project/Image_demo/penguin.mp4: 7 Emperor Penguins, Done. (18.3ms) Inference, (1.0ms) NMS\n",
            "video 1/1 (655/791) /content/drive/MyDrive/KIT315_Project/Image_demo/penguin.mp4: 8 Emperor Penguins, Done. (10.9ms) Inference, (0.9ms) NMS\n",
            "video 1/1 (656/791) /content/drive/MyDrive/KIT315_Project/Image_demo/penguin.mp4: 8 Emperor Penguins, Done. (11.6ms) Inference, (0.8ms) NMS\n",
            "video 1/1 (657/791) /content/drive/MyDrive/KIT315_Project/Image_demo/penguin.mp4: 8 Emperor Penguins, Done. (13.2ms) Inference, (0.9ms) NMS\n",
            "video 1/1 (658/791) /content/drive/MyDrive/KIT315_Project/Image_demo/penguin.mp4: 7 Emperor Penguins, Done. (12.5ms) Inference, (1.0ms) NMS\n",
            "video 1/1 (659/791) /content/drive/MyDrive/KIT315_Project/Image_demo/penguin.mp4: 7 Emperor Penguins, Done. (12.8ms) Inference, (1.0ms) NMS\n",
            "video 1/1 (660/791) /content/drive/MyDrive/KIT315_Project/Image_demo/penguin.mp4: 9 Emperor Penguins, Done. (12.8ms) Inference, (1.0ms) NMS\n",
            "video 1/1 (661/791) /content/drive/MyDrive/KIT315_Project/Image_demo/penguin.mp4: 9 Emperor Penguins, Done. (16.6ms) Inference, (0.9ms) NMS\n",
            "video 1/1 (662/791) /content/drive/MyDrive/KIT315_Project/Image_demo/penguin.mp4: 8 Emperor Penguins, Done. (11.3ms) Inference, (0.9ms) NMS\n",
            "video 1/1 (663/791) /content/drive/MyDrive/KIT315_Project/Image_demo/penguin.mp4: 9 Emperor Penguins, Done. (11.1ms) Inference, (0.8ms) NMS\n",
            "video 1/1 (664/791) /content/drive/MyDrive/KIT315_Project/Image_demo/penguin.mp4: 8 Emperor Penguins, Done. (10.9ms) Inference, (0.9ms) NMS\n",
            "video 1/1 (665/791) /content/drive/MyDrive/KIT315_Project/Image_demo/penguin.mp4: 9 Emperor Penguins, Done. (12.4ms) Inference, (1.3ms) NMS\n",
            "video 1/1 (666/791) /content/drive/MyDrive/KIT315_Project/Image_demo/penguin.mp4: 9 Emperor Penguins, Done. (10.9ms) Inference, (0.8ms) NMS\n",
            "video 1/1 (667/791) /content/drive/MyDrive/KIT315_Project/Image_demo/penguin.mp4: 11 Emperor Penguins, Done. (11.0ms) Inference, (0.8ms) NMS\n",
            "video 1/1 (668/791) /content/drive/MyDrive/KIT315_Project/Image_demo/penguin.mp4: 11 Emperor Penguins, Done. (10.9ms) Inference, (0.8ms) NMS\n",
            "video 1/1 (669/791) /content/drive/MyDrive/KIT315_Project/Image_demo/penguin.mp4: 10 Emperor Penguins, Done. (11.0ms) Inference, (0.8ms) NMS\n",
            "video 1/1 (670/791) /content/drive/MyDrive/KIT315_Project/Image_demo/penguin.mp4: 9 Emperor Penguins, Done. (11.0ms) Inference, (0.8ms) NMS\n",
            "video 1/1 (671/791) /content/drive/MyDrive/KIT315_Project/Image_demo/penguin.mp4: 13 Emperor Penguins, Done. (10.7ms) Inference, (0.8ms) NMS\n",
            "video 1/1 (672/791) /content/drive/MyDrive/KIT315_Project/Image_demo/penguin.mp4: 11 Emperor Penguins, Done. (10.8ms) Inference, (0.8ms) NMS\n",
            "video 1/1 (673/791) /content/drive/MyDrive/KIT315_Project/Image_demo/penguin.mp4: 11 Emperor Penguins, Done. (13.0ms) Inference, (1.2ms) NMS\n",
            "video 1/1 (674/791) /content/drive/MyDrive/KIT315_Project/Image_demo/penguin.mp4: 10 Emperor Penguins, Done. (10.6ms) Inference, (0.8ms) NMS\n",
            "video 1/1 (675/791) /content/drive/MyDrive/KIT315_Project/Image_demo/penguin.mp4: 10 Emperor Penguins, Done. (10.6ms) Inference, (0.8ms) NMS\n",
            "video 1/1 (676/791) /content/drive/MyDrive/KIT315_Project/Image_demo/penguin.mp4: 7 Emperor Penguins, Done. (15.0ms) Inference, (0.8ms) NMS\n",
            "video 1/1 (677/791) /content/drive/MyDrive/KIT315_Project/Image_demo/penguin.mp4: 9 Emperor Penguins, Done. (11.4ms) Inference, (0.8ms) NMS\n",
            "video 1/1 (678/791) /content/drive/MyDrive/KIT315_Project/Image_demo/penguin.mp4: 10 Emperor Penguins, Done. (10.7ms) Inference, (0.8ms) NMS\n",
            "video 1/1 (679/791) /content/drive/MyDrive/KIT315_Project/Image_demo/penguin.mp4: 10 Emperor Penguins, Done. (10.8ms) Inference, (0.8ms) NMS\n",
            "video 1/1 (680/791) /content/drive/MyDrive/KIT315_Project/Image_demo/penguin.mp4: 11 Emperor Penguins, Done. (10.4ms) Inference, (0.8ms) NMS\n",
            "video 1/1 (681/791) /content/drive/MyDrive/KIT315_Project/Image_demo/penguin.mp4: 12 Emperor Penguins, Done. (11.0ms) Inference, (0.8ms) NMS\n",
            "video 1/1 (682/791) /content/drive/MyDrive/KIT315_Project/Image_demo/penguin.mp4: 11 Emperor Penguins, Done. (10.3ms) Inference, (0.8ms) NMS\n",
            "video 1/1 (683/791) /content/drive/MyDrive/KIT315_Project/Image_demo/penguin.mp4: 8 Emperor Penguins, Done. (10.3ms) Inference, (0.8ms) NMS\n",
            "video 1/1 (684/791) /content/drive/MyDrive/KIT315_Project/Image_demo/penguin.mp4: 8 Emperor Penguins, Done. (10.5ms) Inference, (0.8ms) NMS\n",
            "video 1/1 (685/791) /content/drive/MyDrive/KIT315_Project/Image_demo/penguin.mp4: 10 Emperor Penguins, Done. (12.1ms) Inference, (0.8ms) NMS\n",
            "video 1/1 (686/791) /content/drive/MyDrive/KIT315_Project/Image_demo/penguin.mp4: 8 Emperor Penguins, Done. (15.7ms) Inference, (0.8ms) NMS\n",
            "video 1/1 (687/791) /content/drive/MyDrive/KIT315_Project/Image_demo/penguin.mp4: 6 Emperor Penguins, Done. (10.9ms) Inference, (0.8ms) NMS\n",
            "video 1/1 (688/791) /content/drive/MyDrive/KIT315_Project/Image_demo/penguin.mp4: 8 Emperor Penguins, Done. (10.8ms) Inference, (0.9ms) NMS\n",
            "video 1/1 (689/791) /content/drive/MyDrive/KIT315_Project/Image_demo/penguin.mp4: 7 Emperor Penguins, Done. (10.8ms) Inference, (0.9ms) NMS\n",
            "video 1/1 (690/791) /content/drive/MyDrive/KIT315_Project/Image_demo/penguin.mp4: 7 Emperor Penguins, Done. (11.9ms) Inference, (1.0ms) NMS\n",
            "video 1/1 (691/791) /content/drive/MyDrive/KIT315_Project/Image_demo/penguin.mp4: 6 Emperor Penguins, Done. (10.5ms) Inference, (0.8ms) NMS\n",
            "video 1/1 (692/791) /content/drive/MyDrive/KIT315_Project/Image_demo/penguin.mp4: 6 Emperor Penguins, Done. (10.1ms) Inference, (0.8ms) NMS\n",
            "video 1/1 (693/791) /content/drive/MyDrive/KIT315_Project/Image_demo/penguin.mp4: 9 Emperor Penguins, Done. (10.6ms) Inference, (0.8ms) NMS\n",
            "video 1/1 (694/791) /content/drive/MyDrive/KIT315_Project/Image_demo/penguin.mp4: 9 Emperor Penguins, Done. (11.8ms) Inference, (0.9ms) NMS\n",
            "video 1/1 (695/791) /content/drive/MyDrive/KIT315_Project/Image_demo/penguin.mp4: 8 Emperor Penguins, Done. (17.9ms) Inference, (1.0ms) NMS\n",
            "video 1/1 (696/791) /content/drive/MyDrive/KIT315_Project/Image_demo/penguin.mp4: 8 Emperor Penguins, Done. (10.6ms) Inference, (0.9ms) NMS\n",
            "video 1/1 (697/791) /content/drive/MyDrive/KIT315_Project/Image_demo/penguin.mp4: 6 Emperor Penguins, Done. (10.7ms) Inference, (0.8ms) NMS\n",
            "video 1/1 (698/791) /content/drive/MyDrive/KIT315_Project/Image_demo/penguin.mp4: 6 Emperor Penguins, Done. (14.0ms) Inference, (0.8ms) NMS\n",
            "video 1/1 (699/791) /content/drive/MyDrive/KIT315_Project/Image_demo/penguin.mp4: 5 Emperor Penguins, Done. (11.5ms) Inference, (0.8ms) NMS\n",
            "video 1/1 (700/791) /content/drive/MyDrive/KIT315_Project/Image_demo/penguin.mp4: 5 Emperor Penguins, Done. (10.9ms) Inference, (0.8ms) NMS\n",
            "video 1/1 (701/791) /content/drive/MyDrive/KIT315_Project/Image_demo/penguin.mp4: 5 Emperor Penguins, Done. (10.5ms) Inference, (0.8ms) NMS\n",
            "video 1/1 (702/791) /content/drive/MyDrive/KIT315_Project/Image_demo/penguin.mp4: 6 Emperor Penguins, Done. (11.3ms) Inference, (0.9ms) NMS\n",
            "video 1/1 (703/791) /content/drive/MyDrive/KIT315_Project/Image_demo/penguin.mp4: 5 Emperor Penguins, Done. (10.8ms) Inference, (0.8ms) NMS\n",
            "video 1/1 (704/791) /content/drive/MyDrive/KIT315_Project/Image_demo/penguin.mp4: 5 Emperor Penguins, Done. (10.7ms) Inference, (0.8ms) NMS\n",
            "video 1/1 (705/791) /content/drive/MyDrive/KIT315_Project/Image_demo/penguin.mp4: 4 Emperor Penguins, Done. (10.7ms) Inference, (0.8ms) NMS\n",
            "video 1/1 (706/791) /content/drive/MyDrive/KIT315_Project/Image_demo/penguin.mp4: 5 Emperor Penguins, Done. (10.8ms) Inference, (0.8ms) NMS\n",
            "video 1/1 (707/791) /content/drive/MyDrive/KIT315_Project/Image_demo/penguin.mp4: 4 Emperor Penguins, Done. (14.4ms) Inference, (0.9ms) NMS\n",
            "video 1/1 (708/791) /content/drive/MyDrive/KIT315_Project/Image_demo/penguin.mp4: 6 Emperor Penguins, Done. (10.3ms) Inference, (0.8ms) NMS\n",
            "video 1/1 (709/791) /content/drive/MyDrive/KIT315_Project/Image_demo/penguin.mp4: 6 Emperor Penguins, Done. (10.4ms) Inference, (0.8ms) NMS\n",
            "video 1/1 (710/791) /content/drive/MyDrive/KIT315_Project/Image_demo/penguin.mp4: 7 Emperor Penguins, Done. (11.9ms) Inference, (0.8ms) NMS\n",
            "video 1/1 (711/791) /content/drive/MyDrive/KIT315_Project/Image_demo/penguin.mp4: 7 Emperor Penguins, Done. (11.0ms) Inference, (1.5ms) NMS\n",
            "video 1/1 (712/791) /content/drive/MyDrive/KIT315_Project/Image_demo/penguin.mp4: 6 Emperor Penguins, Done. (10.9ms) Inference, (0.8ms) NMS\n",
            "video 1/1 (713/791) /content/drive/MyDrive/KIT315_Project/Image_demo/penguin.mp4: 7 Emperor Penguins, Done. (10.5ms) Inference, (0.8ms) NMS\n",
            "video 1/1 (714/791) /content/drive/MyDrive/KIT315_Project/Image_demo/penguin.mp4: 7 Emperor Penguins, Done. (10.8ms) Inference, (0.8ms) NMS\n",
            "video 1/1 (715/791) /content/drive/MyDrive/KIT315_Project/Image_demo/penguin.mp4: 7 Emperor Penguins, Done. (11.4ms) Inference, (0.9ms) NMS\n",
            "video 1/1 (716/791) /content/drive/MyDrive/KIT315_Project/Image_demo/penguin.mp4: 10 Emperor Penguins, Done. (10.8ms) Inference, (0.8ms) NMS\n",
            "video 1/1 (717/791) /content/drive/MyDrive/KIT315_Project/Image_demo/penguin.mp4: 11 Emperor Penguins, Done. (10.7ms) Inference, (0.8ms) NMS\n",
            "video 1/1 (718/791) /content/drive/MyDrive/KIT315_Project/Image_demo/penguin.mp4: 10 Emperor Penguins, Done. (10.9ms) Inference, (0.8ms) NMS\n",
            "video 1/1 (719/791) /content/drive/MyDrive/KIT315_Project/Image_demo/penguin.mp4: 9 Emperor Penguins, Done. (11.9ms) Inference, (1.5ms) NMS\n",
            "video 1/1 (720/791) /content/drive/MyDrive/KIT315_Project/Image_demo/penguin.mp4: 8 Emperor Penguins, Done. (11.5ms) Inference, (0.8ms) NMS\n",
            "video 1/1 (721/791) /content/drive/MyDrive/KIT315_Project/Image_demo/penguin.mp4: 7 Emperor Penguins, Done. (10.6ms) Inference, (0.8ms) NMS\n",
            "video 1/1 (722/791) /content/drive/MyDrive/KIT315_Project/Image_demo/penguin.mp4: 9 Emperor Penguins, Done. (11.6ms) Inference, (0.8ms) NMS\n",
            "video 1/1 (723/791) /content/drive/MyDrive/KIT315_Project/Image_demo/penguin.mp4: 8 Emperor Penguins, Done. (11.0ms) Inference, (0.8ms) NMS\n",
            "video 1/1 (724/791) /content/drive/MyDrive/KIT315_Project/Image_demo/penguin.mp4: 7 Emperor Penguins, Done. (10.7ms) Inference, (0.8ms) NMS\n",
            "video 1/1 (725/791) /content/drive/MyDrive/KIT315_Project/Image_demo/penguin.mp4: 7 Emperor Penguins, Done. (11.6ms) Inference, (0.9ms) NMS\n",
            "video 1/1 (726/791) /content/drive/MyDrive/KIT315_Project/Image_demo/penguin.mp4: 5 Emperor Penguins, Done. (10.4ms) Inference, (0.8ms) NMS\n",
            "video 1/1 (727/791) /content/drive/MyDrive/KIT315_Project/Image_demo/penguin.mp4: 5 Emperor Penguins, Done. (11.0ms) Inference, (0.8ms) NMS\n",
            "video 1/1 (728/791) /content/drive/MyDrive/KIT315_Project/Image_demo/penguin.mp4: 5 Emperor Penguins, Done. (14.0ms) Inference, (1.7ms) NMS\n",
            "video 1/1 (729/791) /content/drive/MyDrive/KIT315_Project/Image_demo/penguin.mp4: 4 Emperor Penguins, Done. (11.0ms) Inference, (0.8ms) NMS\n",
            "video 1/1 (730/791) /content/drive/MyDrive/KIT315_Project/Image_demo/penguin.mp4: 5 Emperor Penguins, Done. (11.2ms) Inference, (0.8ms) NMS\n",
            "video 1/1 (731/791) /content/drive/MyDrive/KIT315_Project/Image_demo/penguin.mp4: 4 Emperor Penguins, Done. (12.3ms) Inference, (0.8ms) NMS\n",
            "video 1/1 (732/791) /content/drive/MyDrive/KIT315_Project/Image_demo/penguin.mp4: 4 Emperor Penguins, Done. (11.5ms) Inference, (0.8ms) NMS\n",
            "video 1/1 (733/791) /content/drive/MyDrive/KIT315_Project/Image_demo/penguin.mp4: 4 Emperor Penguins, Done. (12.6ms) Inference, (0.8ms) NMS\n",
            "video 1/1 (734/791) /content/drive/MyDrive/KIT315_Project/Image_demo/penguin.mp4: 4 Emperor Penguins, Done. (13.3ms) Inference, (1.0ms) NMS\n",
            "video 1/1 (735/791) /content/drive/MyDrive/KIT315_Project/Image_demo/penguin.mp4: 4 Emperor Penguins, Done. (11.1ms) Inference, (1.0ms) NMS\n",
            "video 1/1 (736/791) /content/drive/MyDrive/KIT315_Project/Image_demo/penguin.mp4: 4 Emperor Penguins, Done. (10.7ms) Inference, (1.2ms) NMS\n",
            "video 1/1 (737/791) /content/drive/MyDrive/KIT315_Project/Image_demo/penguin.mp4: 4 Emperor Penguins, Done. (12.2ms) Inference, (1.3ms) NMS\n",
            "video 1/1 (738/791) /content/drive/MyDrive/KIT315_Project/Image_demo/penguin.mp4: 5 Emperor Penguins, Done. (12.6ms) Inference, (0.8ms) NMS\n",
            "video 1/1 (739/791) /content/drive/MyDrive/KIT315_Project/Image_demo/penguin.mp4: 5 Emperor Penguins, Done. (11.3ms) Inference, (1.1ms) NMS\n",
            "video 1/1 (740/791) /content/drive/MyDrive/KIT315_Project/Image_demo/penguin.mp4: 5 Emperor Penguins, Done. (13.1ms) Inference, (1.4ms) NMS\n",
            "video 1/1 (741/791) /content/drive/MyDrive/KIT315_Project/Image_demo/penguin.mp4: 5 Emperor Penguins, Done. (10.6ms) Inference, (0.9ms) NMS\n",
            "video 1/1 (742/791) /content/drive/MyDrive/KIT315_Project/Image_demo/penguin.mp4: 5 Emperor Penguins, Done. (11.1ms) Inference, (0.9ms) NMS\n",
            "video 1/1 (743/791) /content/drive/MyDrive/KIT315_Project/Image_demo/penguin.mp4: 5 Emperor Penguins, Done. (11.2ms) Inference, (0.9ms) NMS\n",
            "video 1/1 (744/791) /content/drive/MyDrive/KIT315_Project/Image_demo/penguin.mp4: 5 Emperor Penguins, Done. (10.7ms) Inference, (1.0ms) NMS\n",
            "video 1/1 (745/791) /content/drive/MyDrive/KIT315_Project/Image_demo/penguin.mp4: 5 Emperor Penguins, Done. (12.5ms) Inference, (0.9ms) NMS\n",
            "video 1/1 (746/791) /content/drive/MyDrive/KIT315_Project/Image_demo/penguin.mp4: 6 Emperor Penguins, Done. (11.0ms) Inference, (0.8ms) NMS\n",
            "video 1/1 (747/791) /content/drive/MyDrive/KIT315_Project/Image_demo/penguin.mp4: 6 Emperor Penguins, Done. (10.7ms) Inference, (0.8ms) NMS\n",
            "video 1/1 (748/791) /content/drive/MyDrive/KIT315_Project/Image_demo/penguin.mp4: 6 Emperor Penguins, Done. (13.1ms) Inference, (0.8ms) NMS\n",
            "video 1/1 (749/791) /content/drive/MyDrive/KIT315_Project/Image_demo/penguin.mp4: 6 Emperor Penguins, Done. (10.9ms) Inference, (0.8ms) NMS\n",
            "video 1/1 (750/791) /content/drive/MyDrive/KIT315_Project/Image_demo/penguin.mp4: 6 Emperor Penguins, Done. (10.5ms) Inference, (0.8ms) NMS\n",
            "video 1/1 (751/791) /content/drive/MyDrive/KIT315_Project/Image_demo/penguin.mp4: 6 Emperor Penguins, Done. (10.4ms) Inference, (0.8ms) NMS\n",
            "video 1/1 (752/791) /content/drive/MyDrive/KIT315_Project/Image_demo/penguin.mp4: 6 Emperor Penguins, Done. (10.5ms) Inference, (0.8ms) NMS\n",
            "video 1/1 (753/791) /content/drive/MyDrive/KIT315_Project/Image_demo/penguin.mp4: 6 Emperor Penguins, Done. (14.9ms) Inference, (0.9ms) NMS\n",
            "video 1/1 (754/791) /content/drive/MyDrive/KIT315_Project/Image_demo/penguin.mp4: 6 Emperor Penguins, Done. (10.5ms) Inference, (0.8ms) NMS\n",
            "video 1/1 (755/791) /content/drive/MyDrive/KIT315_Project/Image_demo/penguin.mp4: 6 Emperor Penguins, Done. (13.6ms) Inference, (0.8ms) NMS\n",
            "video 1/1 (756/791) /content/drive/MyDrive/KIT315_Project/Image_demo/penguin.mp4: 6 Emperor Penguins, Done. (11.3ms) Inference, (0.8ms) NMS\n",
            "video 1/1 (757/791) /content/drive/MyDrive/KIT315_Project/Image_demo/penguin.mp4: 6 Emperor Penguins, Done. (12.5ms) Inference, (0.8ms) NMS\n",
            "video 1/1 (758/791) /content/drive/MyDrive/KIT315_Project/Image_demo/penguin.mp4: 6 Emperor Penguins, Done. (10.9ms) Inference, (0.8ms) NMS\n",
            "video 1/1 (759/791) /content/drive/MyDrive/KIT315_Project/Image_demo/penguin.mp4: 7 Emperor Penguins, Done. (11.4ms) Inference, (0.8ms) NMS\n",
            "video 1/1 (760/791) /content/drive/MyDrive/KIT315_Project/Image_demo/penguin.mp4: 7 Emperor Penguins, Done. (10.9ms) Inference, (0.9ms) NMS\n",
            "video 1/1 (761/791) /content/drive/MyDrive/KIT315_Project/Image_demo/penguin.mp4: 7 Emperor Penguins, Done. (10.8ms) Inference, (0.8ms) NMS\n",
            "video 1/1 (762/791) /content/drive/MyDrive/KIT315_Project/Image_demo/penguin.mp4: 7 Emperor Penguins, Done. (10.9ms) Inference, (0.8ms) NMS\n",
            "video 1/1 (763/791) /content/drive/MyDrive/KIT315_Project/Image_demo/penguin.mp4: 6 Emperor Penguins, Done. (10.6ms) Inference, (0.8ms) NMS\n",
            "video 1/1 (764/791) /content/drive/MyDrive/KIT315_Project/Image_demo/penguin.mp4: 6 Emperor Penguins, Done. (11.0ms) Inference, (0.8ms) NMS\n",
            "video 1/1 (765/791) /content/drive/MyDrive/KIT315_Project/Image_demo/penguin.mp4: 6 Emperor Penguins, Done. (11.4ms) Inference, (0.8ms) NMS\n",
            "video 1/1 (766/791) /content/drive/MyDrive/KIT315_Project/Image_demo/penguin.mp4: 6 Emperor Penguins, Done. (11.8ms) Inference, (0.8ms) NMS\n",
            "video 1/1 (767/791) /content/drive/MyDrive/KIT315_Project/Image_demo/penguin.mp4: 6 Emperor Penguins, Done. (12.2ms) Inference, (0.9ms) NMS\n",
            "video 1/1 (768/791) /content/drive/MyDrive/KIT315_Project/Image_demo/penguin.mp4: 6 Emperor Penguins, Done. (12.0ms) Inference, (0.9ms) NMS\n",
            "video 1/1 (769/791) /content/drive/MyDrive/KIT315_Project/Image_demo/penguin.mp4: 6 Emperor Penguins, Done. (11.3ms) Inference, (0.9ms) NMS\n",
            "video 1/1 (770/791) /content/drive/MyDrive/KIT315_Project/Image_demo/penguin.mp4: 6 Emperor Penguins, Done. (12.8ms) Inference, (1.1ms) NMS\n",
            "video 1/1 (771/791) /content/drive/MyDrive/KIT315_Project/Image_demo/penguin.mp4: 6 Emperor Penguins, Done. (11.0ms) Inference, (0.8ms) NMS\n",
            "video 1/1 (772/791) /content/drive/MyDrive/KIT315_Project/Image_demo/penguin.mp4: 6 Emperor Penguins, Done. (11.1ms) Inference, (0.9ms) NMS\n",
            "video 1/1 (773/791) /content/drive/MyDrive/KIT315_Project/Image_demo/penguin.mp4: 6 Emperor Penguins, Done. (11.3ms) Inference, (0.8ms) NMS\n",
            "video 1/1 (774/791) /content/drive/MyDrive/KIT315_Project/Image_demo/penguin.mp4: 6 Emperor Penguins, Done. (10.8ms) Inference, (0.9ms) NMS\n",
            "video 1/1 (775/791) /content/drive/MyDrive/KIT315_Project/Image_demo/penguin.mp4: 6 Emperor Penguins, Done. (10.9ms) Inference, (0.8ms) NMS\n",
            "video 1/1 (776/791) /content/drive/MyDrive/KIT315_Project/Image_demo/penguin.mp4: 6 Emperor Penguins, Done. (10.7ms) Inference, (0.8ms) NMS\n",
            "video 1/1 (777/791) /content/drive/MyDrive/KIT315_Project/Image_demo/penguin.mp4: 6 Emperor Penguins, Done. (11.2ms) Inference, (1.0ms) NMS\n",
            "video 1/1 (778/791) /content/drive/MyDrive/KIT315_Project/Image_demo/penguin.mp4: 6 Emperor Penguins, Done. (10.7ms) Inference, (0.8ms) NMS\n",
            "video 1/1 (779/791) /content/drive/MyDrive/KIT315_Project/Image_demo/penguin.mp4: 6 Emperor Penguins, Done. (11.2ms) Inference, (0.8ms) NMS\n",
            "video 1/1 (780/791) /content/drive/MyDrive/KIT315_Project/Image_demo/penguin.mp4: 6 Emperor Penguins, Done. (12.2ms) Inference, (1.2ms) NMS\n",
            "video 1/1 (781/791) /content/drive/MyDrive/KIT315_Project/Image_demo/penguin.mp4: 6 Emperor Penguins, Done. (12.1ms) Inference, (1.3ms) NMS\n",
            "video 1/1 (782/791) /content/drive/MyDrive/KIT315_Project/Image_demo/penguin.mp4: 6 Emperor Penguins, Done. (10.9ms) Inference, (0.8ms) NMS\n",
            "video 1/1 (783/791) /content/drive/MyDrive/KIT315_Project/Image_demo/penguin.mp4: 6 Emperor Penguins, Done. (15.1ms) Inference, (0.9ms) NMS\n",
            "video 1/1 (784/791) /content/drive/MyDrive/KIT315_Project/Image_demo/penguin.mp4: 6 Emperor Penguins, Done. (11.3ms) Inference, (0.8ms) NMS\n",
            "video 1/1 (785/791) /content/drive/MyDrive/KIT315_Project/Image_demo/penguin.mp4: 6 Emperor Penguins, Done. (12.0ms) Inference, (0.8ms) NMS\n",
            "video 1/1 (786/791) /content/drive/MyDrive/KIT315_Project/Image_demo/penguin.mp4: 10 Emperor Penguins, Done. (11.8ms) Inference, (0.9ms) NMS\n",
            "video 1/1 (787/791) /content/drive/MyDrive/KIT315_Project/Image_demo/penguin.mp4: 10 Emperor Penguins, Done. (12.5ms) Inference, (0.9ms) NMS\n",
            "video 1/1 (788/791) /content/drive/MyDrive/KIT315_Project/Image_demo/penguin.mp4: 10 Emperor Penguins, Done. (10.6ms) Inference, (0.9ms) NMS\n",
            "video 1/1 (789/791) /content/drive/MyDrive/KIT315_Project/Image_demo/penguin.mp4: 12 Emperor Penguins, Done. (10.9ms) Inference, (0.9ms) NMS\n",
            "video 1/1 (790/791) /content/drive/MyDrive/KIT315_Project/Image_demo/penguin.mp4: 12 Emperor Penguins, Done. (11.6ms) Inference, (0.9ms) NMS\n",
            "video 1/1 (791/791) /content/drive/MyDrive/KIT315_Project/Image_demo/penguin.mp4: 12 Emperor Penguins, Done. (11.0ms) Inference, (0.8ms) NMS\n",
            "Done. (20.857s)\n"
          ]
        }
      ]
    },
    {
      "cell_type": "code",
      "source": [
        "!zip -r export.zip runs/detect\n",
        "!zip -r export.zip runs/train/exp/weights/best.pt\n",
        "!zip export.zip runs/train/exp/*"
      ],
      "metadata": {
        "id": "k9I0tHbQQz-f"
      },
      "execution_count": null,
      "outputs": []
    },
    {
      "cell_type": "markdown",
      "source": [
        "# ***Model Evaluation and Selection***"
      ],
      "metadata": {
        "id": "ktq89ahKqTWu"
      }
    },
    {
      "cell_type": "markdown",
      "source": [
        "## ***Train the best model***"
      ],
      "metadata": {
        "id": "sKmBHI2bB7eo"
      }
    },
    {
      "cell_type": "markdown",
      "source": [
        "<p align=\"justify\"> \n",
        "Based on the model evaluation and selection steps mentioned in previous sections, now I will train the best model - TODO, and save it for later use.\n",
        "</p>"
      ],
      "metadata": {
        "id": "8hyzjS59Dwyd"
      }
    },
    {
      "cell_type": "code",
      "source": [],
      "metadata": {
        "id": "6z4_9msLELAE"
      },
      "execution_count": null,
      "outputs": []
    },
    {
      "cell_type": "markdown",
      "source": [
        "# ***Apply Model***"
      ],
      "metadata": {
        "id": "KiBtU_lwqvVx"
      }
    },
    {
      "cell_type": "markdown",
      "source": [
        "<p align=\"justify\"> \n",
        "In this last section, I will apply the best model I've developed in previous steps to the new data (the samples mainly represent two different scenarios which are <b><i>images</i></b> and <b><i>videos</i></b>).\n",
        "<p align=\"justify\"> "
      ],
      "metadata": {
        "id": "t1B6vFgPB7Fp"
      }
    },
    {
      "cell_type": "code",
      "source": [],
      "metadata": {
        "id": "PH5dN40vMl1A"
      },
      "execution_count": null,
      "outputs": []
    }
  ]
}